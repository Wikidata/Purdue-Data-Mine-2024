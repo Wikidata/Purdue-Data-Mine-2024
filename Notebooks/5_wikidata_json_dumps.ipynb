{
 "cells": [
  {
   "cell_type": "markdown",
   "id": "f66e1ce5-8385-4e98-802a-36085f8c9653",
   "metadata": {},
   "source": [
    "# Wikidata JSON Dumps\n",
    "\n",
    "> Welcome!\n",
    "> \n",
    "> For this notebook we will not be using [PAWS](https://hub-paws.wmcloud.org/) as the data sizes are too large\n",
    "\n",
    "This notebook provides an overview of working with the [Wikidata Dumps](https://www.wikidata.org/wiki/Wikidata:Database_download) using [requests](https://requests.readthedocs.io/en/latest/) and other Python libraries. For the functions that are used for this notebook, please see the [mismatch generation utils file on GitHub](https://github.com/Wikidata/Purdue-Data-Mine-2024/blob/main/MismatchGeneration/utils.py). The dumps themselves can be found at [dumps.wikimedia.org/other/wikibase/wikidatawiki](https://dumps.wikimedia.org/other/wikibase/wikidatawiki/).\n",
    "\n",
    "**Note**: if you ever find yourself working with the dumps for other Wikimedia projects, we'd suggest using the XML dumps instead of the JSON dumps as the added structure of XML allows you to more easily handle the entries. It's not a good idea to use XML for Wikidata as the format of the JSON data embedded in the XML dumps is subject to change without notice, and may be inconsistent between revisions ([source](https://www.wikidata.org/wiki/Wikidata:Database_download#XML_dumps)). For other projects XML is the preferred method."
   ]
  },
  {
   "cell_type": "code",
   "execution_count": 1,
   "id": "cecdccf6",
   "metadata": {},
   "outputs": [],
   "source": [
    "# pip install pymysql"
   ]
  },
  {
   "cell_type": "code",
   "execution_count": 2,
   "id": "88ec60f0",
   "metadata": {},
   "outputs": [],
   "source": [
    "# pip install tensorflow"
   ]
  },
  {
   "cell_type": "code",
   "execution_count": 3,
   "id": "19b7712a-e8f8-402c-8152-d65f255e9b3a",
   "metadata": {},
   "outputs": [],
   "source": [
    "# pip install jupyter-black"
   ]
  },
  {
   "cell_type": "code",
   "execution_count": 4,
   "id": "4c381353-adb4-44dd-abb8-0fd111850dd4",
   "metadata": {},
   "outputs": [
    {
     "data": {
      "text/html": [
       "\n",
       "                <script type=\"application/javascript\" id=\"jupyter_black\">\n",
       "                (function() {\n",
       "                    if (window.IPython === undefined) {\n",
       "                        return\n",
       "                    }\n",
       "                    var msg = \"WARNING: it looks like you might have loaded \" +\n",
       "                        \"jupyter_black in a non-lab notebook with \" +\n",
       "                        \"`is_lab=True`. Please double check, and if \" +\n",
       "                        \"loading with `%load_ext` please review the README!\"\n",
       "                    console.log(msg)\n",
       "                    alert(msg)\n",
       "                })()\n",
       "                </script>\n",
       "                "
      ],
      "text/plain": [
       "<IPython.core.display.HTML object>"
      ]
     },
     "metadata": {},
     "output_type": "display_data"
    }
   ],
   "source": [
    "%load_ext jupyter_black"
   ]
  },
  {
   "cell_type": "markdown",
   "id": "b6998e5b",
   "metadata": {},
   "source": [
    "## Download Dump"
   ]
  },
  {
   "cell_type": "code",
   "execution_count": 5,
   "id": "7ae05276",
   "metadata": {},
   "outputs": [],
   "source": [
    "import sys\n",
    "\n",
    "PATH_TO_UTILS = \"../MismatchGeneration/\"  # change based on your directory structure\n",
    "sys.path.append(PATH_TO_UTILS)\n",
    "\n",
    "from utils import download_wikidata_json_dump, parse_wikidata_dump_to_ndjson"
   ]
  },
  {
   "cell_type": "code",
   "execution_count": 6,
   "id": "0e0abd97",
   "metadata": {},
   "outputs": [
    {
     "name": "stdout",
     "output_type": "stream",
     "text": [
      "Target Wikidata dump file is 'latest-all.json.bz2'.\n",
      "\n",
      "The desired dump already exists locally at ../MismatchGeneration/Data/latest-all.json.bz2 (86.29 GBs). Skipping download.\n"
     ]
    }
   ],
   "source": [
    "# You cannot run this in PAWS as even a 2 GB file is too large for the system.\n",
    "download_wikidata_json_dump(\n",
    "    target_dir=\"../MismatchGeneration/Data\", dump_id=False  # get the most recent dump\n",
    ")"
   ]
  },
  {
   "cell_type": "markdown",
   "id": "fd61125f",
   "metadata": {},
   "source": [
    "## Total Wikidata Items"
   ]
  },
  {
   "cell_type": "markdown",
   "id": "6faee6f6",
   "metadata": {},
   "source": [
    "We want the total Wikidata items so that we can have a general estimate of the number of QIDs for [tqdm](https://github.com/tqdm/tqdm) progress bars when parsing the data. We're using the estimate we found in Notebook 3 because if we wanted the exact number of items in the dump, we'd need to load it all into memory."
   ]
  },
  {
   "cell_type": "code",
   "execution_count": 7,
   "id": "cb7d8861",
   "metadata": {},
   "outputs": [],
   "source": [
    "# From the Wiki Replicas section in Notebook 3.\n",
    "total_wikidata_items = 111351401  # could be used for `input_limit` in a full parse"
   ]
  },
  {
   "cell_type": "markdown",
   "id": "684ad407",
   "metadata": {},
   "source": [
    "## Parsing Dump"
   ]
  },
  {
   "cell_type": "markdown",
   "id": "f7422409",
   "metadata": {},
   "source": [
    "Returns the first two members of (`P361`) the European Union (`Q458`) given the order of the dump (Belgium and Portugal)."
   ]
  },
  {
   "cell_type": "code",
   "execution_count": 8,
   "id": "38dbb6ee-0af5-4b9d-b39d-b24459b3d1b8",
   "metadata": {
    "scrolled": true
   },
   "outputs": [
    {
     "name": "stdout",
     "output_type": "stream",
     "text": [
      "The output file ../MismatchGeneration/Data/test-parse.ndjson already exists.\n",
      "This file will be rewritten.\n"
     ]
    },
    {
     "data": {
      "application/vnd.jupyter.widget-view+json": {
       "model_id": "9e020e2ab0ca4891bd6275974051216e",
       "version_major": 2,
       "version_minor": 0
      },
      "text/plain": [
       "Outputs returned:   0%|          | 0/2 [00:00<?, ?entries/s]"
      ]
     },
     "metadata": {},
     "output_type": "display_data"
    },
    {
     "name": "stdout",
     "output_type": "stream",
     "text": [
      "Parsed 9 entries in the JSON dump into an NDJSON file with 2 entities.\n"
     ]
    }
   ],
   "source": [
    "parse_wikidata_dump_to_ndjson(\n",
    "    pids=[\"P361\"],  # what PIDs should returned entities have\n",
    "    pid_values=[\"Q458\"],  # what values should the properties have\n",
    "    pid_value_props=None,  # ex: for passing units or languages\n",
    "    prop_intersection=True,  # returned entities must have all props\n",
    "    output_file_path=\"../MismatchGeneration/Data/test-parse.ndjson\",\n",
    "    input_file_path=\"../MismatchGeneration/Data/latest-all.json.bz2\",\n",
    "    output_limit=2,\n",
    "    input_limit=None,\n",
    "    verbose=True,\n",
    ")"
   ]
  },
  {
   "cell_type": "markdown",
   "id": "2c4bfb99",
   "metadata": {},
   "source": [
    "Returns entities that have an area (`P2046`) of `30528` with a unit of square kilometers (`Q712226`) within the first two entities of the dump (Belgium)."
   ]
  },
  {
   "cell_type": "code",
   "execution_count": 9,
   "id": "0846fa34",
   "metadata": {},
   "outputs": [
    {
     "name": "stdout",
     "output_type": "stream",
     "text": [
      "The output file ../MismatchGeneration/Data/test-parse.ndjson already exists.\n",
      "This file will be rewritten.\n"
     ]
    },
    {
     "data": {
      "application/vnd.jupyter.widget-view+json": {
       "model_id": "f325e2490157466c820759bd6b943d04",
       "version_major": 2,
       "version_minor": 0
      },
      "text/plain": [
       "Entries processed:   0%|          | 0/2 [00:00<?, ?entries/s]"
      ]
     },
     "metadata": {},
     "output_type": "display_data"
    },
    {
     "name": "stdout",
     "output_type": "stream",
     "text": [
      "Parsed 2 entries in the JSON dump into an NDJSON file with 1 entities.\n"
     ]
    }
   ],
   "source": [
    "parse_wikidata_dump_to_ndjson(\n",
    "    pids=[\"P2046\"],  # what PIDs should returned entities have\n",
    "    pid_values=[\"+30528\"],  # what values should the properties have\n",
    "    pid_value_props=[\n",
    "        \"http://www.wikidata.org/entity/Q712226\"\n",
    "    ],  # ex: for passing units or languages\n",
    "    prop_intersection=True,  # returned entities must have all props\n",
    "    output_file_path=\"../MismatchGeneration/Data/test-parse.ndjson\",\n",
    "    input_file_path=\"../MismatchGeneration/Data/latest-all.json.bz2\",\n",
    "    output_limit=None,\n",
    "    input_limit=2,\n",
    "    verbose=True,\n",
    ")"
   ]
  },
  {
   "cell_type": "code",
   "execution_count": null,
   "id": "ae7b9aa9",
   "metadata": {},
   "outputs": [],
   "source": []
  }
 ],
 "metadata": {
  "kernelspec": {
   "display_name": "Python 3 (ipykernel)",
   "language": "python",
   "name": "python3"
  },
  "language_info": {
   "codemirror_mode": {
    "name": "ipython",
    "version": 3
   },
   "file_extension": ".py",
   "mimetype": "text/x-python",
   "name": "python",
   "nbconvert_exporter": "python",
   "pygments_lexer": "ipython3",
   "version": "3.11.4"
  }
 },
 "nbformat": 4,
 "nbformat_minor": 5
}
