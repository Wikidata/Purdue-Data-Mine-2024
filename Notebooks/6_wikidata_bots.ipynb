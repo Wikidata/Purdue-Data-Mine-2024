{
 "cells": [
  {
   "cell_type": "markdown",
   "metadata": {},
   "source": [
    "# Wikidata Bots\n",
    "\n",
    "> Welcome!\n",
    "> \n",
    "> Please download this notebook and load it into your [PAWS instance](https://hub-paws.wmcloud.org/)\n",
    "\n",
    "This notebook provides an overview of working with Wikidata via bots using Python frameworks.\n",
    "\n",
    "Check out the [Wikidata:Bots documentation page](https://www.wikidata.org/wiki/Wikidata:Bots) and [Wikidata:Creating a bot](https://www.wikidata.org/wiki/Wikidata:Creating_a_bot) for a full overview of the process."
   ]
  },
  {
   "cell_type": "markdown",
   "metadata": {},
   "source": [
    "## Introduction"
   ]
  },
  {
   "cell_type": "markdown",
   "metadata": {},
   "source": [
    "Source: [Wikidata:Bots](https://www.wikidata.org/wiki/Wikidata:Bots)\n",
    "\n",
    "Wikidata is meant to be edited by both humans and machines, so learning how to use bots is an invaluable step in improving your ability to have an impact on data ingestion and quality. Bots can add [interwiki links](https://www.wikidata.org/wiki/Help:Sitelinks), [labels](https://www.wikidata.org/wiki/Help:Label), [descriptions](https://www.wikidata.org/wiki/Help:Description), [statements](https://www.wikidata.org/wiki/Help:Statements), [sources](https://www.wikidata.org/wiki/Help:Sources), and can even create items, among other things.\n",
    "\n",
    "**Note**: Wikidata has a strict bot policy to assure that they are used in a way that is beneficial to the community and project as a whole.\n",
    "\n",
    "> In the case of any damage caused by a bot, the bot operator is asked to stop the bot. Depending on the scale of the damage, an administrator may block the bot. The bot operator is responsible for cleaning up any damage caused by the bot.\n",
    "\n",
    "A summary of this policy and suggestions are:\n",
    "\n",
    "- Please [create a separate account](https://www.wikidata.org/w/index.php?title=Special:CreateAccount&returnto=Wikidata%3ABots) for your bot activity\n",
    "  - Name your bot after your normal username and add in the word `bot`\n",
    "  - The above helps identify bot activity\n",
    "    - Bot flags in our Data Lake are based on usernames and activity\n",
    "  - Create a talk page with the [bot template](https://www.wikidata.org/wiki/Template:Bot)\n",
    "    - Just put `{{Bot|USER_NAME}}` in the user page text\n",
    "- Add an [assertion](https://www.mediawiki.org/wiki/API:Assert) to your activity to make sure the bot is logged in\n",
    "  - The Python packages below will do this for you\n",
    "- Add the [bots page on Wikidata](https://www.wikidata.org/wiki/Wikidata:Bots) to your watched pages as discussions related to bots happen there\n",
    "- Bots are expected to respect [maxlag](https://www.mediawiki.org/wiki/Manual:Maxlag_parameter) and follow the [API etiquette](https://www.mediawiki.org/wiki/API:Etiquette)\n",
    "- Request permission for a bot flag at [Wikidata:Requests_for_permissions/Bot](https://www.wikidata.org/wiki/Wikidata:Requests_for_permissions/Bot)\n",
    "  - You're expected to run a test of 50-250 edits, but start the permission process before this\n",
    "  - You should outline the purpose of the bot, and if it expands too much, consider making a new request\n",
    "  - If accepted, an admin/bureaucrat will close the request and a bureaucrat will add the flag\n",
    "- No permission is needed for the following pages\n",
    "  - The operator/bot's userspace\n",
    "  - The [Wikidata sandbox](https://www.wikidata.org/wiki/Wikidata:Sandbox)\n",
    "  - The [Wikidata item sandbox](https://www.wikidata.org/wiki/Q4115189) (what we'll edit!)\n",
    "\n",
    "There are also admin bots! In addition to requesting permission for the bot, a request for [admin permissions](https://www.wikidata.org/wiki/Wikidata:Requests_for_permissions/Administrator) is also necessary.\n",
    "\n",
    "See [bot requirements](https://www.wikidata.org/wiki/Wikidata:Bots#Bot_requirements) for a full list of what is expected once your bot is up and running."
   ]
  },
  {
   "cell_type": "markdown",
   "metadata": {},
   "source": [
    "## Creating a Bot\n",
    "\n",
    "Source: [Wikidata:Creating a bot](https://www.wikidata.org/wiki/Wikidata:Creating_a_bot)\n",
    "\n",
    "There are three Python based bot libraries of note:\n",
    "- [Pywikibot](https://github.com/wikimedia/pywikibot)\n",
    "  - See: [Wikidata:Creating_a_bot#Pywikibot](https://www.wikidata.org/wiki/Wikidata:Creating_a_bot#Pywikibot)\n",
    "  - For interacting with the MediaWiki API, so not just Wikidata\n",
    "  - **Note**: at time of writing has incomplete support for lexemes (language data)\n",
    "- [Wikidata Integrator](https://github.com/SuLab/WikidataIntegrator)\n",
    "  - See: [Wikidata:Creating_a_bot#Wikidata_Integrator](https://www.wikidata.org/wiki/Wikidata:Creating_a_bot#Wikidata_Integrator)\n",
    "  - Has high integration with the Wikidata SPARQL endpoint\n",
    "- [Wikibase Integrator](https://github.com/LeMyst/WikibaseIntegrator)\n",
    "  - See: [Wikidata:Creating_a_bot#WikibaseIntegrator](https://www.wikidata.org/wiki/Wikidata:Creating_a_bot#WikibaseIntegrator)\n",
    "  - Even easier to create bots, especially for [Wikibase](https://wikiba.se/) instances\n",
    "  - Seems to have more support, and the [usage examples](https://github.com/LeMyst/WikibaseIntegrator/tree/master/notebooks)/[docs](https://wikibaseintegrator.readthedocs.io/en/stable/) are more expansive\n",
    "  - Most of what you need is in the [readme](https://github.com/LeMyst/WikibaseIntegrator?tab=readme-ov-file#wikibase-integrator)\n",
    "  \n",
    "We'll include a basic example of interacting with the [Wikidata item sandbox](https://www.wikidata.org/wiki/Q4115189) for Wikibase Integrator."
   ]
  },
  {
   "cell_type": "markdown",
   "metadata": {},
   "source": [
    "## Imports"
   ]
  },
  {
   "cell_type": "code",
   "execution_count": 1,
   "metadata": {},
   "outputs": [],
   "source": [
    "# pip install wikibaseintegrator"
   ]
  },
  {
   "cell_type": "code",
   "execution_count": 2,
   "metadata": {},
   "outputs": [
    {
     "data": {
      "text/html": [
       "\n",
       "                <script type=\"application/javascript\" id=\"jupyter_black\">\n",
       "                (function() {\n",
       "                    if (window.IPython === undefined) {\n",
       "                        return\n",
       "                    }\n",
       "                    var msg = \"WARNING: it looks like you might have loaded \" +\n",
       "                        \"jupyter_black in a non-lab notebook with \" +\n",
       "                        \"`is_lab=True`. Please double check, and if \" +\n",
       "                        \"loading with `%load_ext` please review the README!\"\n",
       "                    console.log(msg)\n",
       "                    alert(msg)\n",
       "                })()\n",
       "                </script>\n",
       "                "
      ],
      "text/plain": [
       "<IPython.core.display.HTML object>"
      ]
     },
     "metadata": {},
     "output_type": "display_data"
    }
   ],
   "source": [
    "%load_ext jupyter_black"
   ]
  },
  {
   "cell_type": "code",
   "execution_count": 3,
   "metadata": {},
   "outputs": [],
   "source": [
    "from wikibaseintegrator import WikibaseIntegrator, datatypes, wbi_login\n",
    "from wikibaseintegrator.datatypes import Item\n",
    "from wikibaseintegrator.models import Qualifiers, References, Reference\n",
    "from wikibaseintegrator.wbi_config import config"
   ]
  },
  {
   "cell_type": "markdown",
   "metadata": {},
   "source": [
    "## Wikibase Integrator Bot Examples"
   ]
  },
  {
   "cell_type": "markdown",
   "metadata": {},
   "source": [
    "For this example, we'll be using [Andrew McAllister Bot (WMDE)](https://www.wikidata.org/wiki/User:Andrew_McAllister_Bot_(WMDE))."
   ]
  },
  {
   "cell_type": "markdown",
   "metadata": {},
   "source": [
    "### Login and Create Object"
   ]
  },
  {
   "cell_type": "code",
   "execution_count": 4,
   "metadata": {},
   "outputs": [],
   "source": [
    "# Make a user agent string that clearly states the bot account.\n",
    "USER_AGENT_STRING = \"Andrew McAllister Bot (WMDE)/1.0 (https://www.wikidata.org/wiki/User:Andrew McAllister Bot (WMDE))\""
   ]
  },
  {
   "cell_type": "code",
   "execution_count": 5,
   "metadata": {},
   "outputs": [],
   "source": [
    "config[\"USER_AGENT\"] = USER_AGENT_STRING"
   ]
  },
  {
   "cell_type": "code",
   "execution_count": 6,
   "metadata": {},
   "outputs": [
    {
     "name": "stderr",
     "output_type": "stream",
     "text": [
      "WARNING:wikibaseintegrator.wbi_login:MediaWiki login warnings messages:\n",
      "WARNING:wikibaseintegrator.wbi_login:* main: Subscribe to the mediawiki-api-announce mailing list at <https://lists.wikimedia.org/postorius/lists/mediawiki-api-announce.lists.wikimedia.org/> for notice of API deprecations and breaking changes. Use [[Special:ApiFeatureUsage]] to see usage of deprecated features by your application.\n",
      "WARNING:wikibaseintegrator.wbi_login:* login: Main-account login via \"action=login\" is deprecated and may stop working without warning. To continue login with \"action=login\", see [[Special:BotPasswords]]. To safely continue using main-account login, see \"action=clientlogin\".\n"
     ]
    }
   ],
   "source": [
    "wd_user = \"Andrew McAllister Bot (WMDE)\"\n",
    "wd_pass = \"MY_BOT_ACCOUNT_PASS\"\n",
    "login_wikidata = wbi_login.Login(\n",
    "    user=wd_user,\n",
    "    password=wd_pass,\n",
    "    mediawiki_api_url=\"https://www.wikidata.org/w/api.php\",\n",
    ")"
   ]
  },
  {
   "cell_type": "code",
   "execution_count": 7,
   "metadata": {},
   "outputs": [],
   "source": [
    "# Add login credentials to your WikibaseIntegrator object so they're applied to all requests.\n",
    "wbi = WikibaseIntegrator(login=login_wikidata)"
   ]
  },
  {
   "cell_type": "markdown",
   "metadata": {},
   "source": [
    "### Access Basic Item Information"
   ]
  },
  {
   "cell_type": "code",
   "execution_count": 8,
   "metadata": {},
   "outputs": [],
   "source": [
    "WD_ITEM_SANDBOX_QID = \"Q4115189\""
   ]
  },
  {
   "cell_type": "code",
   "execution_count": 9,
   "metadata": {},
   "outputs": [],
   "source": [
    "WD_ACTION_API_ENDPOINT = \"https://www.wikidata.org/w/api.php\""
   ]
  },
  {
   "cell_type": "code",
   "execution_count": 10,
   "metadata": {},
   "outputs": [],
   "source": [
    "sandbox_entity = wbi.item.get(\n",
    "    WD_ITEM_SANDBOX_QID,\n",
    "    mediawiki_api_url=WD_ACTION_API_ENDPOINT,\n",
    ")"
   ]
  },
  {
   "cell_type": "code",
   "execution_count": 11,
   "metadata": {},
   "outputs": [
    {
     "data": {
      "text/plain": [
       "'Wikidata Sandbox'"
      ]
     },
     "execution_count": 11,
     "metadata": {},
     "output_type": "execute_result"
    }
   ],
   "source": [
    "sandbox_entity.labels.get(\"en\").value"
   ]
  },
  {
   "cell_type": "code",
   "execution_count": 12,
   "metadata": {},
   "outputs": [
    {
     "data": {
      "text/plain": [
       "'This is a sandbox for testing changes to items. Please be gentle with it. Feel free to change anything on this page! For testing links, try adding ones to userpages.'"
      ]
     },
     "execution_count": 12,
     "metadata": {},
     "output_type": "execute_result"
    }
   ],
   "source": [
    "sandbox_entity.descriptions.get(\"en\").value"
   ]
  },
  {
   "cell_type": "code",
   "execution_count": 13,
   "metadata": {},
   "outputs": [
    {
     "data": {
      "text/plain": [
       "'Q21281405'"
      ]
     },
     "execution_count": 13,
     "metadata": {},
     "output_type": "execute_result"
    }
   ],
   "source": [
    "sandbox_entity_instance_of_qid = sandbox_entity.claims.get(\"P31\")[0].mainsnak.datavalue[\n",
    "    \"value\"\n",
    "][\"id\"]\n",
    "sandbox_entity_instance_of_qid"
   ]
  },
  {
   "cell_type": "code",
   "execution_count": 14,
   "metadata": {},
   "outputs": [],
   "source": [
    "sandbox_entity_instance_of_qid_entity = wbi.item.get(\n",
    "    sandbox_entity_instance_of_qid,\n",
    "    mediawiki_api_url=WD_ACTION_API_ENDPOINT,\n",
    ")"
   ]
  },
  {
   "cell_type": "code",
   "execution_count": 15,
   "metadata": {},
   "outputs": [
    {
     "data": {
      "text/plain": [
       "'Wikidata internal entity'"
      ]
     },
     "execution_count": 15,
     "metadata": {},
     "output_type": "execute_result"
    }
   ],
   "source": [
    "sandbox_entity_instance_of_qid_entity.labels.get(\"en\").value"
   ]
  },
  {
   "cell_type": "markdown",
   "metadata": {},
   "source": [
    "### Editing the Item"
   ]
  },
  {
   "cell_type": "code",
   "execution_count": 16,
   "metadata": {},
   "outputs": [
    {
     "data": {
      "text/plain": [
       "<Claims @f10910 _Claims__claims={'P460': [<Item @13c450 _Claim__mainsnak=<Snak @607990 _Snak__snaktype=<WikibaseSnakType.KNOWN_VALUE: 'value'> _Snak__property_number='P460' _Snak__hash='b1faa2726e622bc3727462634d5fb3084e7756b2' _Snak__datavalue={'value': {'entity-type': 'item', 'numeric-id': 13406268, 'id': 'Q13406268'}, 'type': 'wikibase-entityid'} _Snak__datatype='wikibase-item'> _Claim__type='statement' _Claim__qualifiers=<Qualifiers @5fed50 _Qualifiers__qualifiers={}> _Claim__qualifiers_order=[] _Claim__id='Q4115189$0ce92f0e-46e8-fb05-bd41-e19f983485d0' _Claim__rank=<WikibaseRank.NORMAL: 'normal'> _Claim__removed=False _Claim__references=<References @9fa50 _References__references=[]>>, <Item @605110 _Claim__mainsnak=<Snak @f117d0 _Snak__snaktype=<WikibaseSnakType.KNOWN_VALUE: 'value'> _Snak__property_number='P460' _Snak__hash='d58d2897e1b93269cfa377b0b972022d2a623cc0' _Snak__datavalue={'value': {'entity-type': 'item', 'numeric-id': 15397819, 'id': 'Q15397819'}, 'type': 'wikibase-entityid'} _Snak__datatype='wikibase-item'> _Claim__type='statement' _Claim__qualifiers=<Qualifiers @f10f10 _Qualifiers__qualifiers={}> _Claim__qualifiers_order=[] _Claim__id='Q4115189$34716b81-49b2-788e-47b9-fc00d6300878' _Claim__rank=<WikibaseRank.NORMAL: 'normal'> _Claim__removed=False _Claim__references=<References @f10e90 _References__references=[]>>, <Item @14bb10 _Claim__mainsnak=<Snak @f11350 _Snak__snaktype=<WikibaseSnakType.KNOWN_VALUE: 'value'> _Snak__property_number='P460' _Snak__hash='4085745ccfe0a8dafe8409d396c72005cddd8ac2' _Snak__datavalue={'value': {'entity-type': 'item', 'numeric-id': 112795079, 'id': 'Q112795079'}, 'type': 'wikibase-entityid'} _Snak__datatype='wikibase-item'> _Claim__type='statement' _Claim__qualifiers=<Qualifiers @f106d0 _Qualifiers__qualifiers={}> _Claim__qualifiers_order=[] _Claim__id='Q4115189$53ca9586-40db-7f7a-58d6-644e752c472c' _Claim__rank=<WikibaseRank.NORMAL: 'normal'> _Claim__removed=False _Claim__references=<References @f11450 _References__references=[]>>], 'P31': [<Item @f10dd0 _Claim__mainsnak=<Snak @f11150 _Snak__snaktype=<WikibaseSnakType.KNOWN_VALUE: 'value'> _Snak__property_number='P31' _Snak__hash='d5a7ba441737489875ed734038d09d2bd5e3e0f0' _Snak__datavalue={'value': {'entity-type': 'item', 'numeric-id': 21281405, 'id': 'Q21281405'}, 'type': 'wikibase-entityid'} _Snak__datatype='wikibase-item'> _Claim__type='statement' _Claim__qualifiers=<Qualifiers @f11910 _Qualifiers__qualifiers={}> _Claim__qualifiers_order=[] _Claim__id='Q4115189$c99d6ad2-4c86-8b3a-5399-3ab1ac6c369b' _Claim__rank=<WikibaseRank.NORMAL: 'normal'> _Claim__removed=False _Claim__references=<References @f124d0 _References__references=[]>>], 'P108': [<Item @f11a10 _Claim__mainsnak=<Snak @f3bd50 _Snak__snaktype=<WikibaseSnakType.KNOWN_VALUE: 'value'> _Snak__property_number='P108' _Snak__hash='bb1fef77b1baf168336fde47fdd4ace92c9caf29' _Snak__datavalue={'value': {'entity-type': 'item', 'numeric-id': 267566, 'id': 'Q267566'}, 'type': 'wikibase-entityid'} _Snak__datatype='wikibase-item'> _Claim__type='statement' _Claim__qualifiers=<Qualifiers @f118d0 _Qualifiers__qualifiers={'P580': [<Snak @f3a9d0 _Snak__snaktype=<WikibaseSnakType.KNOWN_VALUE: 'value'> _Snak__property_number='P580' _Snak__hash='26590b4ce720720b037b6aeb24d50500196ddd32' _Snak__datavalue={'value': {'time': '+1947-00-00T00:00:00Z', 'timezone': 0, 'before': 0, 'after': 0, 'precision': 9, 'calendarmodel': 'http://www.wikidata.org/entity/Q1985727'}, 'type': 'time'} _Snak__datatype='time'>, <Snak @f3ac90 _Snak__snaktype=<WikibaseSnakType.KNOWN_VALUE: 'value'> _Snak__property_number='P580' _Snak__hash='f77e401c3294559f5f96c8fc18f16d1c6aad6e22' _Snak__datavalue={'value': {'time': '+1998-00-00T00:00:00Z', 'timezone': 0, 'before': 0, 'after': 0, 'precision': 9, 'calendarmodel': 'http://www.wikidata.org/entity/Q1985727'}, 'type': 'time'} _Snak__datatype='time'>], 'P582': [<Snak @f3a2d0 _Snak__snaktype=<WikibaseSnakType.KNOWN_VALUE: 'value'> _Snak__property_number='P582' _Snak__hash='4fe93e512f1b1822c7296bc0661984c3557dec02' _Snak__datavalue={'value': {'time': '+1986-00-00T00:00:00Z', 'timezone': 0, 'before': 0, 'after': 0, 'precision': 9, 'calendarmodel': 'http://www.wikidata.org/entity/Q1985727'}, 'type': 'time'} _Snak__datatype='time'>, <Snak @f3b090 _Snak__snaktype=<WikibaseSnakType.KNOWN_VALUE: 'value'> _Snak__property_number='P582' _Snak__hash='f84ab79307da73e0195993b8bfe549b6607b374f' _Snak__datavalue={'value': {'time': '+2002-00-00T00:00:00Z', 'timezone': 0, 'before': 0, 'after': 0, 'precision': 9, 'calendarmodel': 'http://www.wikidata.org/entity/Q1985727'}, 'type': 'time'} _Snak__datatype='time'>]}> _Claim__qualifiers_order=['P580', 'P582'] _Claim__id='Q4115189$A896BBE5-C167-47AB-A898-773BE4BFCA4F' _Claim__rank=<WikibaseRank.NORMAL: 'normal'> _Claim__removed=False _Claim__references=<References @f3a450 _References__references=[<Reference @40590 _Reference__hash='3ef6852ed3552ae0b0d054f2dd144fdcb3adcff2' _Reference__snaks=<Snaks @f3aa10 snaks={'P248': [<Snak @f3ae50 _Snak__snaktype=<WikibaseSnakType.KNOWN_VALUE: 'value'> _Snak__property_number='P248' _Snak__hash='c478a97dd106380492f36edfd8d3d09f5c7e1c40' _Snak__datavalue={'value': {'entity-type': 'item', 'numeric-id': 125019793, 'id': 'Q125019793'}, 'type': 'wikibase-entityid'} _Snak__datatype='wikibase-item'>]}> _Reference__snaks_order=['P248']>]>>], 'P2555': [<Quantity @f3a6d0 _Claim__mainsnak=<Snak @f3ab90 _Snak__snaktype=<WikibaseSnakType.KNOWN_VALUE: 'value'> _Snak__property_number='P2555' _Snak__hash='2c52f6e2cf7014f53532010a192a8382a5712a65' _Snak__datavalue={'value': {'amount': '+0', 'unit': '1'}, 'type': 'quantity'} _Snak__datatype='quantity'> _Claim__type='statement' _Claim__qualifiers=<Qualifiers @f3a510 _Qualifiers__qualifiers={}> _Claim__qualifiers_order=[] _Claim__id='Q4115189$95acf449-4c32-ca80-4b6d-61f7233fb3e8' _Claim__rank=<WikibaseRank.NORMAL: 'normal'> _Claim__removed=False _Claim__references=<References @6197d0 _References__references=[]>>], 'P1153': [<ExternalID @f3af90 _Claim__mainsnak=<Snak @f3ad10 _Snak__snaktype=<WikibaseSnakType.KNOWN_VALUE: 'value'> _Snak__property_number='P1153' _Snak__hash='ea1742ba4dee15ac58bb6569bbc1ffa0f0f25b5b' _Snak__datavalue={'value': '1234', 'type': 'string'} _Snak__datatype='external-id'> _Claim__type='statement' _Claim__qualifiers=<Qualifiers @f3a950 _Qualifiers__qualifiers={}> _Claim__qualifiers_order=[] _Claim__id='Q4115189$891cbe1d-455b-f131-e3c0-9e07155606b1' _Claim__rank=<WikibaseRank.NORMAL: 'normal'> _Claim__removed=False _Claim__references=<References @14ba10 _References__references=[]>>], 'P214': [<ExternalID @f3a790 _Claim__mainsnak=<Snak @f3b8d0 _Snak__snaktype=<WikibaseSnakType.KNOWN_VALUE: 'value'> _Snak__property_number='P214' _Snak__hash='f9efea58ec6f192f25b25f67d2d5036e14d10cfe' _Snak__datavalue={'value': '1234', 'type': 'string'} _Snak__datatype='external-id'> _Claim__type='statement' _Claim__qualifiers=<Qualifiers @f3a290 _Qualifiers__qualifiers={}> _Claim__qualifiers_order=[] _Claim__id='Q4115189$8da3e952-4a1b-bf53-69bb-412f1befc9e1' _Claim__rank=<WikibaseRank.NORMAL: 'normal'> _Claim__removed=False _Claim__references=<References @f3b890 _References__references=[]>>], 'P17': [<Item @f39f50 _Claim__mainsnak=<Snak @f3a050 _Snak__snaktype=<WikibaseSnakType.KNOWN_VALUE: 'value'> _Snak__property_number='P17' _Snak__hash='69df494d7fa0613c7bd8f047afc1e87bdc03a0f2' _Snak__datavalue={'value': {'entity-type': 'item', 'numeric-id': 29, 'id': 'Q29'}, 'type': 'wikibase-entityid'} _Snak__datatype='wikibase-item'> _Claim__type='statement' _Claim__qualifiers=<Qualifiers @f07850 _Qualifiers__qualifiers={}> _Claim__qualifiers_order=[] _Claim__id='Q4115189$451dd85f-4664-c9df-9dd0-2b11108ca403' _Claim__rank=<WikibaseRank.NORMAL: 'normal'> _Claim__removed=False _Claim__references=<References @f3b7d0 _References__references=[<Reference @f07010 _Reference__hash='27db269d23ecb9744f407cce7fc4409fccba6d51' _Reference__snaks=<Snaks @f06f10 snaks={'P854': [<Snak @f07710 _Snak__snaktype=<WikibaseSnakType.KNOWN_VALUE: 'value'> _Snak__property_number='P854' _Snak__hash='b8dcca3f3f0d0c452e520ff37b5c0bd1cf6f7254' _Snak__datavalue={'value': 'https://www.youtube.com/', 'type': 'string'} _Snak__datatype='url'>], 'P813': [<Snak @f07390 _Snak__snaktype=<WikibaseSnakType.KNOWN_VALUE: 'value'> _Snak__property_number='P813' _Snak__hash='5cc7accf952fa18892fe2b349d1b2ee6b6f94f15' _Snak__datavalue={'value': {'time': '+2024-01-04T00:00:00Z', 'timezone': 0, 'before': 0, 'after': 0, 'precision': 11, 'calendarmodel': 'http://www.wikidata.org/entity/Q1985727'}, 'type': 'time'} _Snak__datatype='time'>]}> _Reference__snaks_order=['P854', 'P813']>]>>], 'P2002': [<ExternalID @f07b10 _Claim__mainsnak=<Snak @f06610 _Snak__snaktype=<WikibaseSnakType.KNOWN_VALUE: 'value'> _Snak__property_number='P2002' _Snak__hash='d855701fbafe831360511e3a438db19d1279bc63' _Snak__datavalue={'value': 'bulgroz', 'type': 'string'} _Snak__datatype='external-id'> _Claim__type='statement' _Claim__qualifiers=<Qualifiers @f05150 _Qualifiers__qualifiers={}> _Claim__qualifiers_order=[] _Claim__id='Q4115189$B71869FA-0AE5-45AE-9409-8234C6CA5260' _Claim__rank=<WikibaseRank.NORMAL: 'normal'> _Claim__removed=False _Claim__references=<References @f04e10 _References__references=[<Reference @f04890 _Reference__hash='941a3212b84523e466f20bc080935db305a2e022' _Reference__snaks=<Snaks @f04d10 snaks={'P854': [<Snak @f06290 _Snak__snaktype=<WikibaseSnakType.KNOWN_VALUE: 'value'> _Snak__property_number='P854' _Snak__hash='b8dcca3f3f0d0c452e520ff37b5c0bd1cf6f7254' _Snak__datavalue={'value': 'https://www.youtube.com/', 'type': 'string'} _Snak__datatype='url'>], 'P813': [<Snak @f05b90 _Snak__snaktype=<WikibaseSnakType.KNOWN_VALUE: 'value'> _Snak__property_number='P813' _Snak__hash='70ff6e27b683f77673de3b80e409f82c13257cfd' _Snak__datavalue={'value': {'time': '+2024-04-02T00:00:00Z', 'timezone': 0, 'before': 0, 'after': 0, 'precision': 11, 'calendarmodel': 'http://www.wikidata.org/entity/Q1985727'}, 'type': 'time'} _Snak__datatype='time'>]}> _Reference__snaks_order=['P854', 'P813']>]>>, <ExternalID @f05610 _Claim__mainsnak=<Snak @f06090 _Snak__snaktype=<WikibaseSnakType.KNOWN_VALUE: 'value'> _Snak__property_number='P2002' _Snak__hash='d855701fbafe831360511e3a438db19d1279bc63' _Snak__datavalue={'value': 'bulgroz', 'type': 'string'} _Snak__datatype='external-id'> _Claim__type='statement' _Claim__qualifiers=<Qualifiers @f04a90 _Qualifiers__qualifiers={}> _Claim__qualifiers_order=[] _Claim__id='Q4115189$83FC9A85-43E6-42A0-B62B-E9AE7687C367' _Claim__rank=<WikibaseRank.NORMAL: 'normal'> _Claim__removed=False _Claim__references=<References @f05e90 _References__references=[<Reference @f05d90 _Reference__hash='941a3212b84523e466f20bc080935db305a2e022' _Reference__snaks=<Snaks @f04c10 snaks={'P854': [<Snak @f04bd0 _Snak__snaktype=<WikibaseSnakType.KNOWN_VALUE: 'value'> _Snak__property_number='P854' _Snak__hash='b8dcca3f3f0d0c452e520ff37b5c0bd1cf6f7254' _Snak__datavalue={'value': 'https://www.youtube.com/', 'type': 'string'} _Snak__datatype='url'>], 'P813': [<Snak @f05550 _Snak__snaktype=<WikibaseSnakType.KNOWN_VALUE: 'value'> _Snak__property_number='P813' _Snak__hash='70ff6e27b683f77673de3b80e409f82c13257cfd' _Snak__datavalue={'value': {'time': '+2024-04-02T00:00:00Z', 'timezone': 0, 'before': 0, 'after': 0, 'precision': 11, 'calendarmodel': 'http://www.wikidata.org/entity/Q1985727'}, 'type': 'time'} _Snak__datatype='time'>]}> _Reference__snaks_order=['P854', 'P813']>]>>], 'P126': [<Item @f5d4d0 _Claim__mainsnak=<Snak @f84890 _Snak__snaktype=<WikibaseSnakType.KNOWN_VALUE: 'value'> _Snak__property_number='P126' _Snak__hash=None _Snak__datavalue={'value': {'entity-type': 'item', 'numeric-id': 37528637, 'id': 'Q37528637'}, 'type': 'wikibase-entityid'} _Snak__datatype='wikibase-item'> _Claim__type='statement' _Claim__qualifiers=<Qualifiers @f84990 _Qualifiers__qualifiers={}> _Claim__qualifiers_order=[] _Claim__id=None _Claim__rank=<WikibaseRank.NORMAL: 'normal'> _Claim__removed=False _Claim__references=<References @f84950 _References__references=[]>>]}>"
      ]
     },
     "execution_count": 16,
     "metadata": {},
     "output_type": "execute_result"
    }
   ],
   "source": [
    "# Add the \"maintained by\" (P126) claim referencing the 'Tester' family name (Q37528637).\n",
    "sandbox_entity.claims.add(Item(prop_nr=\"P126\", value=\"Q37528637\"))"
   ]
  },
  {
   "cell_type": "code",
   "execution_count": 17,
   "metadata": {},
   "outputs": [
    {
     "data": {
      "text/plain": [
       "<ItemEntity @78ec50 _BaseEntity__api=<wikibaseintegrator.wikibaseintegrator.WikibaseIntegrator object at 0x717ea052a190>\n",
       "\t _BaseEntity__title='Q4115189'\n",
       "\t _BaseEntity__pageid=4246474\n",
       "\t _BaseEntity__lastrevid=2117379539\n",
       "\t _BaseEntity__type='item'\n",
       "\t _BaseEntity__id='Q4115189'\n",
       "\t _BaseEntity__claims=<Claims @4efb90 _Claims__claims={'P460': [<Item @101890 _Claim__mainsnak=<Snak @537950 _Snak__snaktype=<WikibaseSnakType.KNOWN_VALUE: 'value'> _Snak__property_number='P460' _Snak__hash='b1faa2726e622bc3727462634d5fb3084e7756b2' _Snak__datavalue={'value': {'entity-type': 'item', 'numeric-id': 13406268, 'id': 'Q13406268'}, 'type': 'wikibase-entityid'} _Snak__datatype='wikibase-item'> _Claim__type='statement' _Claim__qualifiers=<Qualifiers @534b90 _Qualifiers__qualifiers={}> _Claim__qualifiers_order=[] _Claim__id='Q4115189$0ce92f0e-46e8-fb05-bd41-e19f983485d0' _Claim__rank=<WikibaseRank.NORMAL: 'normal'> _Claim__removed=False _Claim__references=<References @5358d0 _References__references=[]>>, <Item @5d7850 _Claim__mainsnak=<Snak @f5c0d0 _Snak__snaktype=<WikibaseSnakType.KNOWN_VALUE: 'value'> _Snak__property_number='P460' _Snak__hash='d58d2897e1b93269cfa377b0b972022d2a623cc0' _Snak__datavalue={'value': {'entity-type': 'item', 'numeric-id': 15397819, 'id': 'Q15397819'}, 'type': 'wikibase-entityid'} _Snak__datatype='wikibase-item'> _Claim__type='statement' _Claim__qualifiers=<Qualifiers @f5e310 _Qualifiers__qualifiers={}> _Claim__qualifiers_order=[] _Claim__id='Q4115189$34716b81-49b2-788e-47b9-fc00d6300878' _Claim__rank=<WikibaseRank.NORMAL: 'normal'> _Claim__removed=False _Claim__references=<References @f5ef10 _References__references=[]>>, <Item @535650 _Claim__mainsnak=<Snak @f5eb50 _Snak__snaktype=<WikibaseSnakType.KNOWN_VALUE: 'value'> _Snak__property_number='P460' _Snak__hash='4085745ccfe0a8dafe8409d396c72005cddd8ac2' _Snak__datavalue={'value': {'entity-type': 'item', 'numeric-id': 112795079, 'id': 'Q112795079'}, 'type': 'wikibase-entityid'} _Snak__datatype='wikibase-item'> _Claim__type='statement' _Claim__qualifiers=<Qualifiers @12ff90 _Qualifiers__qualifiers={}> _Claim__qualifiers_order=[] _Claim__id='Q4115189$53ca9586-40db-7f7a-58d6-644e752c472c' _Claim__rank=<WikibaseRank.NORMAL: 'normal'> _Claim__removed=False _Claim__references=<References @12f9d0 _References__references=[]>>], 'P31': [<Item @f5d0d0 _Claim__mainsnak=<Snak @12eb50 _Snak__snaktype=<WikibaseSnakType.KNOWN_VALUE: 'value'> _Snak__property_number='P31' _Snak__hash='d5a7ba441737489875ed734038d09d2bd5e3e0f0' _Snak__datavalue={'value': {'entity-type': 'item', 'numeric-id': 21281405, 'id': 'Q21281405'}, 'type': 'wikibase-entityid'} _Snak__datatype='wikibase-item'> _Claim__type='statement' _Claim__qualifiers=<Qualifiers @12d7d0 _Qualifiers__qualifiers={}> _Claim__qualifiers_order=[] _Claim__id='Q4115189$c99d6ad2-4c86-8b3a-5399-3ab1ac6c369b' _Claim__rank=<WikibaseRank.NORMAL: 'normal'> _Claim__removed=False _Claim__references=<References @12d290 _References__references=[]>>], 'P108': [<Item @12ff50 _Claim__mainsnak=<Snak @12d250 _Snak__snaktype=<WikibaseSnakType.KNOWN_VALUE: 'value'> _Snak__property_number='P108' _Snak__hash='bb1fef77b1baf168336fde47fdd4ace92c9caf29' _Snak__datavalue={'value': {'entity-type': 'item', 'numeric-id': 267566, 'id': 'Q267566'}, 'type': 'wikibase-entityid'} _Snak__datatype='wikibase-item'> _Claim__type='statement' _Claim__qualifiers=<Qualifiers @12ff10 _Qualifiers__qualifiers={'P580': [<Snak @f3bfd0 _Snak__snaktype=<WikibaseSnakType.KNOWN_VALUE: 'value'> _Snak__property_number='P580' _Snak__hash='26590b4ce720720b037b6aeb24d50500196ddd32' _Snak__datavalue={'value': {'time': '+1947-00-00T00:00:00Z', 'timezone': 0, 'before': 0, 'after': 0, 'precision': 9, 'calendarmodel': 'http://www.wikidata.org/entity/Q1985727'}, 'type': 'time'} _Snak__datatype='time'>, <Snak @f3a5d0 _Snak__snaktype=<WikibaseSnakType.KNOWN_VALUE: 'value'> _Snak__property_number='P580' _Snak__hash='f77e401c3294559f5f96c8fc18f16d1c6aad6e22' _Snak__datavalue={'value': {'time': '+1998-00-00T00:00:00Z', 'timezone': 0, 'before': 0, 'after': 0, 'precision': 9, 'calendarmodel': 'http://www.wikidata.org/entity/Q1985727'}, 'type': 'time'} _Snak__datatype='time'>], 'P582': [<Snak @f3ba10 _Snak__snaktype=<WikibaseSnakType.KNOWN_VALUE: 'value'> _Snak__property_number='P582' _Snak__hash='4fe93e512f1b1822c7296bc0661984c3557dec02' _Snak__datavalue={'value': {'time': '+1986-00-00T00:00:00Z', 'timezone': 0, 'before': 0, 'after': 0, 'precision': 9, 'calendarmodel': 'http://www.wikidata.org/entity/Q1985727'}, 'type': 'time'} _Snak__datatype='time'>, <Snak @f54710 _Snak__snaktype=<WikibaseSnakType.KNOWN_VALUE: 'value'> _Snak__property_number='P582' _Snak__hash='f84ab79307da73e0195993b8bfe549b6607b374f' _Snak__datavalue={'value': {'time': '+2002-00-00T00:00:00Z', 'timezone': 0, 'before': 0, 'after': 0, 'precision': 9, 'calendarmodel': 'http://www.wikidata.org/entity/Q1985727'}, 'type': 'time'} _Snak__datatype='time'>]}> _Claim__qualifiers_order=['P580', 'P582'] _Claim__id='Q4115189$A896BBE5-C167-47AB-A898-773BE4BFCA4F' _Claim__rank=<WikibaseRank.NORMAL: 'normal'> _Claim__removed=False _Claim__references=<References @f57650 _References__references=[<Reference @f549d0 _Reference__hash='3ef6852ed3552ae0b0d054f2dd144fdcb3adcff2' _Reference__snaks=<Snaks @f56b50 snaks={'P248': [<Snak @f54b50 _Snak__snaktype=<WikibaseSnakType.KNOWN_VALUE: 'value'> _Snak__property_number='P248' _Snak__hash='c478a97dd106380492f36edfd8d3d09f5c7e1c40' _Snak__datavalue={'value': {'entity-type': 'item', 'numeric-id': 125019793, 'id': 'Q125019793'}, 'type': 'wikibase-entityid'} _Snak__datatype='wikibase-item'>]}> _Reference__snaks_order=['P248']>]>>], 'P2555': [<Quantity @f3bc10 _Claim__mainsnak=<Snak @f57bd0 _Snak__snaktype=<WikibaseSnakType.KNOWN_VALUE: 'value'> _Snak__property_number='P2555' _Snak__hash='2c52f6e2cf7014f53532010a192a8382a5712a65' _Snak__datavalue={'value': {'amount': '+0', 'unit': '1'}, 'type': 'quantity'} _Snak__datatype='quantity'> _Claim__type='statement' _Claim__qualifiers=<Qualifiers @f55490 _Qualifiers__qualifiers={}> _Claim__qualifiers_order=[] _Claim__id='Q4115189$95acf449-4c32-ca80-4b6d-61f7233fb3e8' _Claim__rank=<WikibaseRank.NORMAL: 'normal'> _Claim__removed=False _Claim__references=<References @f54310 _References__references=[]>>], 'P1153': [<ExternalID @12e790 _Claim__mainsnak=<Snak @f54110 _Snak__snaktype=<WikibaseSnakType.KNOWN_VALUE: 'value'> _Snak__property_number='P1153' _Snak__hash='ea1742ba4dee15ac58bb6569bbc1ffa0f0f25b5b' _Snak__datavalue={'value': '1234', 'type': 'string'} _Snak__datatype='external-id'> _Claim__type='statement' _Claim__qualifiers=<Qualifiers @f56950 _Qualifiers__qualifiers={}> _Claim__qualifiers_order=[] _Claim__id='Q4115189$891cbe1d-455b-f131-e3c0-9e07155606b1' _Claim__rank=<WikibaseRank.NORMAL: 'normal'> _Claim__removed=False _Claim__references=<References @f54990 _References__references=[]>>], 'P214': [<ExternalID @f56050 _Claim__mainsnak=<Snak @f56b10 _Snak__snaktype=<WikibaseSnakType.KNOWN_VALUE: 'value'> _Snak__property_number='P214' _Snak__hash='f9efea58ec6f192f25b25f67d2d5036e14d10cfe' _Snak__datavalue={'value': '1234', 'type': 'string'} _Snak__datatype='external-id'> _Claim__type='statement' _Claim__qualifiers=<Qualifiers @f579d0 _Qualifiers__qualifiers={}> _Claim__qualifiers_order=[] _Claim__id='Q4115189$8da3e952-4a1b-bf53-69bb-412f1befc9e1' _Claim__rank=<WikibaseRank.NORMAL: 'normal'> _Claim__removed=False _Claim__references=<References @f47e90 _References__references=[]>>], 'P17': [<Item @f56490 _Claim__mainsnak=<Snak @f44dd0 _Snak__snaktype=<WikibaseSnakType.KNOWN_VALUE: 'value'> _Snak__property_number='P17' _Snak__hash='69df494d7fa0613c7bd8f047afc1e87bdc03a0f2' _Snak__datavalue={'value': {'entity-type': 'item', 'numeric-id': 29, 'id': 'Q29'}, 'type': 'wikibase-entityid'} _Snak__datatype='wikibase-item'> _Claim__type='statement' _Claim__qualifiers=<Qualifiers @184990 _Qualifiers__qualifiers={}> _Claim__qualifiers_order=[] _Claim__id='Q4115189$451dd85f-4664-c9df-9dd0-2b11108ca403' _Claim__rank=<WikibaseRank.NORMAL: 'normal'> _Claim__removed=False _Claim__references=<References @f56a50 _References__references=[<Reference @186d10 _Reference__hash='27db269d23ecb9744f407cce7fc4409fccba6d51' _Reference__snaks=<Snaks @531d90 snaks={'P854': [<Snak @f07e90 _Snak__snaktype=<WikibaseSnakType.KNOWN_VALUE: 'value'> _Snak__property_number='P854' _Snak__hash='b8dcca3f3f0d0c452e520ff37b5c0bd1cf6f7254' _Snak__datavalue={'value': 'https://www.youtube.com/', 'type': 'string'} _Snak__datatype='url'>], 'P813': [<Snak @f07050 _Snak__snaktype=<WikibaseSnakType.KNOWN_VALUE: 'value'> _Snak__property_number='P813' _Snak__hash='5cc7accf952fa18892fe2b349d1b2ee6b6f94f15' _Snak__datavalue={'value': {'time': '+2024-01-04T00:00:00Z', 'timezone': 0, 'before': 0, 'after': 0, 'precision': 11, 'calendarmodel': 'http://www.wikidata.org/entity/Q1985727'}, 'type': 'time'} _Snak__datatype='time'>]}> _Reference__snaks_order=['P854', 'P813']>]>>], 'P2002': [<ExternalID @184710 _Claim__mainsnak=<Snak @f077d0 _Snak__snaktype=<WikibaseSnakType.KNOWN_VALUE: 'value'> _Snak__property_number='P2002' _Snak__hash='d855701fbafe831360511e3a438db19d1279bc63' _Snak__datavalue={'value': 'bulgroz', 'type': 'string'} _Snak__datatype='external-id'> _Claim__type='statement' _Claim__qualifiers=<Qualifiers @122d50 _Qualifiers__qualifiers={}> _Claim__qualifiers_order=[] _Claim__id='Q4115189$B71869FA-0AE5-45AE-9409-8234C6CA5260' _Claim__rank=<WikibaseRank.NORMAL: 'normal'> _Claim__removed=False _Claim__references=<References @1853d0 _References__references=[<Reference @f06950 _Reference__hash='941a3212b84523e466f20bc080935db305a2e022' _Reference__snaks=<Snaks @f73590 snaks={'P854': [<Snak @f71b10 _Snak__snaktype=<WikibaseSnakType.KNOWN_VALUE: 'value'> _Snak__property_number='P854' _Snak__hash='b8dcca3f3f0d0c452e520ff37b5c0bd1cf6f7254' _Snak__datavalue={'value': 'https://www.youtube.com/', 'type': 'string'} _Snak__datatype='url'>], 'P813': [<Snak @f71dd0 _Snak__snaktype=<WikibaseSnakType.KNOWN_VALUE: 'value'> _Snak__property_number='P813' _Snak__hash='70ff6e27b683f77673de3b80e409f82c13257cfd' _Snak__datavalue={'value': {'time': '+2024-04-02T00:00:00Z', 'timezone': 0, 'before': 0, 'after': 0, 'precision': 11, 'calendarmodel': 'http://www.wikidata.org/entity/Q1985727'}, 'type': 'time'} _Snak__datatype='time'>]}> _Reference__snaks_order=['P854', 'P813']>]>>, <ExternalID @1232d0 _Claim__mainsnak=<Snak @f733d0 _Snak__snaktype=<WikibaseSnakType.KNOWN_VALUE: 'value'> _Snak__property_number='P2002' _Snak__hash='d855701fbafe831360511e3a438db19d1279bc63' _Snak__datavalue={'value': 'bulgroz', 'type': 'string'} _Snak__datatype='external-id'> _Claim__type='statement' _Claim__qualifiers=<Qualifiers @f71410 _Qualifiers__qualifiers={}> _Claim__qualifiers_order=[] _Claim__id='Q4115189$83FC9A85-43E6-42A0-B62B-E9AE7687C367' _Claim__rank=<WikibaseRank.NORMAL: 'normal'> _Claim__removed=False _Claim__references=<References @f717d0 _References__references=[<Reference @f70810 _Reference__hash='941a3212b84523e466f20bc080935db305a2e022' _Reference__snaks=<Snaks @f73a90 snaks={'P854': [<Snak @f73e10 _Snak__snaktype=<WikibaseSnakType.KNOWN_VALUE: 'value'> _Snak__property_number='P854' _Snak__hash='b8dcca3f3f0d0c452e520ff37b5c0bd1cf6f7254' _Snak__datavalue={'value': 'https://www.youtube.com/', 'type': 'string'} _Snak__datatype='url'>], 'P813': [<Snak @f737d0 _Snak__snaktype=<WikibaseSnakType.KNOWN_VALUE: 'value'> _Snak__property_number='P813' _Snak__hash='70ff6e27b683f77673de3b80e409f82c13257cfd' _Snak__datavalue={'value': {'time': '+2024-04-02T00:00:00Z', 'timezone': 0, 'before': 0, 'after': 0, 'precision': 11, 'calendarmodel': 'http://www.wikidata.org/entity/Q1985727'}, 'type': 'time'} _Snak__datatype='time'>]}> _Reference__snaks_order=['P854', 'P813']>]>>], 'P126': [<Item @f73d50 _Claim__mainsnak=<Snak @f72950 _Snak__snaktype=<WikibaseSnakType.KNOWN_VALUE: 'value'> _Snak__property_number='P126' _Snak__hash='4f173eed4d9502e2d0c3dd4ebe3c6e6816036850' _Snak__datavalue={'value': {'entity-type': 'item', 'numeric-id': 37528637, 'id': 'Q37528637'}, 'type': 'wikibase-entityid'} _Snak__datatype='wikibase-item'> _Claim__type='statement' _Claim__qualifiers=<Qualifiers @f71c90 _Qualifiers__qualifiers={}> _Claim__qualifiers_order=[] _Claim__id='Q4115189$99A9517A-E612-42A7-91A8-FC561A108760' _Claim__rank=<WikibaseRank.NORMAL: 'normal'> _Claim__removed=False _Claim__references=<References @f719d0 _References__references=[]>>]}>\n",
       "\t _ItemEntity__labels=<Labels @f71910 _LanguageValues__values={'en': <LanguageValue @f73dd0 _LanguageValue__language='en' _LanguageValue__value='Wikidata Sandbox' _LanguageValue__removed=False>, 'nn': <LanguageValue @f73450 _LanguageValue__language='nn' _LanguageValue__value='Wikidata-sandkasse' _LanguageValue__removed=False>, 'ru': <LanguageValue @f73c90 _LanguageValue__language='ru' _LanguageValue__value='Викиданные:Песочница' _LanguageValue__removed=False>, 'en-ca': <LanguageValue @f71d50 _LanguageValue__language='en-ca' _LanguageValue__value='Wikidata Sandbox' _LanguageValue__removed=False>, 'fi': <LanguageValue @f709d0 _LanguageValue__language='fi' _LanguageValue__value='Wikipedia:Wikidata-hiekkalaatikko' _LanguageValue__removed=False>, 'pt': <LanguageValue @f718d0 _LanguageValue__language='pt' _LanguageValue__value='Página de testes do projeto Wikidata' _LanguageValue__removed=False>, 'hu': <LanguageValue @f71a50 _LanguageValue__language='hu' _LanguageValue__value='Wikipédia:Wikidata/Homokozó' _LanguageValue__removed=False>, 'ka': <LanguageValue @f70e10 _LanguageValue__language='ka' _LanguageValue__value='ვიკიმონაცემების სავარჯიშო' _LanguageValue__removed=False>, 'sk': <LanguageValue @f73710 _LanguageValue__language='sk' _LanguageValue__value='Wikiúdaje pieskovisko' _LanguageValue__removed=False>, 'ia': <LanguageValue @f72d50 _LanguageValue__language='ia' _LanguageValue__value='sabliera de Wikidata' _LanguageValue__removed=False>, 'ko': <LanguageValue @f72e10 _LanguageValue__language='ko' _LanguageValue__value='위키데이터 연습장' _LanguageValue__removed=False>, 'gl': <LanguageValue @f71ad0 _LanguageValue__language='gl' _LanguageValue__value='Zona de probas do Wikidata' _LanguageValue__removed=False>, 'zh-tw': <LanguageValue @f72610 _LanguageValue__language='zh-tw' _LanguageValue__value='維基數據沙盒' _LanguageValue__removed=False>, 'pt-br': <LanguageValue @f71e90 _LanguageValue__language='pt-br' _LanguageValue__value='Página de testes do projeto Wikidata' _LanguageValue__removed=False>, 'zh-hans': <LanguageValue @f700d0 _LanguageValue__language='zh-hans' _LanguageValue__value='维基数据沙盒' _LanguageValue__removed=False>, 'el': <LanguageValue @f738d0 _LanguageValue__language='el' _LanguageValue__value='Πρόχειρο των Wikidata' _LanguageValue__removed=False>, 'bjn': <LanguageValue @f99510 _LanguageValue__language='bjn' _LanguageValue__value='Pamandiran' _LanguageValue__removed=False>, 'cs': <LanguageValue @f98890 _LanguageValue__language='cs' _LanguageValue__value='Wikidata pískoviště' _LanguageValue__removed=False>, 'dsb': <LanguageValue @f99490 _LanguageValue__language='dsb' _LanguageValue__value='Grajkanišćo Wikidata' _LanguageValue__removed=False>, 'fa': <LanguageValue @f98dd0 _LanguageValue__language='fa' _LanguageValue__value='صفحهٔ تمرین ویکی داده' _LanguageValue__removed=False>, 'pl': <LanguageValue @f98c10 _LanguageValue__language='pl' _LanguageValue__value='Brudnopis Wikidanych' _LanguageValue__removed=False>, 'da': <LanguageValue @f98bd0 _LanguageValue__language='da' _LanguageValue__value='Wikidata Sandbox' _LanguageValue__removed=False>, 'nl': <LanguageValue @f994d0 _LanguageValue__language='nl' _LanguageValue__value='Wikidata-zandbak' _LanguageValue__removed=False>, 'de-at': <LanguageValue @f98f90 _LanguageValue__language='de-at' _LanguageValue__value='Sandbox' _LanguageValue__removed=False>, 'it': <LanguageValue @f988d0 _LanguageValue__language='it' _LanguageValue__value='pagina delle prove di Wikidata' _LanguageValue__removed=False>, 'te': <LanguageValue @f98950 _LanguageValue__language='te' _LanguageValue__value='వాడుకరి:Naresh Krishna Raja' _LanguageValue__removed=False>, 'sv': <LanguageValue @f98850 _LanguageValue__language='sv' _LanguageValue__value='Wikipedia:Wikidata/Sandlåda för Wikidata' _LanguageValue__removed=False>, 'ca': <LanguageValue @f98590 _LanguageValue__language='ca' _LanguageValue__value='Viquipèdia:Proves de Wikidata' _LanguageValue__removed=False>, 'es': <LanguageValue @f98550 _LanguageValue__language='es' _LanguageValue__value='Wikipedia:Wikidata/Zona de pruebas' _LanguageValue__removed=False>, 'be': <LanguageValue @f987d0 _LanguageValue__language='be' _LanguageValue__value='тайны бытия' _LanguageValue__removed=False>, 'ku-latn': <LanguageValue @f98790 _LanguageValue__language='ku-latn' _LanguageValue__value='turkey' _LanguageValue__removed=False>, 'tr': <LanguageValue @f98750 _LanguageValue__language='tr' _LanguageValue__value='Vikiveri deneme tahtası' _LanguageValue__removed=False>, 'ar': <LanguageValue @f98710 _LanguageValue__language='ar' _LanguageValue__value='ملعب ويكي داتا' _LanguageValue__removed=False>, 'ja': <LanguageValue @f986d0 _LanguageValue__language='ja' _LanguageValue__value='ウィキデータ・サンドボックス' _LanguageValue__removed=False>, 'fr': <LanguageValue @f98690 _LanguageValue__language='fr' _LanguageValue__value='bac à sable Wikidata' _LanguageValue__removed=False>, 'de': <LanguageValue @f985d0 _LanguageValue__language='de' _LanguageValue__value='Wikidata-Spielwiese' _LanguageValue__removed=False>, 'en-gb': <LanguageValue @f98610 _LanguageValue__language='en-gb' _LanguageValue__value='Wikidata Sandbox' _LanguageValue__removed=False>, 'zh-hant': <LanguageValue @f98650 _LanguageValue__language='zh-hant' _LanguageValue__value='維基數據沙盒' _LanguageValue__removed=False>, 'zh': <LanguageValue @114910 _LanguageValue__language='zh' _LanguageValue__value='维基数据测试沙盒' _LanguageValue__removed=False>, 'bn': <LanguageValue @116c50 _LanguageValue__language='bn' _LanguageValue__value='উইকিউপাত্ত খেলাঘর' _LanguageValue__removed=False>, 'br': <LanguageValue @117ed0 _LanguageValue__language='br' _LanguageValue__value='bailh-traezh Wikidata' _LanguageValue__removed=False>, 'ms': <LanguageValue @117f10 _LanguageValue__language='ms' _LanguageValue__value='Kotak Pasir Wikidata' _LanguageValue__removed=False>, 'uk': <LanguageValue @117cd0 _LanguageValue__language='uk' _LanguageValue__value='Project:Грамайданчик Вікіданих' _LanguageValue__removed=False>, 'nb': <LanguageValue @116050 _LanguageValue__language='nb' _LanguageValue__value='Wikidata-sandkasse' _LanguageValue__removed=False>, 'zh-cn': <LanguageValue @115150 _LanguageValue__language='zh-cn' _LanguageValue__value='维基数据测试沙盒' _LanguageValue__removed=False>, 'bar': <LanguageValue @115750 _LanguageValue__language='bar' _LanguageValue__value='Wikidata-Spüwiesn' _LanguageValue__removed=False>, 'be-tarask': <LanguageValue @633dd0 _LanguageValue__language='be-tarask' _LanguageValue__value='Вікізьвесткі:Пясочніца' _LanguageValue__removed=False>, 'en-us': <LanguageValue @f11ad0 _LanguageValue__language='en-us' _LanguageValue__value='Wikidata Sandbox' _LanguageValue__removed=False>, 'sl': <LanguageValue @f11190 _LanguageValue__language='sl' _LanguageValue__value='Peskovnik Wikipodatkov' _LanguageValue__removed=False>}>\n",
       "\t _ItemEntity__descriptions=<Descriptions @185cd0 _LanguageValues__values={'cs': <LanguageValue @1147d0 _LanguageValue__language='cs' _LanguageValue__value='Použijte tuto stránku pro své testy' _LanguageValue__removed=False>, 'dsb': <LanguageValue @f39d10 _LanguageValue__language='dsb' _LanguageValue__value='Wužyj toś ten bok za swoje testy' _LanguageValue__removed=False>, 'gl': <LanguageValue @f39e10 _LanguageValue__language='gl' _LanguageValue__value='Este elemento do Wikidata serve para realizar probas.' _LanguageValue__removed=False>, 'en-ca': <LanguageValue @f39c90 _LanguageValue__language='en-ca' _LanguageValue__value='This serves as a sandbox for live testing features. Please be gentle with it. Feel free to edit anything on this page, though! For testing links, try adding ones to userpages.' _LanguageValue__removed=False>, 'it': <LanguageValue @f3b9d0 _LanguageValue__language='it' _LanguageValue__value='Lo scopo di questa pagina è permetterti di fare degli esperimenti e delle modifiche come su un normale elemento del database. Sentiti libero di cambiare qualunque cosa su questa pagina!' _LanguageValue__removed=False>, 'zh-tw': <LanguageValue @f3be50 _LanguageValue__language='zh-tw' _LanguageValue__value='作為沙盒以供測試功能，請溫柔地對待它。你可以隨意編輯任何內容。如果要測試連結，可以增加一個前往用戶頁的連結。' _LanguageValue__removed=False>, 'el': <LanguageValue @f3b6d0 _LanguageValue__language='el' _LanguageValue__value='σελίδα δοκιμών και πειραματισμών των Wikidata που όλοι μπορούν να χρησιμοποιήσουν' _LanguageValue__removed=False>, 'bjn': <LanguageValue @f3b5d0 _LanguageValue__language='bjn' _LanguageValue__value='Pernyataan' _LanguageValue__removed=False>, 'hu': <LanguageValue @f39f10 _LanguageValue__language='hu' _LanguageValue__value='homokozó' _LanguageValue__removed=False>, 'zh-hans': <LanguageValue @f5e5d0 _LanguageValue__language='zh-hans' _LanguageValue__value='这里是测试数据项属性编辑的沙盒，请温柔地对待它。你可以更改此页面的任何内容。如果想测试链接，请尝试加入至用户页的链接。' _LanguageValue__removed=False>, 'nl': <LanguageValue @f5f7d0 _LanguageValue__language='nl' _LanguageValue__value='Dit Wikidata-item mag gebruikt worden om het bewerken op Wikidata te oefenen. Gebruik gebruikerspagina\\'s om \"Interwiki-links\" / \"Lijst met pagina\\'s gekoppeld aan dit item\" te testen' _LanguageValue__removed=False>, 'fa': <LanguageValue @f5f150 _LanguageValue__language='fa' _LanguageValue__value='این صفحه ای است برای تمرین ویژگی های ویکی داده. هر ویرایشی که می خواهید می توانید در این صفحه بکنید.' _LanguageValue__removed=False>, 'de-at': <LanguageValue @f5c750 _LanguageValue__language='de-at' _LanguageValue__value='Eine Spielwiese zum testen von Funktionen. Fühle dich frei alles mögliche zu verändern. Füge aber bitte nur Links zu Benutzerseiten hinzu.' _LanguageValue__removed=False>, 'de': <LanguageValue @f5c090 _LanguageValue__language='de' _LanguageValue__value='Eine Spielwiese zum Testen von Funktionen. Fühle dich frei alles mögliche zu verändern. Füge aber bitte nur Links zu Benutzerseiten hinzu.' _LanguageValue__removed=False>, 'en-gb': <LanguageValue @f5c950 _LanguageValue__language='en-gb' _LanguageValue__value='This serves as a sandbox for live testing features. Please be gentle with it. Feel free to edit anything on this page, though! For testing links, try adding ones to userpages.' _LanguageValue__removed=False>, 'sv': <LanguageValue @f5c290 _LanguageValue__language='sv' _LanguageValue__value='Här kan du testa att redigera' _LanguageValue__removed=False>, 'ru': <LanguageValue @f5ca50 _LanguageValue__language='ru' _LanguageValue__value='здесь можно делать всё, что угодно #Q220' _LanguageValue__removed=False>, 'ku-latn': <LanguageValue @f5f550 _LanguageValue__language='ku-latn' _LanguageValue__value='turkey' _LanguageValue__removed=False>, 'ko': <LanguageValue @f5ea90 _LanguageValue__language='ko' _LanguageValue__value='이곳은 자유롭게 위키데이터 기능을 시험할 수 있는 연습장입니다.' _LanguageValue__removed=False>, 'ja': <LanguageValue @f5e710 _LanguageValue__language='ja' _LanguageValue__value='この項目はテスト用サンドボックスです。このページで様々な編集を試すことができます。但し丁寧に扱って下さい。リンクのテスト時は利用者ページへのリンクを追加して下さい。' _LanguageValue__removed=False>, 'fr': <LanguageValue @f5c610 _LanguageValue__language='fr' _LanguageValue__value=\"Bac à sable pour amuser les contributeurs (laisser une description ici pour qu'on le retrouve)\" _LanguageValue__removed=False>, 'zh': <LanguageValue @f5e810 _LanguageValue__language='zh' _LanguageValue__value='这里是测试数据项属性编辑的沙盒，请温柔地对待它。你可以更改此页面的任何内容。如果想测试链接，请尝试加入至用户页的链接。' _LanguageValue__removed=False>, 'zh-hant': <LanguageValue @f5c050 _LanguageValue__language='zh-hant' _LanguageValue__value='作為沙盒以供測試功能，請溫柔地對待它。你可以隨意編輯任何內容。如果要測試連結，可以增加一個前往用戶頁的連結。' _LanguageValue__removed=False>, 'en': <LanguageValue @f5d9d0 _LanguageValue__language='en' _LanguageValue__value='This is a sandbox for testing changes to items. Please be gentle with it. Feel free to change anything on this page! For testing links, try adding ones to userpages.' _LanguageValue__removed=False>, 'bn': <LanguageValue @f5c8d0 _LanguageValue__language='bn' _LanguageValue__value='এটি আইটেমসমূহে পরিবর্তন পরীক্ষা করার একটি খেলাঘর। স্বাচ্ছন্দ্যে এই পাতায় যে কোন পরিবর্তন করুন।' _LanguageValue__removed=False>, 'ms': <LanguageValue @f5d710 _LanguageValue__language='ms' _LanguageValue__value='Ini berfungsi sebagai kotak pasir untuk mencuba ciri-ciri secara langsung. Sila mengunakannya dengan hati-hati, tetapi suntinglah apa-apa pun pada laman ini! Untuk mencuba pautan-pautan, tambahkannya ke laman-laman pengguna.' _LanguageValue__removed=False>, 'uk': <LanguageValue @f5d410 _LanguageValue__language='uk' _LanguageValue__value=\"зоря в сузір'ї Стрільця\" _LanguageValue__removed=False>, 'nb': <LanguageValue @f5c810 _LanguageValue__language='nb' _LanguageValue__value='sandkasse for Wikidata' _LanguageValue__removed=False>, 'zh-cn': <LanguageValue @f5c4d0 _LanguageValue__language='zh-cn' _LanguageValue__value='这里是测试数据项属性编辑的沙盒，请温柔地对待它。你可以更改此页面的任何内容。如果想测试链接，请尝试加入至用户页的链接。' _LanguageValue__removed=False>, 'bar': <LanguageValue @f5d310 _LanguageValue__language='bar' _LanguageValue__value=\"A Spüwiesn zum testn vo Funktionen. Fühl di frei ois möglich z'vaändan. Füg owa bitte nur Links zu Benutzerseitn ei.\" _LanguageValue__removed=False>, 'es': <LanguageValue @f5c850 _LanguageValue__language='es' _LanguageValue__value='Este elemento en Wikidata sirve para realizar pruebas.' _LanguageValue__removed=False>, 'en-us': <LanguageValue @f5c990 _LanguageValue__language='en-us' _LanguageValue__value='This is a sandbox for testing' _LanguageValue__removed=False>, 'sl': <LanguageValue @f5e2d0 _LanguageValue__language='sl' _LanguageValue__value='To je peskovnik za testiranje funkcij v živo. Bodite nežni z njim. Vseeno pa lahko urejate karkoli na tej strani! Za preizkušanje povezav poskusite dodati povezave na uporabniške strani.' _LanguageValue__removed=False>}>\n",
       "\t _ItemEntity__aliases=<Aliases @156cd0 _Aliases__aliases={'ru': [<Alias @f5edd0 _LanguageValue__language='ru' _LanguageValue__value='тест' _LanguageValue__removed=False>], 'zh-hans': [<Alias @f5d8d0 _LanguageValue__language='zh-hans' _LanguageValue__value='维基数据沙盘' _LanguageValue__removed=False>, <Alias @f5f110 _LanguageValue__language='zh-hans' _LanguageValue__value='维基数据测试' _LanguageValue__removed=False>], 'de-at': [<Alias @f5ddd0 _LanguageValue__language='de-at' _LanguageValue__value='Sandkasten' _LanguageValue__removed=False>, <Alias @f5eed0 _LanguageValue__language='de-at' _LanguageValue__value='Spielplatz' _LanguageValue__removed=False>], 'de': [<Alias @f5cad0 _LanguageValue__language='de' _LanguageValue__value='Sandbox' _LanguageValue__removed=False>, <Alias @f5f590 _LanguageValue__language='de' _LanguageValue__value='Spielewiese' _LanguageValue__removed=False>], 'nl': [<Alias @f5f250 _LanguageValue__language='nl' _LanguageValue__value='Wikidata-speeltuin' _LanguageValue__removed=False>, <Alias @f5f4d0 _LanguageValue__language='nl' _LanguageValue__value='zandbak' _LanguageValue__removed=False>], 'ar': [<Alias @f5f0d0 _LanguageValue__language='ar' _LanguageValue__value='ساحة التجربة' _LanguageValue__removed=False>, <Alias @f5ef90 _LanguageValue__language='ar' _LanguageValue__value='ساحة اللعب' _LanguageValue__removed=False>, <Alias @f5f510 _LanguageValue__language='ar' _LanguageValue__value='ملعب' _LanguageValue__removed=False>], 'ja': [<Alias @f5e690 _LanguageValue__language='ja' _LanguageValue__value='Sandbox' _LanguageValue__removed=False>, <Alias @f5f690 _LanguageValue__language='ja' _LanguageValue__value='サンドボックス' _LanguageValue__removed=False>, <Alias @f5f5d0 _LanguageValue__language='ja' _LanguageValue__value='練習用ページ' _LanguageValue__removed=False>, <Alias @f5f6d0 _LanguageValue__language='ja' _LanguageValue__value='練習用項目' _LanguageValue__removed=False>], 'en': [<Alias @f5f990 _LanguageValue__language='en' _LanguageValue__value='Property test' _LanguageValue__removed=False>, <Alias @f5fa90 _LanguageValue__language='en' _LanguageValue__value='SB' _LanguageValue__removed=False>, <Alias @f5f350 _LanguageValue__language='en' _LanguageValue__value='Wikidata BOX' _LanguageValue__removed=False>, <Alias @f5fbd0 _LanguageValue__language='en' _LanguageValue__value='Wikidata SandboxItem' _LanguageValue__removed=False>, <Alias @f5fad0 _LanguageValue__language='en' _LanguageValue__value='sandbox' _LanguageValue__removed=False>, <Alias @f5fd90 _LanguageValue__language='en' _LanguageValue__value='test' _LanguageValue__removed=False>], 'pt-br': [<Alias @f5c550 _LanguageValue__language='pt-br' _LanguageValue__value='item para testes' _LanguageValue__removed=False>, <Alias @f5f8d0 _LanguageValue__language='pt-br' _LanguageValue__value='teste' _LanguageValue__removed=False>, <Alias @f5fed0 _LanguageValue__language='pt-br' _LanguageValue__value='testes' _LanguageValue__removed=False>, <Alias @f5fdd0 _LanguageValue__language='pt-br' _LanguageValue__value='test' _LanguageValue__removed=False>, <Alias @f5fc50 _LanguageValue__language='pt-br' _LanguageValue__value='página de testes' _LanguageValue__removed=False>], 'en-ca': [<Alias @f5ff50 _LanguageValue__language='en-ca' _LanguageValue__value='SB' _LanguageValue__removed=False>, <Alias @f5ffd0 _LanguageValue__language='en-ca' _LanguageValue__value='Property test' _LanguageValue__removed=False>, <Alias @f5c450 _LanguageValue__language='en-ca' _LanguageValue__value='test' _LanguageValue__removed=False>, <Alias @f5e390 _LanguageValue__language='en-ca' _LanguageValue__value='Wikidata SandboxItem' _LanguageValue__removed=False>, <Alias @f5ec50 _LanguageValue__language='en-ca' _LanguageValue__value='Wikidata BOX' _LanguageValue__removed=False>, <Alias @f07610 _LanguageValue__language='en-ca' _LanguageValue__value='sandbox' _LanguageValue__removed=False>], 'ms': [<Alias @f04e50 _LanguageValue__language='ms' _LanguageValue__value='KP' _LanguageValue__removed=False>, <Alias @f06bd0 _LanguageValue__language='ms' _LanguageValue__value='kotak pasir' _LanguageValue__removed=False>, <Alias @f04490 _LanguageValue__language='ms' _LanguageValue__value='uji' _LanguageValue__removed=False>, <Alias @f07150 _LanguageValue__language='ms' _LanguageValue__value='ujian' _LanguageValue__removed=False>, <Alias @f069d0 _LanguageValue__language='ms' _LanguageValue__value='cuba' _LanguageValue__removed=False>], 'bn': [<Alias @f06850 _LanguageValue__language='bn' _LanguageValue__value='খেলাঘর' _LanguageValue__removed=False>], 'en-gb': [<Alias @f05f50 _LanguageValue__language='en-gb' _LanguageValue__value='SB' _LanguageValue__removed=False>, <Alias @f06cd0 _LanguageValue__language='en-gb' _LanguageValue__value='Property test' _LanguageValue__removed=False>, <Alias @f06d10 _LanguageValue__language='en-gb' _LanguageValue__value='test' _LanguageValue__removed=False>, <Alias @f04910 _LanguageValue__language='en-gb' _LanguageValue__value='Wikidata SandboxItem' _LanguageValue__removed=False>, <Alias @f07bd0 _LanguageValue__language='en-gb' _LanguageValue__value='Wikidata BOX' _LanguageValue__removed=False>, <Alias @f07d90 _LanguageValue__language='en-gb' _LanguageValue__value='sandbox' _LanguageValue__removed=False>], 'zh-cn': [<Alias @f06650 _LanguageValue__language='zh-cn' _LanguageValue__value='维基数据沙盒' _LanguageValue__removed=False>], 'be-tarask': [<Alias @f065d0 _LanguageValue__language='be-tarask' _LanguageValue__value='Пясочніца Вікізьвестак' _LanguageValue__removed=False>], 'zh-tw': [<Alias @f07a50 _LanguageValue__language='zh-tw' _LanguageValue__value='沙盒' _LanguageValue__removed=False>, <Alias @f07e10 _LanguageValue__language='zh-tw' _LanguageValue__value='測試' _LanguageValue__removed=False>, <Alias @f071d0 _LanguageValue__language='zh-tw' _LanguageValue__value='維基數據測試' _LanguageValue__removed=False>], 'it': [<Alias @f060d0 _LanguageValue__language='it' _LanguageValue__value='sandbox di Wikidata' _LanguageValue__removed=False>]}>\n",
       "\t _ItemEntity__sitelinks=<Sitelinks @634390 sitelinks={'arwiki': <Sitelink @633790 site='arwiki' title='ويكيبيديا:ويكي بيانات/ملعب ويكي بيانات' badges=[]>, 'dewiki': <Sitelink @633510 site='dewiki' title='Wikipedia:Wikidata/Wikidata-Spielwiese' badges=[]>, 'elwiki': <Sitelink @631ad0 site='elwiki' title='Βικιπαίδεια:Wikidata/Πρόχειρο Wikidata' badges=[]>, 'enwiki': <Sitelink @631dd0 site='enwiki' title='Wikipedia:Wikidata/Wikidata Sandbox' badges=[]>, 'eswiki': <Sitelink @633690 site='eswiki' title='Wikipedia:Wikidata/Zona de pruebas' badges=[]>, 'fawiki': <Sitelink @6331d0 site='fawiki' title='ویکی\\u200cپدیا:صفحه تمرین/ویکی\\u200cداده' badges=[]>, 'fiwiki': <Sitelink @631850 site='fiwiki' title='Wikipedia:Wikidata-hiekkalaatikko' badges=[]>, 'frwiki': <Sitelink @631890 site='frwiki' title='Wikipédia:Wikidata/Bac à sable' badges=[]>, 'huwiki': <Sitelink @632910 site='huwiki' title='Wikipédia:Wikidata/Homokozó' badges=[]>, 'huwikiquote': <Sitelink @633d90 site='huwikiquote' title='Wikidézet:Wikidata-homokozó' badges=[]>, 'itwiki': <Sitelink @632d10 site='itwiki' title='Wikipedia:Pagina delle prove di Wikidata' badges=[]>, 'itwikiquote': <Sitelink @632750 site='itwikiquote' title='Wikiquote:Pagina delle prove di Wikidata' badges=[]>, 'jawiki': <Sitelink @632a50 site='jawiki' title='Wikipedia:ウィキデータ/ウィキデータ・サンドボックス' badges=[]>, 'kowiki': <Sitelink @6332d0 site='kowiki' title='위키백과:위키데이터/연습장' badges=[]>, 'nlwiki': <Sitelink @632b10 site='nlwiki' title='Wikipedia:Wikidata/zandbak' badges=[]>, 'plwiki': <Sitelink @6335d0 site='plwiki' title='Wikipedia:Brudnopis/Wikidane' badges=[]>, 'ruwiki': <Sitelink @633850 site='ruwiki' title='Википедия:Песочница Викиданных' badges=[]>, 'ruwikinews': <Sitelink @633a90 site='ruwikinews' title='Викиновости:Песочница Викиданных' badges=[]>, 'svwiki': <Sitelink @633b50 site='svwiki' title='Wikipedia:Sandlåda för Wikidata' badges=[]>, 'wikidatawiki': <Sitelink @633b90 site='wikidatawiki' title='Wikidata:Sandbox/test' badges=[]>, 'zhwiki': <Sitelink @632d50 site='zhwiki' title='Wikipedia:维基数据/沙盒' badges=[]>, 'zhwikisource': <Sitelink @632dd0 site='zhwikisource' title='Wikisource:维基数据/沙盒' badges=[]>}>>"
      ]
     },
     "execution_count": 17,
     "metadata": {},
     "output_type": "execute_result"
    }
   ],
   "source": [
    "sandbox_entity.write()"
   ]
  },
  {
   "cell_type": "markdown",
   "metadata": {},
   "source": [
    "## Creating a New Item"
   ]
  },
  {
   "cell_type": "markdown",
   "metadata": {},
   "source": [
    "Feel free to give try out the [item creation example](https://github.com/LeMyst/WikibaseIntegrator/blob/master/notebooks/item_create_new.ipynb) on [Test Wikidata](https://test.wikidata.org/wiki/Wikidata:Main_Page)!"
   ]
  },
  {
   "cell_type": "code",
   "execution_count": null,
   "metadata": {},
   "outputs": [],
   "source": []
  }
 ],
 "metadata": {
  "kernelspec": {
   "display_name": "Python 3 (ipykernel)",
   "language": "python",
   "name": "python3"
  },
  "language_info": {
   "codemirror_mode": {
    "name": "ipython",
    "version": 3
   },
   "file_extension": ".py",
   "mimetype": "text/x-python",
   "name": "python",
   "nbconvert_exporter": "python",
   "pygments_lexer": "ipython3",
   "version": "3.11.4"
  }
 },
 "nbformat": 4,
 "nbformat_minor": 2
}
