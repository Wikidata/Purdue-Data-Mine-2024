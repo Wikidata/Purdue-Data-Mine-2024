{
 "cells": [
  {
   "cell_type": "markdown",
   "metadata": {},
   "source": [
    "# Wikidata Bots\n",
    "\n",
    "> Welcome!\n",
    "> \n",
    "> Please download this notebook and load it into your [PAWS instance](https://hub-paws.wmcloud.org/)\n",
    "\n",
    "This notebook provides an overview of working with Wikidata via bots using Python frameworks.\n",
    "\n",
    "Check out the [Wikidata:Bots documentation page](https://www.wikidata.org/wiki/Wikidata:Bots) and [Wikidata:Creating a bot](https://www.wikidata.org/wiki/Wikidata:Creating_a_bot) for a full overview of the process.\n",
    "\n",
    "**Note**: for this notebook we're using the [Wikidata item sandbox](https://www.wikidata.org/wiki/Q4115189), but if you want to be changing more things in your testing, please consider using [Test Wikidata](https://test.wikidata.org).\n",
    "\n",
    "**Note**: Remember that you'll need to remake the entities each time you want to add new claims, or generally just keep in mind that operations that you're doing might get compounded like adding something twice when you want to do the a new operation but haven't reloaded, or changing your statement from something that was broken and still having the broken statement loaded in to what you're trying to upload."
   ]
  },
  {
   "cell_type": "markdown",
   "metadata": {},
   "source": [
    "## Introduction"
   ]
  },
  {
   "cell_type": "markdown",
   "metadata": {},
   "source": [
    "Source: [Wikidata:Bots](https://www.wikidata.org/wiki/Wikidata:Bots)\n",
    "\n",
    "Wikidata is meant to be edited by both humans and machines, so learning how to use bots is an invaluable step in improving your ability to have an impact on data ingestion and quality. Bots can add [interwiki links](https://www.wikidata.org/wiki/Help:Sitelinks), [labels](https://www.wikidata.org/wiki/Help:Label), [descriptions](https://www.wikidata.org/wiki/Help:Description), [statements](https://www.wikidata.org/wiki/Help:Statements), [sources](https://www.wikidata.org/wiki/Help:Sources), and can even create items, among other things.\n",
    "\n",
    "**Note**: Wikidata has a strict bot policy to assure that they are used in a way that is beneficial to the community and project as a whole.\n",
    "\n",
    "> In the case of any damage caused by a bot, the bot operator is asked to stop the bot. Depending on the scale of the damage, an administrator may block the bot. The bot operator is responsible for cleaning up any damage caused by the bot.\n",
    "\n",
    "A summary of this policy and suggestions are:\n",
    "\n",
    "- Please [create a separate account](https://www.wikidata.org/w/index.php?title=Special:CreateAccount&returnto=Wikidata%3ABots) for your bot activity\n",
    "  - Name your bot after your normal username and add in the word `bot`\n",
    "  - The above helps identify bot activity\n",
    "    - Bot flags in our Data Lake are based on usernames and activity\n",
    "  - Create a talk page with the [bot template](https://www.wikidata.org/wiki/Template:Bot)\n",
    "    - Just put `{{Bot|USER_NAME}}` in the user page text\n",
    "- Add an [assertion](https://www.mediawiki.org/wiki/API:Assert) to your activity to make sure the bot is logged in\n",
    "  - The Python packages below will do this for you\n",
    "- Add the [bots page on Wikidata](https://www.wikidata.org/wiki/Wikidata:Bots) to your watched pages as discussions related to bots happen there\n",
    "- Bots are expected to respect [maxlag](https://www.mediawiki.org/wiki/Manual:Maxlag_parameter) and follow the [API etiquette](https://www.mediawiki.org/wiki/API:Etiquette)\n",
    "- Request permission for a bot flag at [Wikidata:Requests_for_permissions/Bot](https://www.wikidata.org/wiki/Wikidata:Requests_for_permissions/Bot)\n",
    "  - You're expected to run a test of 50-250 edits\n",
    "    - Start the permission process before this\n",
    "    - Or edit the test item for your 50 edits (see below)\n",
    "  - You should outline the purpose of the bot, and if it expands too much, consider making a new bot flag request\n",
    "  - If accepted, an admin/bureaucrat will close the request and a bureaucrat will add the flag\n",
    "- No permission is needed for the following pages\n",
    "  - The operator/bot's userspace\n",
    "  - The [Wikidata sandbox](https://www.wikidata.org/wiki/Wikidata:Sandbox)\n",
    "  - The [Wikidata item sandbox](https://www.wikidata.org/wiki/Q4115189) (what we'll edit!)\n",
    "\n",
    "There are also admin bots! In addition to requesting permission for the bot, a request for [admin permissions](https://www.wikidata.org/wiki/Wikidata:Requests_for_permissions/Administrator) is also necessary.\n",
    "\n",
    "See [bot requirements](https://www.wikidata.org/wiki/Wikidata:Bots#Bot_requirements) for a full list of what is expected once your bot is up and running."
   ]
  },
  {
   "cell_type": "markdown",
   "metadata": {},
   "source": [
    "## Creating a Bot\n",
    "\n",
    "Source: [Wikidata:Creating a bot](https://www.wikidata.org/wiki/Wikidata:Creating_a_bot)\n",
    "\n",
    "**Note**: the suggested tool is [Wikibase Integrator](https://github.com/LeMyst/WikibaseIntegrator)\n",
    "\n",
    "There are three Python based bot libraries of note:\n",
    "- [Pywikibot](https://github.com/wikimedia/pywikibot)\n",
    "  - See: [Wikidata:Creating_a_bot#Pywikibot](https://www.wikidata.org/wiki/Wikidata:Creating_a_bot#Pywikibot)\n",
    "  - For interacting with the MediaWiki API, so not just Wikidata\n",
    "  - Note that at time of writing it has incomplete support for lexemes (language data)\n",
    "- [Wikidata Integrator](https://github.com/SuLab/WikidataIntegrator)\n",
    "  - See: [Wikidata:Creating_a_bot#Wikidata_Integrator](https://www.wikidata.org/wiki/Wikidata:Creating_a_bot#Wikidata_Integrator)\n",
    "  - Has high integration with the Wikidata SPARQL endpoint\n",
    "  - Note that adding references was found to be difficult and is thus not included\n",
    "- [Wikibase Integrator](https://github.com/LeMyst/WikibaseIntegrator)\n",
    "  - See: [Wikidata:Creating_a_bot#WikibaseIntegrator](https://www.wikidata.org/wiki/Wikidata:Creating_a_bot#WikibaseIntegrator)\n",
    "  - The [usage examples](https://github.com/LeMyst/WikibaseIntegrator/tree/master/notebooks)/[docs](https://wikibaseintegrator.readthedocs.io/en/stable/) are expansive\n",
    "  - Most of what you need is in the [readme](https://github.com/LeMyst/WikibaseIntegrator?tab=readme-ov-file#wikibase-integrator)\n",
    "  \n",
    "We'll include a basic example of interacting with the [Wikidata item sandbox](https://www.wikidata.org/wiki/Q4115189) for each of the packages above.\n",
    "\n",
    "Once our bot is ready, we'd host it on [Toolforge](https://wikitech.wikimedia.org/wiki/Help:Toolforge), a Raspberry Pi with a cron job running the script, or countless other ways of reading Python code and running it at an interval to do the assigned functions of the bot."
   ]
  },
  {
   "cell_type": "markdown",
   "metadata": {},
   "source": [
    "## Imports"
   ]
  },
  {
   "cell_type": "markdown",
   "metadata": {},
   "source": [
    "The install of `plantuml` below is for Wikidata Integrator."
   ]
  },
  {
   "cell_type": "code",
   "execution_count": 44,
   "metadata": {},
   "outputs": [],
   "source": [
    "%%capture\n",
    "pip install pywikibot"
   ]
  },
  {
   "cell_type": "code",
   "execution_count": null,
   "metadata": {},
   "outputs": [],
   "source": [
    "%%capture\n",
    "pip install plantuml"
   ]
  },
  {
   "cell_type": "code",
   "execution_count": 25,
   "metadata": {},
   "outputs": [],
   "source": [
    "%%capture\n",
    "pip install wikidataintegrator"
   ]
  },
  {
   "cell_type": "code",
   "execution_count": 3,
   "metadata": {},
   "outputs": [],
   "source": [
    "%%capture\n",
    "pip install wikibaseintegrator"
   ]
  },
  {
   "cell_type": "code",
   "execution_count": 2,
   "metadata": {},
   "outputs": [
    {
     "data": {
      "text/html": [
       "\n",
       "                <script type=\"application/javascript\" id=\"jupyter_black\">\n",
       "                (function() {\n",
       "                    if (window.IPython === undefined) {\n",
       "                        return\n",
       "                    }\n",
       "                    var msg = \"WARNING: it looks like you might have loaded \" +\n",
       "                        \"jupyter_black in a non-lab notebook with \" +\n",
       "                        \"`is_lab=True`. Please double check, and if \" +\n",
       "                        \"loading with `%load_ext` please review the README!\"\n",
       "                    console.log(msg)\n",
       "                    alert(msg)\n",
       "                })()\n",
       "                </script>\n",
       "                "
      ],
      "text/plain": [
       "<IPython.core.display.HTML object>"
      ]
     },
     "metadata": {},
     "output_type": "display_data"
    }
   ],
   "source": [
    "%load_ext jupyter_black"
   ]
  },
  {
   "cell_type": "code",
   "execution_count": 1,
   "metadata": {},
   "outputs": [],
   "source": [
    "from datetime import datetime\n",
    "from getpass import getpass\n",
    "import os\n",
    "\n",
    "import pywikibot\n",
    "from pywikibot.login import ClientLoginManager\n",
    "from wikibaseintegrator import WikibaseIntegrator, datatypes, wbi_login\n",
    "from wikibaseintegrator.models import References, Reference\n",
    "from wikibaseintegrator.wbi_config import config\n",
    "from wikidataintegrator import wdi_core, wdi_login"
   ]
  },
  {
   "cell_type": "markdown",
   "metadata": {},
   "source": [
    "For these examples, we'll be using [Andrew McAllister Bot (WMDE)](https://www.wikidata.org/wiki/User:Andrew_McAllister_Bot_(WMDE))."
   ]
  },
  {
   "cell_type": "code",
   "execution_count": 3,
   "metadata": {},
   "outputs": [
    {
     "name": "stdout",
     "output_type": "stream",
     "text": [
      "Enter your bot account password: ········\n"
     ]
    }
   ],
   "source": [
    "# Login information for all the tools.\n",
    "WD_USER = \"Andrew McAllister Bot (WMDE)\"\n",
    "WD_PASS = getpass(prompt=\"Enter your bot account password: \")"
   ]
  },
  {
   "cell_type": "code",
   "execution_count": 4,
   "metadata": {},
   "outputs": [
    {
     "name": "stdout",
     "output_type": "stream",
     "text": [
      "https://www.wikidata.org/wiki/Q4115189\n"
     ]
    }
   ],
   "source": [
    "# Sandbox item ID that we can experiment with.\n",
    "WD_ITEM_SANDBOX_QID = \"Q4115189\"\n",
    "WD_ITEM_URL_PREFIX = \"https://www.wikidata.org/wiki/\"\n",
    "\n",
    "print(f\"{WD_ITEM_URL_PREFIX}{WD_ITEM_SANDBOX_QID}\")"
   ]
  },
  {
   "cell_type": "code",
   "execution_count": 5,
   "metadata": {},
   "outputs": [],
   "source": [
    "# For references later.\n",
    "current_year = datetime.now().year\n",
    "current_month = datetime.now().month\n",
    "current_day = datetime.now().day"
   ]
  },
  {
   "cell_type": "markdown",
   "metadata": {},
   "source": [
    "## Pywikibot"
   ]
  },
  {
   "cell_type": "markdown",
   "metadata": {},
   "source": [
    "- [See Pywikibot on GitHub](https://github.com/wikimedia/pywikibot)\n",
    "\n",
    "Comment: Has a lot of great features, but getting setup and usage is a bit cumbersome."
   ]
  },
  {
   "cell_type": "markdown",
   "metadata": {},
   "source": [
    "Note that when using Pywikibot the following files will be made in your local directory:\n",
    "\n",
    "- apicache\n",
    "- pywikibot.lwp\n",
    "- pywikibot-BOT_NAME.lwp\n",
    "- throttle.ctrl\n",
    "\n",
    "Remember to include these files in `.gitignore`."
   ]
  },
  {
   "cell_type": "markdown",
   "metadata": {},
   "source": [
    "### Create and Register Configuration File"
   ]
  },
  {
   "cell_type": "markdown",
   "metadata": {},
   "source": [
    "Before proceeding, create a file `user-config.py` with the following information:\n",
    "\n",
    "```\n",
    "family = \"wikidata\"\n",
    "mylang = \"wikidata\"\n",
    "usernames[\"wikidata\"][\"wikidata\"] = \"YOUR_BOT_OR_USER_NAME\"  # noqa\n",
    "```\n",
    "\n",
    "For the following process, `Andrew McAllister Bot (WMDE)` was replaced for the user name above, and `# noqa` is used to suppress a linting error that `usernames` is undefined. \n",
    "\n",
    "**Note**: if you're using [Test Wikidata](https://test.wikidata.org), `mylang` above is `\"test\"`."
   ]
  },
  {
   "cell_type": "code",
   "execution_count": 8,
   "metadata": {},
   "outputs": [],
   "source": [
    "pywikibot.config.register_families_folder(os.getcwd())\n",
    "os.environ[\"PYWIKIBOT_DIR\"] = os.getcwd()"
   ]
  },
  {
   "cell_type": "markdown",
   "metadata": {},
   "source": [
    "### Login and Initialize Repo"
   ]
  },
  {
   "cell_type": "code",
   "execution_count": 11,
   "metadata": {},
   "outputs": [
    {
     "name": "stderr",
     "output_type": "stream",
     "text": [
      "Logging in to wikidata:wikidata as Andrew McAllister Bot (WMDE)\n"
     ]
    }
   ],
   "source": [
    "site = pywikibot.Site(\"wikidata\", \"wikidata\")\n",
    "\n",
    "lm = ClientLoginManager(\n",
    "    site=site,\n",
    "    user=WD_USER,\n",
    "    password=WD_PASS,\n",
    ")\n",
    "lm.login()\n",
    "\n",
    "repo = site.data_repository()"
   ]
  },
  {
   "cell_type": "code",
   "execution_count": 12,
   "metadata": {},
   "outputs": [
    {
     "data": {
      "text/plain": [
       "'AS_USER'"
      ]
     },
     "execution_count": 12,
     "metadata": {},
     "output_type": "execute_result"
    }
   ],
   "source": [
    "pywikibot.login.LoginStatus(0).name"
   ]
  },
  {
   "cell_type": "markdown",
   "metadata": {},
   "source": [
    "### Access Basic Item Information"
   ]
  },
  {
   "cell_type": "code",
   "execution_count": 13,
   "metadata": {},
   "outputs": [],
   "source": [
    "item = pywikibot.ItemPage(repo, WD_ITEM_SANDBOX_QID)"
   ]
  },
  {
   "cell_type": "code",
   "execution_count": 14,
   "metadata": {},
   "outputs": [
    {
     "data": {
      "text/plain": [
       "'Wikidata Sandbox'"
      ]
     },
     "execution_count": 14,
     "metadata": {},
     "output_type": "execute_result"
    }
   ],
   "source": [
    "item.labels.get(\"en\")"
   ]
  },
  {
   "cell_type": "code",
   "execution_count": 15,
   "metadata": {},
   "outputs": [
    {
     "data": {
      "text/plain": [
       "'This is a sandbox for testing changes to items. Please be gentle with it. Feel free to change anything on this page! For testing links, try adding ones to userpages.'"
      ]
     },
     "execution_count": 15,
     "metadata": {},
     "output_type": "execute_result"
    }
   ],
   "source": [
    "item.descriptions.get(\"en\")"
   ]
  },
  {
   "cell_type": "code",
   "execution_count": 16,
   "metadata": {},
   "outputs": [
    {
     "name": "stdout",
     "output_type": "stream",
     "text": [
      "https://www.wikidata.org/wiki/Q21281405\n"
     ]
    }
   ],
   "source": [
    "sandbox_entity_instance_of_qid = \"Q\" + str(\n",
    "    item.claims.get(\"P31\")[0].toJSON()[\"mainsnak\"][\"datavalue\"][\"value\"][\"numeric-id\"]\n",
    ")\n",
    "\n",
    "print(f\"{WD_ITEM_URL_PREFIX}{sandbox_entity_instance_of_qid}\")"
   ]
  },
  {
   "cell_type": "markdown",
   "metadata": {},
   "source": [
    "### Editing the Sandbox Item"
   ]
  },
  {
   "cell_type": "code",
   "execution_count": 17,
   "metadata": {},
   "outputs": [],
   "source": [
    "# Add the \"used by\" (P1535) statement referencing \"Internet bot\" (Q191865).\n",
    "claim = pywikibot.Claim(repo, \"P1535\")\n",
    "target = pywikibot.ItemPage(repo, \"Q191865\")\n",
    "claim.setTarget(target)\n",
    "item.addClaim(claim, summary=\"Adding claim used by Internet bot\")"
   ]
  },
  {
   "cell_type": "code",
   "execution_count": 18,
   "metadata": {},
   "outputs": [],
   "source": [
    "# Add the \"statement is subject of\" (P805) qualifier referencing \"Pywikibot\" (Q15169668).\n",
    "qualifier = pywikibot.Claim(repo, \"P805\")\n",
    "target = pywikibot.ItemPage(repo, \"Q15169668\")\n",
    "qualifier.setTarget(target)\n",
    "claim.addQualifier(\n",
    "    qualifier, summary=\"Adding qualifier for statement being subject of Pywikibot.\"\n",
    ")"
   ]
  },
  {
   "cell_type": "code",
   "execution_count": 22,
   "metadata": {},
   "outputs": [],
   "source": [
    "# Add the \"stated in\" (P248) source referencing \"software documentation\" (Q181702).\n",
    "statedin = pywikibot.Claim(repo, \"P248\")\n",
    "source = pywikibot.ItemPage(repo, \"Q181702\")\n",
    "statedin.setTarget(source)\n",
    "\n",
    "# Add the \"retrieved\" (P813) reference for today's date.\n",
    "retrieved = pywikibot.Claim(repo, \"P813\")\n",
    "date = pywikibot.WbTime(year=current_year, month=current_month, day=current_day)\n",
    "retrieved.setTarget(date)\n",
    "\n",
    "claim.addSources([statedin, retrieved], summary=\"Adding sources.\")"
   ]
  },
  {
   "cell_type": "markdown",
   "metadata": {},
   "source": [
    "## Wikidata Integrator"
   ]
  },
  {
   "cell_type": "markdown",
   "metadata": {},
   "source": [
    "- [See Wikidata Integrator on GitHub](https://github.com/SuLab/WikidataIntegrator)\n",
    "\n",
    "Comment: Was the easiest to get started and work with, but adding references proved too difficult to demonstrate."
   ]
  },
  {
   "cell_type": "markdown",
   "metadata": {},
   "source": [
    "### Login and Create Object"
   ]
  },
  {
   "cell_type": "code",
   "execution_count": 30,
   "metadata": {},
   "outputs": [],
   "source": [
    "login_instance = wdi_login.WDLogin(user=WD_USER, pwd=WD_PASS)"
   ]
  },
  {
   "cell_type": "markdown",
   "metadata": {},
   "source": [
    "### Access Basic Item Information"
   ]
  },
  {
   "cell_type": "code",
   "execution_count": 31,
   "metadata": {},
   "outputs": [],
   "source": [
    "item = wdi_core.WDItemEngine(wd_item_id=WD_ITEM_SANDBOX_QID)"
   ]
  },
  {
   "cell_type": "code",
   "execution_count": 32,
   "metadata": {},
   "outputs": [],
   "source": [
    "item_dict = item.get_wd_json_representation()"
   ]
  },
  {
   "cell_type": "code",
   "execution_count": 33,
   "metadata": {},
   "outputs": [
    {
     "data": {
      "text/plain": [
       "'Wikidata Sandbox'"
      ]
     },
     "execution_count": 33,
     "metadata": {},
     "output_type": "execute_result"
    }
   ],
   "source": [
    "item_dict[\"labels\"][\"en\"][\"value\"]"
   ]
  },
  {
   "cell_type": "code",
   "execution_count": 34,
   "metadata": {},
   "outputs": [
    {
     "data": {
      "text/plain": [
       "'This is a sandbox for testing changes to items. Please be gentle with it. Feel free to change anything on this page! For testing links, try adding ones to userpages.'"
      ]
     },
     "execution_count": 34,
     "metadata": {},
     "output_type": "execute_result"
    }
   ],
   "source": [
    "item_dict[\"descriptions\"][\"en\"][\"value\"]"
   ]
  },
  {
   "cell_type": "code",
   "execution_count": 37,
   "metadata": {},
   "outputs": [
    {
     "name": "stdout",
     "output_type": "stream",
     "text": [
      "https://www.wikidata.org/wiki/Q21281405\n"
     ]
    }
   ],
   "source": [
    "sandbox_entity_instance_of_qid = item_dict[\"claims\"][\"P31\"][0][\"mainsnak\"][\"datavalue\"][\n",
    "    \"value\"\n",
    "][\"id\"]\n",
    "\n",
    "print(f\"https://www.wikidata.org/wiki/{sandbox_entity_instance_of_qid}\")"
   ]
  },
  {
   "cell_type": "markdown",
   "metadata": {},
   "source": [
    "### Editing the Sandbox Item"
   ]
  },
  {
   "cell_type": "code",
   "execution_count": 132,
   "metadata": {},
   "outputs": [],
   "source": [
    "# Add the \"different from\" (P1889) statement referencing \"sandpit\" (Q213454).\n",
    "statements = [wdi_core.WDItemID(value=\"Q213454\", prop_nr=\"P1889\")]"
   ]
  },
  {
   "cell_type": "code",
   "execution_count": 133,
   "metadata": {},
   "outputs": [],
   "source": [
    "wd_item = wdi_core.WDItemEngine(wd_item_id=WD_ITEM_SANDBOX_QID, data=statements)"
   ]
  },
  {
   "cell_type": "code",
   "execution_count": 134,
   "metadata": {},
   "outputs": [
    {
     "data": {
      "text/plain": [
       "'Q4115189'"
      ]
     },
     "execution_count": 134,
     "metadata": {},
     "output_type": "execute_result"
    }
   ],
   "source": [
    "wd_item.write(login_instance)"
   ]
  },
  {
   "cell_type": "markdown",
   "metadata": {},
   "source": [
    "## Wikibase Integrator"
   ]
  },
  {
   "cell_type": "markdown",
   "metadata": {},
   "source": [
    "- [See Wikibase Integrator on GitHub](https://github.com/LeMyst/WikibaseIntegrator)\n",
    "\n",
    "- Comment: Seems to be the best option for Wikidata. Setup is in the middle of the three presented tools, but includes enforcement of best practices. Editing Wikidata and including references is quite simple."
   ]
  },
  {
   "cell_type": "markdown",
   "metadata": {},
   "source": [
    "### Login and Create Object"
   ]
  },
  {
   "cell_type": "code",
   "execution_count": 6,
   "metadata": {},
   "outputs": [],
   "source": [
    "# Make a user agent string that clearly states the bot account.\n",
    "USER_AGENT_STRING = \"Andrew McAllister Bot (WMDE)/1.0 (https://www.wikidata.org/wiki/User:Andrew McAllister Bot (WMDE))\""
   ]
  },
  {
   "cell_type": "code",
   "execution_count": 7,
   "metadata": {},
   "outputs": [],
   "source": [
    "config[\"USER_AGENT\"] = USER_AGENT_STRING"
   ]
  },
  {
   "cell_type": "code",
   "execution_count": 8,
   "metadata": {},
   "outputs": [],
   "source": [
    "WD_ACTION_API_ENDPOINT = \"https://www.wikidata.org/w/api.php\""
   ]
  },
  {
   "cell_type": "code",
   "execution_count": 9,
   "metadata": {},
   "outputs": [
    {
     "name": "stderr",
     "output_type": "stream",
     "text": [
      "WARNING:wikibaseintegrator.wbi_login:MediaWiki login warnings messages:\n",
      "WARNING:wikibaseintegrator.wbi_login:* main: Subscribe to the mediawiki-api-announce mailing list at <https://lists.wikimedia.org/postorius/lists/mediawiki-api-announce.lists.wikimedia.org/> for notice of API deprecations and breaking changes. Use [[Special:ApiFeatureUsage]] to see usage of deprecated features by your application.\n",
      "WARNING:wikibaseintegrator.wbi_login:* login: Main-account login via \"action=login\" is deprecated and may stop working without warning. To continue login with \"action=login\", see [[Special:BotPasswords]]. To safely continue using main-account login, see \"action=clientlogin\".\n"
     ]
    }
   ],
   "source": [
    "login_wikidata = wbi_login.Login(\n",
    "    user=WD_USER,\n",
    "    password=WD_PASS,\n",
    "    mediawiki_api_url=WD_ACTION_API_ENDPOINT,\n",
    ")"
   ]
  },
  {
   "cell_type": "code",
   "execution_count": 10,
   "metadata": {},
   "outputs": [],
   "source": [
    "# Add login credentials to your WikibaseIntegrator object so they're applied to all requests.\n",
    "wbi = WikibaseIntegrator(login=login_wikidata)"
   ]
  },
  {
   "cell_type": "markdown",
   "metadata": {},
   "source": [
    "### Access Basic Item Information"
   ]
  },
  {
   "cell_type": "code",
   "execution_count": 43,
   "metadata": {},
   "outputs": [],
   "source": [
    "sandbox_entity = wbi.item.get(\n",
    "    WD_ITEM_SANDBOX_QID,\n",
    "    mediawiki_api_url=WD_ACTION_API_ENDPOINT,\n",
    ")"
   ]
  },
  {
   "cell_type": "code",
   "execution_count": 44,
   "metadata": {},
   "outputs": [
    {
     "data": {
      "text/plain": [
       "'Wikidata Sandbox'"
      ]
     },
     "execution_count": 44,
     "metadata": {},
     "output_type": "execute_result"
    }
   ],
   "source": [
    "sandbox_entity.labels.get(\"en\").value"
   ]
  },
  {
   "cell_type": "code",
   "execution_count": 45,
   "metadata": {},
   "outputs": [
    {
     "data": {
      "text/plain": [
       "'This is a sandbox for testing changes to items. Please be gentle with it. Feel free to change anything on this page! For testing links, try adding ones to userpages.'"
      ]
     },
     "execution_count": 45,
     "metadata": {},
     "output_type": "execute_result"
    }
   ],
   "source": [
    "sandbox_entity.descriptions.get(\"en\").value"
   ]
  },
  {
   "cell_type": "code",
   "execution_count": 46,
   "metadata": {},
   "outputs": [
    {
     "name": "stdout",
     "output_type": "stream",
     "text": [
      "https://www.wikidata.org/wiki/Q21281405\n"
     ]
    }
   ],
   "source": [
    "sandbox_entity_instance_of_qid = sandbox_entity.claims.get(\"P31\")[0].mainsnak.datavalue[\n",
    "    \"value\"\n",
    "][\"id\"]\n",
    "\n",
    "print(f\"https://www.wikidata.org/wiki/{sandbox_entity_instance_of_qid}\")"
   ]
  },
  {
   "cell_type": "markdown",
   "metadata": {},
   "source": [
    "### Editing the Sandbox Item"
   ]
  },
  {
   "cell_type": "code",
   "execution_count": 47,
   "metadata": {},
   "outputs": [
    {
     "data": {
      "text/plain": [
       "<References @bed510 _References__references=[<Reference @1a2190 _Reference__hash=None _Reference__snaks=<Snaks @254110 snaks={'P361': [<Snak @cd0950 _Snak__snaktype=<WikibaseSnakType.KNOWN_VALUE: 'value'> _Snak__property_number='P361' _Snak__hash=None _Snak__datavalue={'value': {'entity-type': 'item', 'numeric-id': 2013, 'id': 'Q2013'}, 'type': 'wikibase-entityid'} _Snak__datatype='wikibase-item'>]}> _Reference__snaks_order=[]>, <Reference @255090 _Reference__hash=None _Reference__snaks=<Snaks @5ee990 snaks={'P813': [<Snak @447590 _Snak__snaktype=<WikibaseSnakType.KNOWN_VALUE: 'value'> _Snak__property_number='P813' _Snak__hash=None _Snak__datavalue={'value': {'time': '+2024-04-15T00:00:00Z', 'before': 0, 'after': 0, 'precision': 11, 'timezone': 0, 'calendarmodel': 'http://www.wikidata.org/entity/Q1985727'}, 'type': 'time'} _Snak__datatype='time'>]}> _Reference__snaks_order=[]>, <Reference @4f75d0 _Reference__hash=None _Reference__snaks=<Snaks @447690 snaks={'P2536': [<Snak @3cba90 _Snak__snaktype=<WikibaseSnakType.KNOWN_VALUE: 'value'> _Snak__property_number='P2536' _Snak__hash=None _Snak__datavalue={'value': '2013', 'type': 'string'} _Snak__datatype='external-id'>]}> _Reference__snaks_order=[]>]>"
      ]
     },
     "execution_count": 47,
     "metadata": {},
     "output_type": "execute_result"
    }
   ],
   "source": [
    "# Add the \"part of\" (P361) reference for Wikidata (Q2013).\n",
    "# Add the \"retrieved\" (P813) reference for today's date.\n",
    "# Add the \"Sandbox-External identifier\" (P2536) reference for '2013'.\n",
    "references = References()\n",
    "\n",
    "reference_item = Reference()\n",
    "reference_time = Reference()\n",
    "reference_external_id = Reference()\n",
    "\n",
    "reference_item.add(datatypes.Item(value=\"Q2013\", prop_nr=\"P361\"))\n",
    "\n",
    "reference_time.add(\n",
    "    datatypes.Time(\n",
    "        prop_nr=\"P813\", time=\"+\" + datetime.now().strftime(\"%Y-%m-%d\") + \"T00:00:00Z\"\n",
    "    )\n",
    ")\n",
    "\n",
    "reference_external_id.add(datatypes.ExternalID(value=\"2013\", prop_nr=\"P2536\"))\n",
    "\n",
    "references.add(reference_item)\n",
    "references.add(reference_time)\n",
    "references.add(reference_external_id)"
   ]
  },
  {
   "cell_type": "code",
   "execution_count": 48,
   "metadata": {},
   "outputs": [
    {
     "data": {
      "text/plain": [
       "<Claims @ba8d50 _Claims__claims={'P31': [<Item @ba8310 _Claim__mainsnak=<Snak @ba9d10 _Snak__snaktype=<WikibaseSnakType.KNOWN_VALUE: 'value'> _Snak__property_number='P31' _Snak__hash='d5a7ba441737489875ed734038d09d2bd5e3e0f0' _Snak__datavalue={'value': {'entity-type': 'item', 'numeric-id': 21281405, 'id': 'Q21281405'}, 'type': 'wikibase-entityid'} _Snak__datatype='wikibase-item'> _Claim__type='statement' _Claim__qualifiers=<Qualifiers @baa4d0 _Qualifiers__qualifiers={}> _Claim__qualifiers_order=[] _Claim__id='Q4115189$c99d6ad2-4c86-8b3a-5399-3ab1ac6c369b' _Claim__rank=<WikibaseRank.NORMAL: 'normal'> _Claim__removed=False _Claim__references=<References @ba8750 _References__references=[<Reference @baa450 _Reference__hash='67f594d1feef711b0d459ff142a881f70c90365a' _Reference__snaks=<Snaks @bab250 snaks={'P854': [<Snak @ba9b10 _Snak__snaktype=<WikibaseSnakType.KNOWN_VALUE: 'value'> _Snak__property_number='P854' _Snak__hash='a824a848663de576ada9225a891673a56d7f93c0' _Snak__datavalue={'value': 'https://www.dbpedia.org/', 'type': 'string'} _Snak__datatype='url'>, <Snak @befcd0 _Snak__snaktype=<WikibaseSnakType.KNOWN_VALUE: 'value'> _Snak__property_number='P854' _Snak__hash='b9d8a376970f7768dce1bf97e3657e1af1e421a8' _Snak__datavalue={'value': 'https://www.w3.org/2001/sw/wiki/Main_Page', 'type': 'string'} _Snak__datatype='url'>]}> _Reference__snaks_order=['P854']>]>>], 'P460': [<Item @ba9e10 _Claim__mainsnak=<Snak @b48110 _Snak__snaktype=<WikibaseSnakType.KNOWN_VALUE: 'value'> _Snak__property_number='P460' _Snak__hash='b1faa2726e622bc3727462634d5fb3084e7756b2' _Snak__datavalue={'value': {'entity-type': 'item', 'numeric-id': 13406268, 'id': 'Q13406268'}, 'type': 'wikibase-entityid'} _Snak__datatype='wikibase-item'> _Claim__type='statement' _Claim__qualifiers=<Qualifiers @b4b250 _Qualifiers__qualifiers={}> _Claim__qualifiers_order=[] _Claim__id='Q4115189$0ce92f0e-46e8-fb05-bd41-e19f983485d0' _Claim__rank=<WikibaseRank.NORMAL: 'normal'> _Claim__removed=False _Claim__references=<References @baa0d0 _References__references=[<Reference @b4add0 _Reference__hash='a389b145f6bee200a76a78c99191ac3e5e158e17' _Reference__snaks=<Snaks @b4bc90 snaks={'P577': [<Snak @b4ae50 _Snak__snaktype=<WikibaseSnakType.KNOWN_VALUE: 'value'> _Snak__property_number='P577' _Snak__hash='551946eba89cbb8862ca86f1a63adebccb21b12f' _Snak__datavalue={'value': {'time': '+2024-04-15T00:00:00Z', 'timezone': 0, 'before': 0, 'after': 0, 'precision': 11, 'calendarmodel': 'http://www.wikidata.org/entity/Q1985727'}, 'type': 'time'} _Snak__datatype='time'>]}> _Reference__snaks_order=['P577']>]>>, <Item @b49310 _Claim__mainsnak=<Snak @b499d0 _Snak__snaktype=<WikibaseSnakType.KNOWN_VALUE: 'value'> _Snak__property_number='P460' _Snak__hash='d58d2897e1b93269cfa377b0b972022d2a623cc0' _Snak__datavalue={'value': {'entity-type': 'item', 'numeric-id': 15397819, 'id': 'Q15397819'}, 'type': 'wikibase-entityid'} _Snak__datatype='wikibase-item'> _Claim__type='statement' _Claim__qualifiers=<Qualifiers @b48150 _Qualifiers__qualifiers={}> _Claim__qualifiers_order=[] _Claim__id='Q4115189$34716b81-49b2-788e-47b9-fc00d6300878' _Claim__rank=<WikibaseRank.NORMAL: 'normal'> _Claim__removed=False _Claim__references=<References @b4a510 _References__references=[]>>, <Item @b4af10 _Claim__mainsnak=<Snak @b488d0 _Snak__snaktype=<WikibaseSnakType.KNOWN_VALUE: 'value'> _Snak__property_number='P460' _Snak__hash='4085745ccfe0a8dafe8409d396c72005cddd8ac2' _Snak__datavalue={'value': {'entity-type': 'item', 'numeric-id': 112795079, 'id': 'Q112795079'}, 'type': 'wikibase-entityid'} _Snak__datatype='wikibase-item'> _Claim__type='statement' _Claim__qualifiers=<Qualifiers @b4bcd0 _Qualifiers__qualifiers={}> _Claim__qualifiers_order=[] _Claim__id='Q4115189$53ca9586-40db-7f7a-58d6-644e752c472c' _Claim__rank=<WikibaseRank.NORMAL: 'normal'> _Claim__removed=False _Claim__references=<References @b4a650 _References__references=[]>>], 'P1535': [<Item @b48090 _Claim__mainsnak=<Snak @b4ac10 _Snak__snaktype=<WikibaseSnakType.KNOWN_VALUE: 'value'> _Snak__property_number='P1535' _Snak__hash='d0f763cc54aa5549c0f627ffef6febaa6a199321' _Snak__datavalue={'value': {'entity-type': 'item', 'numeric-id': 191865, 'id': 'Q191865'}, 'type': 'wikibase-entityid'} _Snak__datatype='wikibase-item'> _Claim__type='statement' _Claim__qualifiers=<Qualifiers @b4a7d0 _Qualifiers__qualifiers={'P805': [<Snak @b4b1d0 _Snak__snaktype=<WikibaseSnakType.KNOWN_VALUE: 'value'> _Snak__property_number='P805' _Snak__hash='244e10764e709d90f863116296782a035ba9906e' _Snak__datavalue={'value': {'entity-type': 'item', 'numeric-id': 15169668, 'id': 'Q15169668'}, 'type': 'wikibase-entityid'} _Snak__datatype='wikibase-item'>]}> _Claim__qualifiers_order=['P805'] _Claim__id='Q4115189$2ee19c79-4d36-4c08-8213-7b387cc826bb' _Claim__rank=<WikibaseRank.NORMAL: 'normal'> _Claim__removed=False _Claim__references=<References @b48810 _References__references=[<Reference @b49690 _Reference__hash='60aa3866ea325127e30cd84cff9f8d400ae0cb0b' _Reference__snaks=<Snaks @b49610 snaks={'P248': [<Snak @b49e50 _Snak__snaktype=<WikibaseSnakType.KNOWN_VALUE: 'value'> _Snak__property_number='P248' _Snak__hash='e65a19a19b7b1d5fa4e7c403646e5bfcc394fdb1' _Snak__datavalue={'value': {'entity-type': 'item', 'numeric-id': 181702, 'id': 'Q181702'}, 'type': 'wikibase-entityid'} _Snak__datatype='wikibase-item'>], 'P813': [<Snak @b4be50 _Snak__snaktype=<WikibaseSnakType.KNOWN_VALUE: 'value'> _Snak__property_number='P813' _Snak__hash='07f3f503f4336be98b2774cf720b97198ec90fda' _Snak__datavalue={'value': {'time': '+2024-04-15T00:00:00Z', 'timezone': 0, 'before': 0, 'after': 0, 'precision': 11, 'calendarmodel': 'http://www.wikidata.org/entity/Q1985727'}, 'type': 'time'} _Snak__datatype='time'>]}> _Reference__snaks_order=['P248', 'P813']>]>>], 'P1889': [<Item @b48d10 _Claim__mainsnak=<Snak @b49d10 _Snak__snaktype=<WikibaseSnakType.KNOWN_VALUE: 'value'> _Snak__property_number='P1889' _Snak__hash='e5fbae0d5fde3fc185da0072a05dcedceb916acc' _Snak__datavalue={'value': {'entity-type': 'item', 'numeric-id': 213454, 'id': 'Q213454'}, 'type': 'wikibase-entityid'} _Snak__datatype='wikibase-item'> _Claim__type='statement' _Claim__qualifiers=<Qualifiers @b4acd0 _Qualifiers__qualifiers={}> _Claim__qualifiers_order=[] _Claim__id='Q4115189$ABE7E075-7BD6-45D0-8066-66199C5E657E' _Claim__rank=<WikibaseRank.NORMAL: 'normal'> _Claim__removed=False _Claim__references=<References @b48890 _References__references=[]>>], 'P126': [<Item @7ee3d0 _Claim__mainsnak=<Snak @7ee690 _Snak__snaktype=<WikibaseSnakType.KNOWN_VALUE: 'value'> _Snak__property_number='P126' _Snak__hash=None _Snak__datavalue={'value': {'entity-type': 'item', 'numeric-id': 37528637, 'id': 'Q37528637'}, 'type': 'wikibase-entityid'} _Snak__datatype='wikibase-item'> _Claim__type='statement' _Claim__qualifiers=<Qualifiers @7ed910 _Qualifiers__qualifiers={}> _Claim__qualifiers_order=[] _Claim__id=None _Claim__rank=<WikibaseRank.NORMAL: 'normal'> _Claim__removed=False _Claim__references=<References @bed510 _References__references=[<Reference @1a2190 _Reference__hash=None _Reference__snaks=<Snaks @254110 snaks={'P361': [<Snak @cd0950 _Snak__snaktype=<WikibaseSnakType.KNOWN_VALUE: 'value'> _Snak__property_number='P361' _Snak__hash=None _Snak__datavalue={'value': {'entity-type': 'item', 'numeric-id': 2013, 'id': 'Q2013'}, 'type': 'wikibase-entityid'} _Snak__datatype='wikibase-item'>]}> _Reference__snaks_order=[]>, <Reference @255090 _Reference__hash=None _Reference__snaks=<Snaks @5ee990 snaks={'P813': [<Snak @447590 _Snak__snaktype=<WikibaseSnakType.KNOWN_VALUE: 'value'> _Snak__property_number='P813' _Snak__hash=None _Snak__datavalue={'value': {'time': '+2024-04-15T00:00:00Z', 'before': 0, 'after': 0, 'precision': 11, 'timezone': 0, 'calendarmodel': 'http://www.wikidata.org/entity/Q1985727'}, 'type': 'time'} _Snak__datatype='time'>]}> _Reference__snaks_order=[]>, <Reference @4f75d0 _Reference__hash=None _Reference__snaks=<Snaks @447690 snaks={'P2536': [<Snak @3cba90 _Snak__snaktype=<WikibaseSnakType.KNOWN_VALUE: 'value'> _Snak__property_number='P2536' _Snak__hash=None _Snak__datavalue={'value': '2013', 'type': 'string'} _Snak__datatype='external-id'>]}> _Reference__snaks_order=[]>]>>]}>"
      ]
     },
     "execution_count": 48,
     "metadata": {},
     "output_type": "execute_result"
    }
   ],
   "source": [
    "# Add the \"maintained by\" (P126) statement referencing the \"Tester\" family name (Q37528637).\n",
    "claim_string = datatypes.Item(prop_nr=\"P126\", value=\"Q37528637\", references=references)\n",
    "sandbox_entity.claims.add(claim_string)"
   ]
  },
  {
   "cell_type": "code",
   "execution_count": 49,
   "metadata": {},
   "outputs": [
    {
     "data": {
      "text/plain": [
       "<ItemEntity @905710 _BaseEntity__api=<wikibaseintegrator.wikibaseintegrator.WikibaseIntegrator object at 0x71174a5b5990>\n",
       "\t _BaseEntity__title='Q4115189'\n",
       "\t _BaseEntity__pageid=4246474\n",
       "\t _BaseEntity__lastrevid=2129943157\n",
       "\t _BaseEntity__type='item'\n",
       "\t _BaseEntity__id='Q4115189'\n",
       "\t _BaseEntity__claims=<Claims @5d6d90 _Claims__claims={'P31': [<Item @31ad10 _Claim__mainsnak=<Snak @206b50 _Snak__snaktype=<WikibaseSnakType.KNOWN_VALUE: 'value'> _Snak__property_number='P31' _Snak__hash='d5a7ba441737489875ed734038d09d2bd5e3e0f0' _Snak__datavalue={'value': {'entity-type': 'item', 'numeric-id': 21281405, 'id': 'Q21281405'}, 'type': 'wikibase-entityid'} _Snak__datatype='wikibase-item'> _Claim__type='statement' _Claim__qualifiers=<Qualifiers @5dd6d0 _Qualifiers__qualifiers={}> _Claim__qualifiers_order=[] _Claim__id='Q4115189$c99d6ad2-4c86-8b3a-5399-3ab1ac6c369b' _Claim__rank=<WikibaseRank.NORMAL: 'normal'> _Claim__removed=False _Claim__references=<References @75bf50 _References__references=[<Reference @5ded10 _Reference__hash='67f594d1feef711b0d459ff142a881f70c90365a' _Reference__snaks=<Snaks @5dd8d0 snaks={'P854': [<Snak @5dcd50 _Snak__snaktype=<WikibaseSnakType.KNOWN_VALUE: 'value'> _Snak__property_number='P854' _Snak__hash='a824a848663de576ada9225a891673a56d7f93c0' _Snak__datavalue={'value': 'https://www.dbpedia.org/', 'type': 'string'} _Snak__datatype='url'>, <Snak @5de750 _Snak__snaktype=<WikibaseSnakType.KNOWN_VALUE: 'value'> _Snak__property_number='P854' _Snak__hash='b9d8a376970f7768dce1bf97e3657e1af1e421a8' _Snak__datavalue={'value': 'https://www.w3.org/2001/sw/wiki/Main_Page', 'type': 'string'} _Snak__datatype='url'>]}> _Reference__snaks_order=['P854']>]>>], 'P460': [<Item @5dc210 _Claim__mainsnak=<Snak @5dd110 _Snak__snaktype=<WikibaseSnakType.KNOWN_VALUE: 'value'> _Snak__property_number='P460' _Snak__hash='b1faa2726e622bc3727462634d5fb3084e7756b2' _Snak__datavalue={'value': {'entity-type': 'item', 'numeric-id': 13406268, 'id': 'Q13406268'}, 'type': 'wikibase-entityid'} _Snak__datatype='wikibase-item'> _Claim__type='statement' _Claim__qualifiers=<Qualifiers @5de290 _Qualifiers__qualifiers={}> _Claim__qualifiers_order=[] _Claim__id='Q4115189$0ce92f0e-46e8-fb05-bd41-e19f983485d0' _Claim__rank=<WikibaseRank.NORMAL: 'normal'> _Claim__removed=False _Claim__references=<References @5ddad0 _References__references=[<Reference @5de410 _Reference__hash='a389b145f6bee200a76a78c99191ac3e5e158e17' _Reference__snaks=<Snaks @5dd610 snaks={'P577': [<Snak @5df310 _Snak__snaktype=<WikibaseSnakType.KNOWN_VALUE: 'value'> _Snak__property_number='P577' _Snak__hash='551946eba89cbb8862ca86f1a63adebccb21b12f' _Snak__datavalue={'value': {'time': '+2024-04-15T00:00:00Z', 'timezone': 0, 'before': 0, 'after': 0, 'precision': 11, 'calendarmodel': 'http://www.wikidata.org/entity/Q1985727'}, 'type': 'time'} _Snak__datatype='time'>]}> _Reference__snaks_order=['P577']>]>>, <Item @5dc9d0 _Claim__mainsnak=<Snak @5dd290 _Snak__snaktype=<WikibaseSnakType.KNOWN_VALUE: 'value'> _Snak__property_number='P460' _Snak__hash='d58d2897e1b93269cfa377b0b972022d2a623cc0' _Snak__datavalue={'value': {'entity-type': 'item', 'numeric-id': 15397819, 'id': 'Q15397819'}, 'type': 'wikibase-entityid'} _Snak__datatype='wikibase-item'> _Claim__type='statement' _Claim__qualifiers=<Qualifiers @5ded90 _Qualifiers__qualifiers={}> _Claim__qualifiers_order=[] _Claim__id='Q4115189$34716b81-49b2-788e-47b9-fc00d6300878' _Claim__rank=<WikibaseRank.NORMAL: 'normal'> _Claim__removed=False _Claim__references=<References @5df6d0 _References__references=[]>>, <Item @5de190 _Claim__mainsnak=<Snak @5df290 _Snak__snaktype=<WikibaseSnakType.KNOWN_VALUE: 'value'> _Snak__property_number='P460' _Snak__hash='4085745ccfe0a8dafe8409d396c72005cddd8ac2' _Snak__datavalue={'value': {'entity-type': 'item', 'numeric-id': 112795079, 'id': 'Q112795079'}, 'type': 'wikibase-entityid'} _Snak__datatype='wikibase-item'> _Claim__type='statement' _Claim__qualifiers=<Qualifiers @5decd0 _Qualifiers__qualifiers={}> _Claim__qualifiers_order=[] _Claim__id='Q4115189$53ca9586-40db-7f7a-58d6-644e752c472c' _Claim__rank=<WikibaseRank.NORMAL: 'normal'> _Claim__removed=False _Claim__references=<References @5dfbd0 _References__references=[]>>], 'P1535': [<Item @5def10 _Claim__mainsnak=<Snak @5de890 _Snak__snaktype=<WikibaseSnakType.KNOWN_VALUE: 'value'> _Snak__property_number='P1535' _Snak__hash='d0f763cc54aa5549c0f627ffef6febaa6a199321' _Snak__datavalue={'value': {'entity-type': 'item', 'numeric-id': 191865, 'id': 'Q191865'}, 'type': 'wikibase-entityid'} _Snak__datatype='wikibase-item'> _Claim__type='statement' _Claim__qualifiers=<Qualifiers @5dec50 _Qualifiers__qualifiers={'P805': [<Snak @5df090 _Snak__snaktype=<WikibaseSnakType.KNOWN_VALUE: 'value'> _Snak__property_number='P805' _Snak__hash='244e10764e709d90f863116296782a035ba9906e' _Snak__datavalue={'value': {'entity-type': 'item', 'numeric-id': 15169668, 'id': 'Q15169668'}, 'type': 'wikibase-entityid'} _Snak__datatype='wikibase-item'>]}> _Claim__qualifiers_order=['P805'] _Claim__id='Q4115189$2ee19c79-4d36-4c08-8213-7b387cc826bb' _Claim__rank=<WikibaseRank.NORMAL: 'normal'> _Claim__removed=False _Claim__references=<References @5dd2d0 _References__references=[<Reference @5de2d0 _Reference__hash='60aa3866ea325127e30cd84cff9f8d400ae0cb0b' _Reference__snaks=<Snaks @5dd210 snaks={'P248': [<Snak @5ddc10 _Snak__snaktype=<WikibaseSnakType.KNOWN_VALUE: 'value'> _Snak__property_number='P248' _Snak__hash='e65a19a19b7b1d5fa4e7c403646e5bfcc394fdb1' _Snak__datavalue={'value': {'entity-type': 'item', 'numeric-id': 181702, 'id': 'Q181702'}, 'type': 'wikibase-entityid'} _Snak__datatype='wikibase-item'>], 'P813': [<Snak @5df350 _Snak__snaktype=<WikibaseSnakType.KNOWN_VALUE: 'value'> _Snak__property_number='P813' _Snak__hash='07f3f503f4336be98b2774cf720b97198ec90fda' _Snak__datavalue={'value': {'time': '+2024-04-15T00:00:00Z', 'timezone': 0, 'before': 0, 'after': 0, 'precision': 11, 'calendarmodel': 'http://www.wikidata.org/entity/Q1985727'}, 'type': 'time'} _Snak__datatype='time'>]}> _Reference__snaks_order=['P248', 'P813']>]>>], 'P1889': [<Item @5ddf50 _Claim__mainsnak=<Snak @5de010 _Snak__snaktype=<WikibaseSnakType.KNOWN_VALUE: 'value'> _Snak__property_number='P1889' _Snak__hash='e5fbae0d5fde3fc185da0072a05dcedceb916acc' _Snak__datavalue={'value': {'entity-type': 'item', 'numeric-id': 213454, 'id': 'Q213454'}, 'type': 'wikibase-entityid'} _Snak__datatype='wikibase-item'> _Claim__type='statement' _Claim__qualifiers=<Qualifiers @5de350 _Qualifiers__qualifiers={}> _Claim__qualifiers_order=[] _Claim__id='Q4115189$ABE7E075-7BD6-45D0-8066-66199C5E657E' _Claim__rank=<WikibaseRank.NORMAL: 'normal'> _Claim__removed=False _Claim__references=<References @5dda90 _References__references=[]>>], 'P126': [<Item @5de610 _Claim__mainsnak=<Snak @5dca90 _Snak__snaktype=<WikibaseSnakType.KNOWN_VALUE: 'value'> _Snak__property_number='P126' _Snak__hash='4f173eed4d9502e2d0c3dd4ebe3c6e6816036850' _Snak__datavalue={'value': {'entity-type': 'item', 'numeric-id': 37528637, 'id': 'Q37528637'}, 'type': 'wikibase-entityid'} _Snak__datatype='wikibase-item'> _Claim__type='statement' _Claim__qualifiers=<Qualifiers @5ddbd0 _Qualifiers__qualifiers={}> _Claim__qualifiers_order=[] _Claim__id='Q4115189$B05EB1AF-C2B1-44C7-B964-0D89372F6BEB' _Claim__rank=<WikibaseRank.NORMAL: 'normal'> _Claim__removed=False _Claim__references=<References @5ddc90 _References__references=[<Reference @5dc310 _Reference__hash='b4cf99b525d68d63321b1b24b319be5daa4f2c82' _Reference__snaks=<Snaks @20c990 snaks={'P361': [<Snak @333810 _Snak__snaktype=<WikibaseSnakType.KNOWN_VALUE: 'value'> _Snak__property_number='P361' _Snak__hash='02f89c28bd9bb291fcc49f4259658de31d4a166b' _Snak__datavalue={'value': {'entity-type': 'item', 'numeric-id': 2013, 'id': 'Q2013'}, 'type': 'wikibase-entityid'} _Snak__datatype='wikibase-item'>]}> _Reference__snaks_order=['P361']>, <Reference @5de3d0 _Reference__hash='caa5fcd360fd95ed5d564339bba389a0e85f1109' _Reference__snaks=<Snaks @350210 snaks={'P813': [<Snak @352450 _Snak__snaktype=<WikibaseSnakType.KNOWN_VALUE: 'value'> _Snak__property_number='P813' _Snak__hash='07f3f503f4336be98b2774cf720b97198ec90fda' _Snak__datavalue={'value': {'time': '+2024-04-15T00:00:00Z', 'timezone': 0, 'before': 0, 'after': 0, 'precision': 11, 'calendarmodel': 'http://www.wikidata.org/entity/Q1985727'}, 'type': 'time'} _Snak__datatype='time'>]}> _Reference__snaks_order=['P813']>, <Reference @331d10 _Reference__hash='0dc974d85d65e3df5d4100c2922b66a3f1fa8928' _Reference__snaks=<Snaks @352d90 snaks={'P2536': [<Snak @350150 _Snak__snaktype=<WikibaseSnakType.KNOWN_VALUE: 'value'> _Snak__property_number='P2536' _Snak__hash='70432a763af2ee8040d44ecfd5512bd6e8d652fe' _Snak__datavalue={'value': '2013', 'type': 'string'} _Snak__datatype='external-id'>]}> _Reference__snaks_order=['P2536']>]>>]}>\n",
       "\t _ItemEntity__labels=<Labels @5dc610 _LanguageValues__values={'nn': <LanguageValue @353190 _LanguageValue__language='nn' _LanguageValue__value='Wikidata-sandkasse' _LanguageValue__removed=False>, 'ru': <LanguageValue @351850 _LanguageValue__language='ru' _LanguageValue__value='Викиданные:Песочница' _LanguageValue__removed=False>, 'en-ca': <LanguageValue @350690 _LanguageValue__language='en-ca' _LanguageValue__value='Wikidata Sandbox' _LanguageValue__removed=False>, 'fi': <LanguageValue @351a90 _LanguageValue__language='fi' _LanguageValue__value='Wikipedia:Wikidata-hiekkalaatikko' _LanguageValue__removed=False>, 'pt': <LanguageValue @352e10 _LanguageValue__language='pt' _LanguageValue__value='Página de testes do projeto Wikidata' _LanguageValue__removed=False>, 'hu': <LanguageValue @351390 _LanguageValue__language='hu' _LanguageValue__value='Wikipédia:Wikidata/Homokozó' _LanguageValue__removed=False>, 'ka': <LanguageValue @353e10 _LanguageValue__language='ka' _LanguageValue__value='ვიკიმონაცემების სავარჯიშო' _LanguageValue__removed=False>, 'sk': <LanguageValue @351190 _LanguageValue__language='sk' _LanguageValue__value='Wikiúdaje pieskovisko' _LanguageValue__removed=False>, 'ia': <LanguageValue @350890 _LanguageValue__language='ia' _LanguageValue__value='sabliera de Wikidata' _LanguageValue__removed=False>, 'ko': <LanguageValue @351150 _LanguageValue__language='ko' _LanguageValue__value='위키데이터 연습장' _LanguageValue__removed=False>, 'gl': <LanguageValue @353b90 _LanguageValue__language='gl' _LanguageValue__value='Zona de probas do Wikidata' _LanguageValue__removed=False>, 'zh-tw': <LanguageValue @350b50 _LanguageValue__language='zh-tw' _LanguageValue__value='維基數據沙盒' _LanguageValue__removed=False>, 'pt-br': <LanguageValue @353f90 _LanguageValue__language='pt-br' _LanguageValue__value='Página de testes do projeto Wikidata' _LanguageValue__removed=False>, 'zh-hans': <LanguageValue @3518d0 _LanguageValue__language='zh-hans' _LanguageValue__value='维基数据沙盒' _LanguageValue__removed=False>, 'el': <LanguageValue @350790 _LanguageValue__language='el' _LanguageValue__value='Πρόχειρο των Wikidata' _LanguageValue__removed=False>, 'bjn': <LanguageValue @353a10 _LanguageValue__language='bjn' _LanguageValue__value='Pamandiran' _LanguageValue__removed=False>, 'cs': <LanguageValue @351bd0 _LanguageValue__language='cs' _LanguageValue__value='Wikidata pískoviště' _LanguageValue__removed=False>, 'dsb': <LanguageValue @350650 _LanguageValue__language='dsb' _LanguageValue__value='Grajkanišćo Wikidata' _LanguageValue__removed=False>, 'fa': <LanguageValue @353b10 _LanguageValue__language='fa' _LanguageValue__value='صفحهٔ تمرین ویکی داده' _LanguageValue__removed=False>, 'pl': <LanguageValue @351210 _LanguageValue__language='pl' _LanguageValue__value='Brudnopis Wikidanych' _LanguageValue__removed=False>, 'da': <LanguageValue @352810 _LanguageValue__language='da' _LanguageValue__value='Wikidata Sandbox' _LanguageValue__removed=False>, 'nl': <LanguageValue @351d90 _LanguageValue__language='nl' _LanguageValue__value='Wikidata-zandbak' _LanguageValue__removed=False>, 'de-at': <LanguageValue @350ed0 _LanguageValue__language='de-at' _LanguageValue__value='Sandbox' _LanguageValue__removed=False>, 'it': <LanguageValue @3515d0 _LanguageValue__language='it' _LanguageValue__value='pagina delle prove di Wikidata' _LanguageValue__removed=False>, 'te': <LanguageValue @351690 _LanguageValue__language='te' _LanguageValue__value='వాడుకరి:Naresh Krishna Raja' _LanguageValue__removed=False>, 'sv': <LanguageValue @350bd0 _LanguageValue__language='sv' _LanguageValue__value='Wikipedia:Wikidata/Sandlåda för Wikidata' _LanguageValue__removed=False>, 'ca': <LanguageValue @352910 _LanguageValue__language='ca' _LanguageValue__value='Viquipèdia:Proves de Wikidata' _LanguageValue__removed=False>, 'es': <LanguageValue @351a10 _LanguageValue__language='es' _LanguageValue__value='Wikipedia:Wikidata/Zona de pruebas' _LanguageValue__removed=False>, 'be': <LanguageValue @3505d0 _LanguageValue__language='be' _LanguageValue__value='тайны бытия' _LanguageValue__removed=False>, 'ku-latn': <LanguageValue @351110 _LanguageValue__language='ku-latn' _LanguageValue__value='turkey' _LanguageValue__removed=False>, 'tr': <LanguageValue @353690 _LanguageValue__language='tr' _LanguageValue__value='Vikiveri deneme tahtası' _LanguageValue__removed=False>, 'ar': <LanguageValue @353bd0 _LanguageValue__language='ar' _LanguageValue__value='ملعب ويكي داتا' _LanguageValue__removed=False>, 'ja': <LanguageValue @350dd0 _LanguageValue__language='ja' _LanguageValue__value='ウィキデータ・サンドボックス' _LanguageValue__removed=False>, 'fr': <LanguageValue @351610 _LanguageValue__language='fr' _LanguageValue__value='bac à sable Wikidata' _LanguageValue__removed=False>, 'de': <LanguageValue @350490 _LanguageValue__language='de' _LanguageValue__value='Wikidata-Spielwiese' _LanguageValue__removed=False>, 'en-gb': <LanguageValue @3525d0 _LanguageValue__language='en-gb' _LanguageValue__value='Wikidata Sandbox' _LanguageValue__removed=False>, 'zh-hant': <LanguageValue @350ad0 _LanguageValue__language='zh-hant' _LanguageValue__value='維基數據沙盒' _LanguageValue__removed=False>, 'zh': <LanguageValue @3535d0 _LanguageValue__language='zh' _LanguageValue__value='维基数据测试沙盒' _LanguageValue__removed=False>, 'bn': <LanguageValue @352cd0 _LanguageValue__language='bn' _LanguageValue__value='উইকিউপাত্ত খেলাঘর' _LanguageValue__removed=False>, 'br': <LanguageValue @351810 _LanguageValue__language='br' _LanguageValue__value='bailh-traezh Wikidata' _LanguageValue__removed=False>, 'ms': <LanguageValue @3528d0 _LanguageValue__language='ms' _LanguageValue__value='Kotak Pasir Wikidata' _LanguageValue__removed=False>, 'uk': <LanguageValue @353910 _LanguageValue__language='uk' _LanguageValue__value='Project:Грамайданчик Вікіданих' _LanguageValue__removed=False>, 'nb': <LanguageValue @350f50 _LanguageValue__language='nb' _LanguageValue__value='Wikidata-sandkasse' _LanguageValue__removed=False>, 'zh-cn': <LanguageValue @353890 _LanguageValue__language='zh-cn' _LanguageValue__value='维基数据测试沙盒' _LanguageValue__removed=False>, 'bar': <LanguageValue @350950 _LanguageValue__language='bar' _LanguageValue__value='Wikidata-Spüwiesn' _LanguageValue__removed=False>, 'be-tarask': <LanguageValue @351b10 _LanguageValue__language='be-tarask' _LanguageValue__value='Вікізьвесткі:Пясочніца' _LanguageValue__removed=False>, 'en-us': <LanguageValue @351d10 _LanguageValue__language='en-us' _LanguageValue__value='Wikidata Sandbox' _LanguageValue__removed=False>, 'sl': <LanguageValue @352750 _LanguageValue__language='sl' _LanguageValue__value='Peskovnik Wikipodatkov' _LanguageValue__removed=False>, 'en': <LanguageValue @352d10 _LanguageValue__language='en' _LanguageValue__value='Wikidata Sandbox' _LanguageValue__removed=False>}>\n",
       "\t _ItemEntity__descriptions=<Descriptions @581990 _LanguageValues__values={'cs': <LanguageValue @205990 _LanguageValue__language='cs' _LanguageValue__value='Použijte tuto stránku pro své testy' _LanguageValue__removed=False>, 'dsb': <LanguageValue @205f50 _LanguageValue__language='dsb' _LanguageValue__value='Wužyj toś ten bok za swoje testy' _LanguageValue__removed=False>, 'gl': <LanguageValue @2079d0 _LanguageValue__language='gl' _LanguageValue__value='Este elemento do Wikidata serve para realizar probas.' _LanguageValue__removed=False>, 'en-ca': <LanguageValue @207750 _LanguageValue__language='en-ca' _LanguageValue__value='This serves as a sandbox for live testing features. Please be gentle with it. Feel free to edit anything on this page, though! For testing links, try adding ones to userpages.' _LanguageValue__removed=False>, 'it': <LanguageValue @205890 _LanguageValue__language='it' _LanguageValue__value='Lo scopo di questa pagina è permetterti di fare degli esperimenti e delle modifiche come su un normale elemento del database. Sentiti libero di cambiare qualunque cosa su questa pagina!' _LanguageValue__removed=False>, 'zh-tw': <LanguageValue @205f90 _LanguageValue__language='zh-tw' _LanguageValue__value='作為沙盒以供測試功能，請溫柔地對待它。你可以隨意編輯任何內容。如果要測試連結，可以增加一個前往用戶頁的連結。' _LanguageValue__removed=False>, 'el': <LanguageValue @205c50 _LanguageValue__language='el' _LanguageValue__value='σελίδα δοκιμών και πειραματισμών των Wikidata που όλοι μπορούν να χρησιμοποιήσουν' _LanguageValue__removed=False>, 'bjn': <LanguageValue @205750 _LanguageValue__language='bjn' _LanguageValue__value='Pernyataan' _LanguageValue__removed=False>, 'hu': <LanguageValue @207a50 _LanguageValue__language='hu' _LanguageValue__value='homokozó' _LanguageValue__removed=False>, 'zh-hans': <LanguageValue @206b90 _LanguageValue__language='zh-hans' _LanguageValue__value='这里是测试数据项属性编辑的沙盒，请温柔地对待它。你可以更改此页面的任何内容。如果想测试链接，请尝试加入至用户页的链接。' _LanguageValue__removed=False>, 'nl': <LanguageValue @206bd0 _LanguageValue__language='nl' _LanguageValue__value='Dit Wikidata-item mag gebruikt worden om het bewerken op Wikidata te oefenen. Gebruik gebruikerspagina\\'s om \"Interwiki-links\" / \"Lijst met pagina\\'s gekoppeld aan dit item\" te testen' _LanguageValue__removed=False>, 'fa': <LanguageValue @205910 _LanguageValue__language='fa' _LanguageValue__value='این صفحه ای است برای تمرین ویژگی های ویکی داده. هر ویرایشی که می خواهید می توانید در این صفحه بکنید.' _LanguageValue__removed=False>, 'de-at': <LanguageValue @206410 _LanguageValue__language='de-at' _LanguageValue__value='Eine Spielwiese zum testen von Funktionen. Fühle dich frei alles mögliche zu verändern. Füge aber bitte nur Links zu Benutzerseiten hinzu.' _LanguageValue__removed=False>, 'de': <LanguageValue @204490 _LanguageValue__language='de' _LanguageValue__value='Eine Spielwiese zum Testen von Funktionen. Fühle dich frei alles mögliche zu verändern. Füge aber bitte nur Links zu Benutzerseiten hinzu.' _LanguageValue__removed=False>, 'en-gb': <LanguageValue @2059d0 _LanguageValue__language='en-gb' _LanguageValue__value='This serves as a sandbox for live testing features. Please be gentle with it. Feel free to edit anything on this page, though! For testing links, try adding ones to userpages.' _LanguageValue__removed=False>, 'sv': <LanguageValue @206010 _LanguageValue__language='sv' _LanguageValue__value='Här kan du testa att redigera' _LanguageValue__removed=False>, 'ru': <LanguageValue @2061d0 _LanguageValue__language='ru' _LanguageValue__value='здесь можно делать всё, что угодно #Q220' _LanguageValue__removed=False>, 'ku-latn': <LanguageValue @205150 _LanguageValue__language='ku-latn' _LanguageValue__value='turkey' _LanguageValue__removed=False>, 'ko': <LanguageValue @204ad0 _LanguageValue__language='ko' _LanguageValue__value='이곳은 자유롭게 위키데이터 기능을 시험할 수 있는 연습장입니다.' _LanguageValue__removed=False>, 'ja': <LanguageValue @205e90 _LanguageValue__language='ja' _LanguageValue__value='この項目はテスト用サンドボックスです。このページで様々な編集を試すことができます。但し丁寧に扱って下さい。リンクのテスト時は利用者ページへのリンクを追加して下さい。' _LanguageValue__removed=False>, 'fr': <LanguageValue @2064d0 _LanguageValue__language='fr' _LanguageValue__value=\"Bac à sable pour amuser les contributeurs (laisser une description ici pour qu'on le retrouve)\" _LanguageValue__removed=False>, 'zh': <LanguageValue @205710 _LanguageValue__language='zh' _LanguageValue__value='这里是测试数据项属性编辑的沙盒，请温柔地对待它。你可以更改此页面的任何内容。如果想测试链接，请尝试加入至用户页的链接。' _LanguageValue__removed=False>, 'zh-hant': <LanguageValue @206750 _LanguageValue__language='zh-hant' _LanguageValue__value='作為沙盒以供測試功能，請溫柔地對待它。你可以隨意編輯任何內容。如果要測試連結，可以增加一個前往用戶頁的連結。' _LanguageValue__removed=False>, 'en': <LanguageValue @207d90 _LanguageValue__language='en' _LanguageValue__value='This is a sandbox for testing changes to items. Please be gentle with it. Feel free to change anything on this page! For testing links, try adding ones to userpages.' _LanguageValue__removed=False>, 'bn': <LanguageValue @206f10 _LanguageValue__language='bn' _LanguageValue__value='এটি আইটেমসমূহে পরিবর্তন পরীক্ষা করার একটি খেলাঘর। স্বাচ্ছন্দ্যে এই পাতায় যে কোন পরিবর্তন করুন।' _LanguageValue__removed=False>, 'ms': <LanguageValue @206610 _LanguageValue__language='ms' _LanguageValue__value='Ini berfungsi sebagai kotak pasir untuk mencuba ciri-ciri secara langsung. Sila mengunakannya dengan hati-hati, tetapi suntinglah apa-apa pun pada laman ini! Untuk mencuba pautan-pautan, tambahkannya ke laman-laman pengguna.' _LanguageValue__removed=False>, 'uk': <LanguageValue @205dd0 _LanguageValue__language='uk' _LanguageValue__value=\"зоря в сузір'ї Стрільця\" _LanguageValue__removed=False>, 'nb': <LanguageValue @205cd0 _LanguageValue__language='nb' _LanguageValue__value='sandkasse for Wikidata' _LanguageValue__removed=False>, 'zh-cn': <LanguageValue @206710 _LanguageValue__language='zh-cn' _LanguageValue__value='这里是测试数据项属性编辑的沙盒，请温柔地对待它。你可以更改此页面的任何内容。如果想测试链接，请尝试加入至用户页的链接。' _LanguageValue__removed=False>, 'bar': <LanguageValue @204950 _LanguageValue__language='bar' _LanguageValue__value=\"A Spüwiesn zum testn vo Funktionen. Fühl di frei ois möglich z'vaändan. Füg owa bitte nur Links zu Benutzerseitn ei.\" _LanguageValue__removed=False>, 'es': <LanguageValue @204f90 _LanguageValue__language='es' _LanguageValue__value='Este elemento en Wikidata sirve para realizar pruebas.' _LanguageValue__removed=False>, 'en-us': <LanguageValue @204050 _LanguageValue__language='en-us' _LanguageValue__value='This is a sandbox for testing' _LanguageValue__removed=False>, 'sl': <LanguageValue @204b50 _LanguageValue__language='sl' _LanguageValue__value='To je peskovnik za testiranje funkcij v živo. Bodite nežni z njim. Vseeno pa lahko urejate karkoli na tej strani! Za preizkušanje povezav poskusite dodati povezave na uporabniške strani.' _LanguageValue__removed=False>}>\n",
       "\t _ItemEntity__aliases=<Aliases @2050d0 _Aliases__aliases={'ru': [<Alias @7eced0 _LanguageValue__language='ru' _LanguageValue__value='тест' _LanguageValue__removed=False>], 'zh-hans': [<Alias @205010 _LanguageValue__language='zh-hans' _LanguageValue__value='维基数据沙盘' _LanguageValue__removed=False>, <Alias @205050 _LanguageValue__language='zh-hans' _LanguageValue__value='维基数据测试' _LanguageValue__removed=False>], 'de-at': [<Alias @204fd0 _LanguageValue__language='de-at' _LanguageValue__value='Sandkasten' _LanguageValue__removed=False>, <Alias @207110 _LanguageValue__language='de-at' _LanguageValue__value='Spielplatz' _LanguageValue__removed=False>], 'de': [<Alias @204690 _LanguageValue__language='de' _LanguageValue__value='Sandbox' _LanguageValue__removed=False>, <Alias @207710 _LanguageValue__language='de' _LanguageValue__value='Spielewiese' _LanguageValue__removed=False>], 'nl': [<Alias @206450 _LanguageValue__language='nl' _LanguageValue__value='Wikidata-speeltuin' _LanguageValue__removed=False>, <Alias @205e10 _LanguageValue__language='nl' _LanguageValue__value='zandbak' _LanguageValue__removed=False>], 'ar': [<Alias @204d50 _LanguageValue__language='ar' _LanguageValue__value='ساحة التجربة' _LanguageValue__removed=False>, <Alias @207450 _LanguageValue__language='ar' _LanguageValue__value='ساحة اللعب' _LanguageValue__removed=False>, <Alias @205610 _LanguageValue__language='ar' _LanguageValue__value='ملعب' _LanguageValue__removed=False>], 'ja': [<Alias @205b10 _LanguageValue__language='ja' _LanguageValue__value='Sandbox' _LanguageValue__removed=False>, <Alias @207910 _LanguageValue__language='ja' _LanguageValue__value='サンドボックス' _LanguageValue__removed=False>, <Alias @204290 _LanguageValue__language='ja' _LanguageValue__value='練習用ページ' _LanguageValue__removed=False>, <Alias @207e90 _LanguageValue__language='ja' _LanguageValue__value='練習用項目' _LanguageValue__removed=False>], 'en': [<Alias @2042d0 _LanguageValue__language='en' _LanguageValue__value='Property test' _LanguageValue__removed=False>, <Alias @2078d0 _LanguageValue__language='en' _LanguageValue__value='SB' _LanguageValue__removed=False>, <Alias @207dd0 _LanguageValue__language='en' _LanguageValue__value='Wikidata BOX' _LanguageValue__removed=False>, <Alias @205d50 _LanguageValue__language='en' _LanguageValue__value='Wikidata SandboxItem' _LanguageValue__removed=False>, <Alias @207bd0 _LanguageValue__language='en' _LanguageValue__value='sandbox' _LanguageValue__removed=False>, <Alias @2047d0 _LanguageValue__language='en' _LanguageValue__value='test' _LanguageValue__removed=False>], 'pt-br': [<Alias @206ad0 _LanguageValue__language='pt-br' _LanguageValue__value='item para testes' _LanguageValue__removed=False>, <Alias @206650 _LanguageValue__language='pt-br' _LanguageValue__value='teste' _LanguageValue__removed=False>, <Alias @2056d0 _LanguageValue__language='pt-br' _LanguageValue__value='testes' _LanguageValue__removed=False>, <Alias @205690 _LanguageValue__language='pt-br' _LanguageValue__value='test' _LanguageValue__removed=False>, <Alias @2066d0 _LanguageValue__language='pt-br' _LanguageValue__value='página de testes' _LanguageValue__removed=False>], 'en-ca': [<Alias @2063d0 _LanguageValue__language='en-ca' _LanguageValue__value='SB' _LanguageValue__removed=False>, <Alias @206dd0 _LanguageValue__language='en-ca' _LanguageValue__value='Property test' _LanguageValue__removed=False>, <Alias @207550 _LanguageValue__language='en-ca' _LanguageValue__value='test' _LanguageValue__removed=False>, <Alias @204e50 _LanguageValue__language='en-ca' _LanguageValue__value='Wikidata SandboxItem' _LanguageValue__removed=False>, <Alias @207390 _LanguageValue__language='en-ca' _LanguageValue__value='Wikidata BOX' _LanguageValue__removed=False>, <Alias @207f90 _LanguageValue__language='en-ca' _LanguageValue__value='sandbox' _LanguageValue__removed=False>], 'ms': [<Alias @2060d0 _LanguageValue__language='ms' _LanguageValue__value='KP' _LanguageValue__removed=False>, <Alias @351dd0 _LanguageValue__language='ms' _LanguageValue__value='kotak pasir' _LanguageValue__removed=False>, <Alias @351ad0 _LanguageValue__language='ms' _LanguageValue__value='uji' _LanguageValue__removed=False>, <Alias @352f50 _LanguageValue__language='ms' _LanguageValue__value='ujian' _LanguageValue__removed=False>, <Alias @352710 _LanguageValue__language='ms' _LanguageValue__value='cuba' _LanguageValue__removed=False>], 'bn': [<Alias @350110 _LanguageValue__language='bn' _LanguageValue__value='খেলাঘর' _LanguageValue__removed=False>], 'en-gb': [<Alias @3503d0 _LanguageValue__language='en-gb' _LanguageValue__value='SB' _LanguageValue__removed=False>, <Alias @350410 _LanguageValue__language='en-gb' _LanguageValue__value='Property test' _LanguageValue__removed=False>, <Alias @350c90 _LanguageValue__language='en-gb' _LanguageValue__value='test' _LanguageValue__removed=False>, <Alias @351e10 _LanguageValue__language='en-gb' _LanguageValue__value='Wikidata SandboxItem' _LanguageValue__removed=False>, <Alias @352650 _LanguageValue__language='en-gb' _LanguageValue__value='Wikidata BOX' _LanguageValue__removed=False>, <Alias @3519d0 _LanguageValue__language='en-gb' _LanguageValue__value='sandbox' _LanguageValue__removed=False>], 'zh-cn': [<Alias @350c50 _LanguageValue__language='zh-cn' _LanguageValue__value='维基数据沙盒' _LanguageValue__removed=False>], 'be-tarask': [<Alias @351c10 _LanguageValue__language='be-tarask' _LanguageValue__value='Пясочніца Вікізьвестак' _LanguageValue__removed=False>], 'zh-tw': [<Alias @350a50 _LanguageValue__language='zh-tw' _LanguageValue__value='沙盒' _LanguageValue__removed=False>, <Alias @351910 _LanguageValue__language='zh-tw' _LanguageValue__value='測試' _LanguageValue__removed=False>, <Alias @352350 _LanguageValue__language='zh-tw' _LanguageValue__value='維基數據測試' _LanguageValue__removed=False>], 'it': [<Alias @3524d0 _LanguageValue__language='it' _LanguageValue__value='sandbox di Wikidata' _LanguageValue__removed=False>]}>\n",
       "\t _ItemEntity__sitelinks=<Sitelinks @5f8310 sitelinks={'arwiki': <Sitelink @204850 site='arwiki' title='ويكيبيديا:ويكي بيانات/ملعب ويكي بيانات' badges=[]>, 'dewiki': <Sitelink @204d90 site='dewiki' title='Wikipedia:Wikidata/Wikidata-Spielwiese' badges=[]>, 'elwiki': <Sitelink @204dd0 site='elwiki' title='Βικιπαίδεια:Wikidata/Πρόχειρο Wikidata' badges=[]>, 'enwiki': <Sitelink @2049d0 site='enwiki' title='Wikipedia:Wikidata/Wikidata Sandbox' badges=[]>, 'eswiki': <Sitelink @204c10 site='eswiki' title='Wikipedia:Wikidata/Zona de pruebas' badges=[]>, 'fawiki': <Sitelink @204c50 site='fawiki' title='ویکی\\u200cپدیا:صفحه تمرین/ویکی\\u200cداده' badges=[]>, 'fiwiki': <Sitelink @206550 site='fiwiki' title='Wikipedia:Wikidata-hiekkalaatikko' badges=[]>, 'frwiki': <Sitelink @207790 site='frwiki' title='Wikipédia:Wikidata/Bac à sable' badges=[]>, 'huwiki': <Sitelink @205810 site='huwiki' title='Wikipédia:Wikidata/Homokozó' badges=[]>, 'huwikiquote': <Sitelink @2058d0 site='huwikiquote' title='Wikidézet:Wikidata-homokozó' badges=[]>, 'itwiki': <Sitelink @206c10 site='itwiki' title='Wikipedia:Pagina delle prove di Wikidata' badges=[]>, 'itwikiquote': <Sitelink @207b10 site='itwikiquote' title='Wikiquote:Pagina delle prove di Wikidata' badges=[]>, 'jawiki': <Sitelink @206590 site='jawiki' title='Wikipedia:ウィキデータ/ウィキデータ・サンドボックス' badges=[]>, 'kowiki': <Sitelink @2057d0 site='kowiki' title='위키백과:위키데이터/연습장' badges=[]>, 'nlwiki': <Sitelink @205650 site='nlwiki' title='Wikipedia:Wikidata/zandbak' badges=[]>, 'plwiki': <Sitelink @205bd0 site='plwiki' title='Wikipedia:Brudnopis/Wikidane' badges=[]>, 'ruwiki': <Sitelink @206a10 site='ruwiki' title='Википедия:Песочница Викиданных' badges=[]>, 'ruwikinews': <Sitelink @205b90 site='ruwikinews' title='Викиновости:Песочница Викиданных' badges=[]>, 'svwiki': <Sitelink @2041d0 site='svwiki' title='Wikipedia:Sandlåda för Wikidata' badges=[]>, 'wikidatawiki': <Sitelink @204e10 site='wikidatawiki' title='Wikidata:Sandbox/test' badges=[]>, 'zhwiki': <Sitelink @205450 site='zhwiki' title='Wikipedia:维基数据/沙盒' badges=[]>, 'zhwikisource': <Sitelink @207010 site='zhwikisource' title='Wikisource:维基数据/沙盒' badges=[]>}>>"
      ]
     },
     "execution_count": 49,
     "metadata": {},
     "output_type": "execute_result"
    }
   ],
   "source": [
    "sandbox_entity.write()"
   ]
  },
  {
   "cell_type": "markdown",
   "metadata": {},
   "source": [
    "### Creating a New Item"
   ]
  },
  {
   "cell_type": "markdown",
   "metadata": {},
   "source": [
    "Feel free to try out the [item creation example](https://github.com/LeMyst/WikibaseIntegrator/blob/master/notebooks/item_create_new.ipynb) on [Test Wikidata](https://test.wikidata.org/wiki/Wikidata:Main_Page)!"
   ]
  },
  {
   "cell_type": "code",
   "execution_count": null,
   "metadata": {},
   "outputs": [],
   "source": []
  }
 ],
 "metadata": {
  "kernelspec": {
   "display_name": "Python 3 (ipykernel)",
   "language": "python",
   "name": "python3"
  },
  "language_info": {
   "codemirror_mode": {
    "name": "ipython",
    "version": 3
   },
   "file_extension": ".py",
   "mimetype": "text/x-python",
   "name": "python",
   "nbconvert_exporter": "python",
   "pygments_lexer": "ipython3",
   "version": "3.11.4"
  }
 },
 "nbformat": 4,
 "nbformat_minor": 2
}
