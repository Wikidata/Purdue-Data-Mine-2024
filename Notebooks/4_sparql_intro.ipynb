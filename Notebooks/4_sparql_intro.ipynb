{
 "cells": [
  {
   "cell_type": "markdown",
   "id": "b84f3689-d142-44cb-aa07-25c8a07af212",
   "metadata": {},
   "source": [
    "# SPARQL Intro\n",
    "\n",
    "> Welcome!\n",
    "> \n",
    "> Please download this notebook and load it into your [PAWS instance](https://hub-paws.wmcloud.org/)\n",
    "\n",
    "This notebook provides an overview of the [SPARQL query language](https://www.w3.org/TR/sparql11-query/), with Wikidata queries being ran with the Python package [SPARQLWrapper](https://github.com/RDFLib/sparqlwrapper)."
   ]
  },
  {
   "cell_type": "markdown",
   "id": "e214d309-7d9c-459c-83c9-56d4f5e14327",
   "metadata": {},
   "source": [
    "## Introduction"
   ]
  },
  {
   "cell_type": "markdown",
   "id": "29b5e613-2ad9-4f36-b1c0-6aa42e6a5e92",
   "metadata": {},
   "source": [
    "### Data structure\n",
    "\n",
    "[Wikidata](https://www.wikidata.org/) and other [Wikibase](https://wikiba.se/) instances are not relational databases, but rather [RDF (Resource Description Framework)](https://en.wikipedia.org/wiki/Resource_Description_Framework) graph databases known as [triplestores](https://en.wikipedia.org/wiki/Triplestore). RDF is a directed graph composed of triple statements that include:\n",
    "\n",
    "1. A subject (the entity being related)\n",
    "2. A predicate (the relation between the subject and object)\n",
    "3. An object (the entity being related to)\n",
    "\n",
    "Note that objects can be a literal value (int, string, date, etc) **OR** another entity within the graph. In [Wikidata](https://www.wikidata.org/) subjects and non-literal objects are generally stored as [QIDs](https://www.wikidata.org/wiki/Q43649390) and predicates are stored as PIDs (see the [Further resources](#further-resources) section for the documentation for [Wikidata](https://www.wikidata.org/) identifiers).\n",
    "\n",
    "A few examples of triples are the following:\n",
    "\n",
    "- **Germany** (subject - [Q183](https://www.wikidata.org/wiki/Q183)) has the **capital** (predicate - [P36](https://www.wikidata.org/wiki/Property:P36)) **Berlin** (object - [Q64](https://www.wikidata.org/wiki/Q64)).\n",
    "- **Berlin** (subject - [Q64](https://www.wikidata.org/wiki/Q64)) has a **population** of (predicate - [P1082](https://www.wikidata.org/wiki/Property:P1082)) **3.7 million** (object - an integer).\n",
    "- **The European Union** (subject - [Q458](https://www.wikidata.org/wiki/Q458)) has the **member** (predicate - [P527](https://www.wikidata.org/wiki/Property:P527)) **Germany** (object - [Q183](https://www.wikidata.org/wiki/Q183)).\n",
    "- **Germany** (subject - [Q183](https://www.wikidata.org/wiki/Q183)) is a **member of** (predicate - [P463](https://www.wikidata.org/wiki/Property:P463)) **the European Union** (object - [Q458](https://www.wikidata.org/wiki/Q458)).\n",
    "\n",
    "One of the main benefits of RDF triplestores is that there are no limits based on the current structure of the data. If a new relationship is needed, then a predicate for it can be made and the associated objects can then be linked to their subjects.\n",
    "\n",
    "When comparing to conventional data structures, it's important to mark the distinction that [Wikidata](https://www.wikidata.org/) data is not stored in tables. There are [regular dumps of Wikidata](https://www.wikidata.org/wiki/Wikidata:Database_download#RDF_dumps) that also come in relational database forms (with `subject`, `predicate` and `object` columns) as well as JSON and other types, but the data on [Wikidata](https://www.wikidata.org/) is stored using RDF relationships."
   ]
  },
  {
   "cell_type": "markdown",
   "id": "23d899b8-7ac7-4d88-9c3f-8355c296844a",
   "metadata": {},
   "source": [
    "### SPARQL\n",
    "\n",
    "Because the structure of [Wikidata](https://www.wikidata.org/) data is different from traditional relational databases, we also need a different way to query it. [SPARQL](https://en.wikipedia.org/wiki/SPARQL) - the [recursive acronym](https://en.wikipedia.org/wiki/Recursive_acronym) being \"SPARQL Protocol and RDF Query Language\" - is a standard of querying RDF formatted data.\n",
    "\n",
    "> **Note**: We would strongly suggest that VS Code developers download the [Wikidata QID Labels VS Code extension](https://marketplace.visualstudio.com/items?itemName=blokhinnv.wikidataqidlabels) that provides an in editor tooltip for Wikidata ID labels."
   ]
  },
  {
   "cell_type": "markdown",
   "id": "31dd93c0-d188-4184-8e3a-713408c2c573",
   "metadata": {},
   "source": [
    "## Queries"
   ]
  },
  {
   "cell_type": "markdown",
   "id": "1c30c394-dd1b-44fe-9c83-0fe7b4b53ea3",
   "metadata": {},
   "source": [
    "Below we find the most common [Wikidata](https://www.wikidata.org/) example of [Q42 - Douglas Adams](https://www.wikidata.org/wiki/Q42), who was specifically given this in homage to his book [The Hitchhiker's Guide to the Galaxy](https://en.wikipedia.org/wiki/The_Hitchhiker%27s_Guide_to_the_Galaxy) in which the \"Ultimate Question of Life, the Universe, and Everything\" is found to be the number 42 :)"
   ]
  },
  {
   "cell_type": "code",
   "execution_count": 1,
   "id": "06610c4e-ff28-46bc-b64b-7d7ce7af3309",
   "metadata": {},
   "outputs": [
    {
     "data": {
      "text/html": [
       "<img src=\"https://upload.wikimedia.org/wikipedia/commons/a/ae/Datamodel_in_Wikidata.svg\"/>"
      ],
      "text/plain": [
       "<IPython.core.display.Image object>"
      ]
     },
     "execution_count": 1,
     "metadata": {},
     "output_type": "execute_result"
    }
   ],
   "source": [
    "from IPython.display import Image\n",
    "\n",
    "Image(\n",
    "    url=\"https://upload.wikimedia.org/wikipedia/commons/a/ae/Datamodel_in_Wikidata.svg\"\n",
    ")"
   ]
  },
  {
   "cell_type": "markdown",
   "id": "98359ba5-b489-4eb3-8b3d-a8c49d40eeb0",
   "metadata": {},
   "source": [
    "You can either go to the [Wikidata Query Service](https://query.wikidata.org/) to try out the following queries or pass them to [SPARQLWrapper](https://github.com/RDFLib/sparqlwrapper) in the cells to get information about Douglas Adams. You can also click the section header to go directly to the query service with the query populated."
   ]
  },
  {
   "cell_type": "markdown",
   "id": "4a8f8f62-9771-408a-af78-20c93a81c3bd",
   "metadata": {},
   "source": [
    "### Imports"
   ]
  },
  {
   "cell_type": "code",
   "execution_count": 2,
   "id": "a7690c62-84d0-4333-a120-000a60d7088f",
   "metadata": {},
   "outputs": [],
   "source": [
    "# pip install sparqlwrapper"
   ]
  },
  {
   "cell_type": "code",
   "execution_count": 3,
   "id": "8997cf94-f324-4b20-8514-282da21a6a95",
   "metadata": {},
   "outputs": [],
   "source": [
    "# pip install jupyter-black"
   ]
  },
  {
   "cell_type": "code",
   "execution_count": 4,
   "id": "bde20b11-6cc4-47da-a2c3-26d1158c7a86",
   "metadata": {},
   "outputs": [
    {
     "data": {
      "text/html": [
       "\n",
       "                <script type=\"application/javascript\" id=\"jupyter_black\">\n",
       "                (function() {\n",
       "                    if (window.IPython === undefined) {\n",
       "                        return\n",
       "                    }\n",
       "                    var msg = \"WARNING: it looks like you might have loaded \" +\n",
       "                        \"jupyter_black in a non-lab notebook with \" +\n",
       "                        \"`is_lab=True`. Please double check, and if \" +\n",
       "                        \"loading with `%load_ext` please review the README!\"\n",
       "                    console.log(msg)\n",
       "                    alert(msg)\n",
       "                })()\n",
       "                </script>\n",
       "                "
      ],
      "text/plain": [
       "<IPython.core.display.HTML object>"
      ]
     },
     "metadata": {},
     "output_type": "display_data"
    }
   ],
   "source": [
    "%load_ext jupyter_black"
   ]
  },
  {
   "cell_type": "code",
   "execution_count": 5,
   "id": "8ff813bc-6e39-4a4b-bdec-e2b3dc498b0d",
   "metadata": {},
   "outputs": [],
   "source": [
    "from SPARQLWrapper import JSON, POST, SPARQLWrapper"
   ]
  },
  {
   "cell_type": "code",
   "execution_count": 6,
   "id": "e02c9117-ab75-45cf-a485-958f71b4d92e",
   "metadata": {},
   "outputs": [],
   "source": [
    "# Set SPARQLWrapper query conditions.\n",
    "sparql = SPARQLWrapper(\"https://query.wikidata.org/sparql\")\n",
    "sparql.setReturnFormat(JSON)\n",
    "sparql.setMethod(POST)"
   ]
  },
  {
   "cell_type": "markdown",
   "id": "5cc2710f-dd6e-418b-9bc5-ac2d8d61e4bf",
   "metadata": {},
   "source": [
    "### [Books that Douglas Adams (Q42) is the author (P50) of](https://w.wiki/8n6T)\n",
    "\n",
    "It's important to note that for triples where the object is a [Wikidata](https://www.wikidata.org/) entity the response to queries is its unique ID, not the string label. In order to get labels for our results we need to add in the labeling service to our queries that will then give us the ability to create any `colNameLabel` column for a column of IDs `colName`. We add this service via the following line that sets English as the default returned value at the end:\n",
    "\n",
    "```\n",
    "SERVICE wikibase:label {\n",
    "    bd:serviceParam wikibase:language \"[AUTO_LANGUAGE], en\".\n",
    "}\n",
    "```\n",
    "\n",
    "Note that `?colNameDescription` functions in a similar way where the description of the ID can be returned.\n",
    "\n",
    "Query:"
   ]
  },
  {
   "cell_type": "code",
   "execution_count": 7,
   "id": "604dc147-0e5d-4217-9db5-46a0eacf3f86",
   "metadata": {},
   "outputs": [],
   "source": [
    "q42_books_query = \"\"\"\n",
    "SELECT\n",
    "    ?book\n",
    "    ?bookLabel\n",
    "    ?bookDescription\n",
    "\n",
    "WHERE {\n",
    "    # subject  # author  # Douglas Adams\n",
    "    ?book      wdt:P50   wd:Q42.\n",
    "\n",
    "    SERVICE wikibase:label {\n",
    "        bd:serviceParam wikibase:language \"[AUTO_LANGUAGE], en\".\n",
    "    }\n",
    "}\n",
    "\"\"\""
   ]
  },
  {
   "cell_type": "code",
   "execution_count": 8,
   "id": "b2d48f97-61d6-4df7-acd8-c9a7967fc746",
   "metadata": {},
   "outputs": [],
   "source": [
    "sparql.setQuery(q42_books_query)\n",
    "q42_books_results = sparql.query().convert()"
   ]
  },
  {
   "cell_type": "code",
   "execution_count": 9,
   "id": "372c5cb0-f66d-4195-adad-9ce4c6f75c3c",
   "metadata": {},
   "outputs": [],
   "source": [
    "q42_books_bindings = q42_books_results[\"results\"][\"bindings\"]"
   ]
  },
  {
   "cell_type": "code",
   "execution_count": 10,
   "id": "f413212d-a477-42bb-ad57-112a0dba1773",
   "metadata": {},
   "outputs": [],
   "source": [
    "q42_books_formatted = []\n",
    "for r in q42_books_bindings:\n",
    "    r_dict = {k: r[k][\"value\"] for k in r.keys()}\n",
    "\n",
    "    q42_books_formatted.append(r_dict)"
   ]
  },
  {
   "cell_type": "code",
   "execution_count": 11,
   "id": "1ea4d2fc-42e4-4d3e-95ab-6c3d84abe70c",
   "metadata": {},
   "outputs": [
    {
     "data": {
      "text/plain": [
       "[{'book': 'http://www.wikidata.org/entity/Q721',\n",
       "  'bookLabel': 'Life, the Universe and Everything',\n",
       "  'bookDescription': '1982 novel by Douglas Adams'},\n",
       " {'book': 'http://www.wikidata.org/entity/Q25169',\n",
       "  'bookLabel': \"The Hitchhiker's Guide to the Galaxy pentalogy\",\n",
       "  'bookDescription': '1979-1992 series of five books by Douglas Adams'},\n",
       " {'book': 'http://www.wikidata.org/entity/Q187655',\n",
       "  'bookLabel': 'Mostly Harmless',\n",
       "  'bookDescription': '1992 novel by Douglas Adams'}]"
      ]
     },
     "execution_count": 11,
     "metadata": {},
     "output_type": "execute_result"
    }
   ],
   "source": [
    "q42_books_formatted[:3]"
   ]
  },
  {
   "cell_type": "markdown",
   "id": "b91fd810-e58a-41e4-95c0-b3bced1194f8",
   "metadata": {},
   "source": [
    "### [Douglas Adams' (Q42) date of birth (P569)](https://w.wiki/8n6V)\n",
    "\n",
    "> **Note**: We don't need to call the label service in this query as the object is a date and not a Wikidata entity.\n",
    "\n",
    "Query:"
   ]
  },
  {
   "cell_type": "code",
   "execution_count": 12,
   "id": "c8a11705-ccac-488d-9b56-e058336f5661",
   "metadata": {},
   "outputs": [],
   "source": [
    "q42_dob_query = \"\"\"\n",
    "SELECT\n",
    "    ?dateOfBirth\n",
    "\n",
    "WHERE {\n",
    "    # Douglas Adams  # date of birth  # object\n",
    "    wd:Q42           wdt:P569         ?dateOfBirth.\n",
    "}\n",
    "\"\"\""
   ]
  },
  {
   "cell_type": "code",
   "execution_count": 13,
   "id": "006528bc-5dd6-400a-99b9-028053f61cec",
   "metadata": {},
   "outputs": [],
   "source": [
    "sparql.setQuery(q42_dob_query)\n",
    "q42_dob_results = sparql.query().convert()"
   ]
  },
  {
   "cell_type": "code",
   "execution_count": 14,
   "id": "82faebc5-bf52-4f55-89c5-f43b98b097e8",
   "metadata": {},
   "outputs": [],
   "source": [
    "q42_dob_bindings = q42_dob_results[\"results\"][\"bindings\"]"
   ]
  },
  {
   "cell_type": "code",
   "execution_count": 15,
   "id": "20cf26a3-1e6a-4e76-94c6-9d64be5df6c1",
   "metadata": {},
   "outputs": [
    {
     "data": {
      "text/plain": [
       "'1952-03-11'"
      ]
     },
     "execution_count": 15,
     "metadata": {},
     "output_type": "execute_result"
    }
   ],
   "source": [
    "q42_dob_bindings[0][\"dateOfBirth\"][\"value\"].split(\"T\")[0]"
   ]
  },
  {
   "cell_type": "markdown",
   "id": "a1be2f39-3800-47e8-987a-7590b0142b9f",
   "metadata": {},
   "source": [
    "### [Douglas Adams' (Q42) place of birth (P19)](https://w.wiki/8n6X)\n",
    "\n",
    "Query:"
   ]
  },
  {
   "cell_type": "code",
   "execution_count": 16,
   "id": "96e9e218-2080-4cba-ac07-39e90007b6fa",
   "metadata": {},
   "outputs": [],
   "source": [
    "q42_pob_query = \"\"\"\n",
    "SELECT\n",
    "    ?placeOfBirth\n",
    "    ?placeOfBirthLabel\n",
    "\n",
    "WHERE {\n",
    "    # Douglas Adams  # place of birth  # object\n",
    "    wd:Q42           wdt:P19           ?placeOfBirth.\n",
    "\n",
    "    SERVICE wikibase:label {\n",
    "        bd:serviceParam wikibase:language \"[AUTO_LANGUAGE], en\".\n",
    "    }\n",
    "}\n",
    "\"\"\""
   ]
  },
  {
   "cell_type": "code",
   "execution_count": 17,
   "id": "2a7d75ea-87bc-4e0d-96a7-37f4770bae3f",
   "metadata": {},
   "outputs": [],
   "source": [
    "sparql.setQuery(q42_pob_query)\n",
    "q42_pob_results = sparql.query().convert()"
   ]
  },
  {
   "cell_type": "code",
   "execution_count": 18,
   "id": "a1525559-188e-4b1c-9d7e-d9fb7488c3e0",
   "metadata": {},
   "outputs": [],
   "source": [
    "q42_pob_bindings = q42_pob_results[\"results\"][\"bindings\"]"
   ]
  },
  {
   "cell_type": "code",
   "execution_count": 19,
   "id": "8e2ff179-eec3-4699-9431-d7053de61620",
   "metadata": {},
   "outputs": [
    {
     "data": {
      "text/plain": [
       "'Cambridge'"
      ]
     },
     "execution_count": 19,
     "metadata": {},
     "output_type": "execute_result"
    }
   ],
   "source": [
    "q42_pob_bindings[0][\"placeOfBirthLabel\"][\"value\"]"
   ]
  },
  {
   "cell_type": "markdown",
   "id": "7b7b8717-9f47-47bc-9c17-9569aa8cee93",
   "metadata": {},
   "source": [
    "### [All people (Q5) with the same place of birth (P19) as Douglas Adams (Q42)](https://w.wiki/8n6Z)\n",
    "\n",
    "Query:"
   ]
  },
  {
   "cell_type": "code",
   "execution_count": 20,
   "id": "df106928-56b7-4519-97ec-9175c6f3710d",
   "metadata": {},
   "outputs": [],
   "source": [
    "q42_same_pob_query = \"\"\"\n",
    "SELECT DISTINCT\n",
    "    ?person\n",
    "    ?personLabel\n",
    "    ?personDescription\n",
    "\n",
    "WHERE {\n",
    "    # Douglas Adams  # place of birth  # object\n",
    "    wd:Q42           wdt:P19           ?placeOfBirth.\n",
    "\n",
    "    # subject  # instance of  # human\n",
    "    ?person    wdt:P31        wd:Q5;\n",
    "               # place of birth/*  # object\n",
    "               wdt:P19/wdt:P131*   ?placeOfBirth;\n",
    "\n",
    "    SERVICE wikibase:label {\n",
    "        bd:serviceParam wikibase:language \"[AUTO_LANGUAGE], en\"\n",
    "    }\n",
    "}\n",
    "\"\"\""
   ]
  },
  {
   "cell_type": "code",
   "execution_count": 21,
   "id": "0d418b94-f471-4abc-bd82-f236242c2985",
   "metadata": {},
   "outputs": [],
   "source": [
    "sparql.setQuery(q42_same_pob_query)\n",
    "q42_same_pob_results = sparql.query().convert()"
   ]
  },
  {
   "cell_type": "code",
   "execution_count": 22,
   "id": "0beefe4d-5b79-48d7-aa57-6461df668542",
   "metadata": {},
   "outputs": [],
   "source": [
    "q42_same_pob_bindings = q42_same_pob_results[\"results\"][\"bindings\"]"
   ]
  },
  {
   "cell_type": "code",
   "execution_count": 23,
   "id": "1810fd85-e989-4cd3-b3d4-365a4533ea87",
   "metadata": {},
   "outputs": [],
   "source": [
    "q42_same_pob_formatted = []\n",
    "for r in q42_same_pob_bindings:\n",
    "    r_dict = {k: r[k][\"value\"] for k in r.keys()}\n",
    "\n",
    "    q42_same_pob_formatted.append(r_dict)"
   ]
  },
  {
   "cell_type": "code",
   "execution_count": 24,
   "id": "73ca0ec3-b1d4-4417-97a9-0af4dc6311ed",
   "metadata": {},
   "outputs": [
    {
     "data": {
      "text/plain": [
       "[{'person': 'http://www.wikidata.org/entity/Q314659',\n",
       "  'personLabel': 'Rupert Friend',\n",
       "  'personDescription': 'British actor'},\n",
       " {'person': 'http://www.wikidata.org/entity/Q345373',\n",
       "  'personLabel': 'Bob Klose',\n",
       "  'personDescription': 'British photographer'},\n",
       " {'person': 'http://www.wikidata.org/entity/Q691216',\n",
       "  'personLabel': 'Julian Huppert',\n",
       "  'personDescription': 'British Liberal Democrat politician (born 1978)'}]"
      ]
     },
     "execution_count": 24,
     "metadata": {},
     "output_type": "execute_result"
    }
   ],
   "source": [
    "q42_same_pob_formatted[:3]"
   ]
  },
  {
   "cell_type": "markdown",
   "id": "acb618dc-1bec-4773-8e24-02a26316f412",
   "metadata": {},
   "source": [
    "### [All countries that are members of (P463) the European Union (Q458)](https://w.wiki/8n6b)\n",
    "\n",
    "Here's another query to try out on the [Wikidata Query Service](https://query.wikidata.org). Can you change it to get different results? The following are great ways to find the [Wikidata](https://www.wikidata.org/) IDs you're looking for to rewrite the query below:\n",
    "\n",
    "- Search for the main item on [Wikidata](https://www.wikidata.org/) (in this case [the European Union](https://www.wikidata.org/wiki/Q458))\n",
    "  - Check statements on the left and navigate to their PIDs\n",
    "- Use a search engine to search for `Wikidata NAME_OF_ITEM`, with the first result normally being the correct one\n",
    "- Use the [Wikidata Query Builder](https://www.wikidata.org/wiki/Wikidata:Query_Builder) to construct your query from normal language\n",
    "\n",
    "Query:"
   ]
  },
  {
   "cell_type": "code",
   "execution_count": 25,
   "id": "0a0abdba-82ff-477b-a00b-d86f054c5107",
   "metadata": {},
   "outputs": [],
   "source": [
    "eu_countries_query = \"\"\"\n",
    "SELECT\n",
    "    ?country\n",
    "    ?countryLabel\n",
    "\n",
    "WHERE {\n",
    "    # subject  # member of  # European Union\n",
    "    ?country   wdt:P463     wd:Q458.\n",
    "\n",
    "    SERVICE wikibase:label {\n",
    "        bd:serviceParam wikibase:language \"[AUTO_LANGUAGE], en\".\n",
    "    }\n",
    "}\n",
    "\"\"\""
   ]
  },
  {
   "cell_type": "code",
   "execution_count": 26,
   "id": "08ac4569-6b8b-47f5-82ef-b9f2d19bfcb8",
   "metadata": {},
   "outputs": [],
   "source": [
    "sparql.setQuery(eu_countries_query)\n",
    "eu_countries_results = sparql.query().convert()"
   ]
  },
  {
   "cell_type": "code",
   "execution_count": 27,
   "id": "9ace112d-edbd-4dd5-b84a-2dea983bda34",
   "metadata": {},
   "outputs": [],
   "source": [
    "eu_countries_bindings = eu_countries_results[\"results\"][\"bindings\"]"
   ]
  },
  {
   "cell_type": "code",
   "execution_count": 28,
   "id": "55c9e8f5-1344-4de7-8261-4221402ff6f6",
   "metadata": {},
   "outputs": [],
   "source": [
    "eu_countries_formatted = []\n",
    "for r in eu_countries_bindings:\n",
    "    r_dict = {k: r[k][\"value\"] for k in r.keys()}\n",
    "\n",
    "    eu_countries_formatted.append(r_dict)"
   ]
  },
  {
   "cell_type": "code",
   "execution_count": 29,
   "id": "b17b9aa2-0595-4dc9-bd90-4b5af8356dfd",
   "metadata": {},
   "outputs": [
    {
     "data": {
      "text/plain": [
       "[{'country': 'http://www.wikidata.org/entity/Q27',\n",
       "  'countryLabel': 'Republic of Ireland'},\n",
       " {'country': 'http://www.wikidata.org/entity/Q28', 'countryLabel': 'Hungary'},\n",
       " {'country': 'http://www.wikidata.org/entity/Q29', 'countryLabel': 'Spain'}]"
      ]
     },
     "execution_count": 29,
     "metadata": {},
     "output_type": "execute_result"
    }
   ],
   "source": [
    "eu_countries_formatted[:3]"
   ]
  },
  {
   "cell_type": "markdown",
   "id": "cb09d7eb-1591-457b-a106-32bb5d067412",
   "metadata": {},
   "source": [
    "### [All present day sovereign states (Q3624078) and their capitals (P36)](https://w.wiki/8n6g)"
   ]
  },
  {
   "cell_type": "markdown",
   "id": "508cb041-5784-4a03-af23-408adf5fc631",
   "metadata": {},
   "source": [
    "Try also to rewrite this final query to get something different!"
   ]
  },
  {
   "cell_type": "code",
   "execution_count": 30,
   "id": "8c884224-fc8a-442a-a478-46e148e37957",
   "metadata": {},
   "outputs": [],
   "source": [
    "modern_countries_capitals_query = \"\"\"\n",
    "SELECT DISTINCT\n",
    "    ?country\n",
    "    ?countryLabel\n",
    "    ?capital\n",
    "    ?capitalLabel\n",
    "\n",
    "WHERE {\n",
    "    # subject  # instance of  # sovereign state\n",
    "    ?country   wdt:P31        wd:Q3624078 .\n",
    "\n",
    "    # Not a former country\n",
    "    FILTER NOT EXISTS {\n",
    "        # subject  # instance of  # former country\n",
    "        ?country   wdt:P31        wd:Q3024240\n",
    "    }\n",
    "\n",
    "    # Needed to exclude Ancient Egypt.\n",
    "    FILTER NOT EXISTS {\n",
    "        # subject  # instance of  # ancient civilization\n",
    "        ?country   wdt:P31        wd:Q28171280\n",
    "    }\n",
    "\n",
    "    OPTIONAL {\n",
    "        # subject  # capital  # object\n",
    "        ?country   wdt:P36    ?capital\n",
    "    } .\n",
    "\n",
    "    SERVICE wikibase:label {\n",
    "        bd:serviceParam wikibase:language \"[AUTO_LANGUAGE], en\"\n",
    "    }\n",
    "}\n",
    "\n",
    "ORDER BY\n",
    "    ?countryLabel\n",
    "\"\"\""
   ]
  },
  {
   "cell_type": "code",
   "execution_count": 31,
   "id": "980b8245-4f42-42c9-8753-94da35d94ce5",
   "metadata": {},
   "outputs": [],
   "source": [
    "sparql.setQuery(modern_countries_capitals_query)\n",
    "modern_countries_capitals_results = sparql.query().convert()"
   ]
  },
  {
   "cell_type": "code",
   "execution_count": 32,
   "id": "c81e61e0-362d-4b11-a3cd-ef0582cc5476",
   "metadata": {},
   "outputs": [],
   "source": [
    "modern_countries_capitals_bindings = modern_countries_capitals_results[\"results\"][\n",
    "    \"bindings\"\n",
    "]"
   ]
  },
  {
   "cell_type": "code",
   "execution_count": 33,
   "id": "2d0b70ec-fb21-42d8-855b-48154f1c5ae4",
   "metadata": {},
   "outputs": [],
   "source": [
    "modern_countries_capitals_formatted = []\n",
    "for r in modern_countries_capitals_bindings:\n",
    "    r_dict = {k: r[k][\"value\"] for k in r.keys()}\n",
    "\n",
    "    modern_countries_capitals_formatted.append(r_dict)"
   ]
  },
  {
   "cell_type": "code",
   "execution_count": 34,
   "id": "11567036-d6d6-4d67-8a92-d44f778a4e82",
   "metadata": {},
   "outputs": [
    {
     "data": {
      "text/plain": [
       "[{'country': 'http://www.wikidata.org/entity/Q889',\n",
       "  'countryLabel': 'Afghanistan',\n",
       "  'capital': 'http://www.wikidata.org/entity/Q5838',\n",
       "  'capitalLabel': 'Kabul'},\n",
       " {'country': 'http://www.wikidata.org/entity/Q222',\n",
       "  'countryLabel': 'Albania',\n",
       "  'capital': 'http://www.wikidata.org/entity/Q19689',\n",
       "  'capitalLabel': 'Tirana'},\n",
       " {'country': 'http://www.wikidata.org/entity/Q262',\n",
       "  'countryLabel': 'Algeria',\n",
       "  'capital': 'http://www.wikidata.org/entity/Q3561',\n",
       "  'capitalLabel': 'Algiers'}]"
      ]
     },
     "execution_count": 34,
     "metadata": {},
     "output_type": "execute_result"
    }
   ],
   "source": [
    "modern_countries_capitals_formatted[:3]"
   ]
  },
  {
   "cell_type": "markdown",
   "id": "360d7e9c-3b64-4e48-83ca-c4847394fb4b",
   "metadata": {},
   "source": [
    "## Further resources\n",
    "\n",
    "The following are other resources that we would suggests to broaden your understanding of [Wikidata](https://www.wikidata.org/). Some resources from above are repeated to assure that the this section is a comprehensive list.\n",
    "\n",
    "### Wikidata documentation\n",
    "\n",
    "- [Wikidata on Wikipedia](https://en.wikipedia.org/wiki/Wikidata)\n",
    "- [Wikidata Identifiers](https://www.wikidata.org/wiki/Wikidata:Identifiers)\n",
    "\n",
    "### Querying Wikidata\n",
    "\n",
    "- [Wikidata SPARQL tutorial](https://www.wikidata.org/wiki/Wikidata:SPARQL_tutorial)\n",
    "- [Wikidata tutorial by Wikimedia Israel](https://wdqs-tutorial.toolforge.org/)\n",
    "- [Wikidata example SPARQL queries](https://www.wikidata.org/wiki/Wikidata:SPARQL_query_service/queries/examples)\n",
    "- [Wikidata Query Builder](https://www.wikidata.org/wiki/Wikidata:Query_Builder)\n",
    "- [Wikidata Query Builder Documentation](https://query.wikidata.org/querybuilder)\n",
    "- [PAWS examples and recipes](https://wikitech.wikimedia.org/wiki/PAWS/PAWS_examples_and_recipes)"
   ]
  },
  {
   "cell_type": "code",
   "execution_count": null,
   "id": "04067927-e9ec-461e-83bd-5c919f4cd103",
   "metadata": {},
   "outputs": [],
   "source": []
  }
 ],
 "metadata": {
  "kernelspec": {
   "display_name": "Python 3 (ipykernel)",
   "language": "python",
   "name": "python3"
  },
  "language_info": {
   "codemirror_mode": {
    "name": "ipython",
    "version": 3
   },
   "file_extension": ".py",
   "mimetype": "text/x-python",
   "name": "python",
   "nbconvert_exporter": "python",
   "pygments_lexer": "ipython3",
   "version": "3.10.12"
  }
 },
 "nbformat": 4,
 "nbformat_minor": 5
}
