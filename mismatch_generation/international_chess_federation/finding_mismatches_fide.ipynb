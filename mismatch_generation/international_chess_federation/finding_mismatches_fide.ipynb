{
 "cells": [
  {
   "cell_type": "markdown",
   "id": "4587f349-eafa-40c3-bafd-e0da93de0d34",
   "metadata": {},
   "source": [
    "## Imports"
   ]
  },
  {
   "cell_type": "code",
   "execution_count": 72,
   "id": "c411f6f3-e7ba-4184-be99-1d135ccd28a0",
   "metadata": {},
   "outputs": [],
   "source": [
    "import sys"
   ]
  },
  {
   "cell_type": "code",
   "execution_count": 73,
   "id": "0a9f0ae8-9da1-45f0-9fa9-06e2f483a88e",
   "metadata": {},
   "outputs": [],
   "source": [
    "PATH_TO_UTILS = \"../../\"\n",
    "sys.path.append(PATH_TO_UTILS)"
   ]
  },
  {
   "cell_type": "code",
   "execution_count": 74,
   "id": "653f9082-7d58-4710-adf9-33bafa81ef76",
   "metadata": {},
   "outputs": [],
   "source": [
    "import pandas as pd"
   ]
  },
  {
   "cell_type": "code",
   "execution_count": 75,
   "id": "b0704852-bc99-420b-9c8b-bc53a45a1797",
   "metadata": {},
   "outputs": [],
   "source": [
    "import json"
   ]
  },
  {
   "cell_type": "code",
   "execution_count": 76,
   "id": "a424b748-98ff-40a9-a4ad-229cc2141cfe",
   "metadata": {},
   "outputs": [],
   "source": [
    "from utils import check_mf_formatting"
   ]
  },
  {
   "cell_type": "code",
   "execution_count": 77,
   "id": "2fc895c5-1f43-4506-aad9-9124ad6a3cee",
   "metadata": {},
   "outputs": [],
   "source": [
    "from datetime import datetime"
   ]
  },
  {
   "cell_type": "code",
   "execution_count": 78,
   "id": "b8905735-83a2-405c-a181-c1ef5d383d47",
   "metadata": {},
   "outputs": [],
   "source": [
    "import math"
   ]
  },
  {
   "cell_type": "markdown",
   "id": "134cfd41-d450-4cc8-8d31-82f2fb133b77",
   "metadata": {},
   "source": [
    "## Wikidata Data Loading"
   ]
  },
  {
   "cell_type": "code",
   "execution_count": 79,
   "id": "c1da119e-f7e2-4883-9470-29d60b3e4971",
   "metadata": {},
   "outputs": [],
   "source": [
    "f = open(\"wikidata_data_dobs.json\", \"r\")\n",
    "wikidata_players_dobs = json.load(f)\n",
    "f.close()"
   ]
  },
  {
   "cell_type": "code",
   "execution_count": 80,
   "id": "8f8a5678-dfd2-4ada-b11a-02d5517a9f1b",
   "metadata": {},
   "outputs": [],
   "source": [
    "f = open(\"wikidata_titles.json\", \"r\")\n",
    "wikidata_players_titles = json.load(f)\n",
    "f.close()"
   ]
  },
  {
   "cell_type": "code",
   "execution_count": 81,
   "id": "fef60338-f419-44db-953f-b537ff3e135d",
   "metadata": {},
   "outputs": [
    {
     "data": {
      "text/plain": [
       "{'item': 'http://www.wikidata.org/entity/Q66850',\n",
       " 'itemLabel': 'David Baramidze',\n",
       " 'fideID': '4667719',\n",
       " 'dateOfBirth': '1988-09-27T00:00:00Z',\n",
       " 'dobStatementGUID': 'q66850-0808D72D-7D0F-4F17-814F-F4D77C633ACE'}"
      ]
     },
     "execution_count": 81,
     "metadata": {},
     "output_type": "execute_result"
    }
   ],
   "source": [
    "wikidata_players_dobs[0]"
   ]
  },
  {
   "cell_type": "code",
   "execution_count": 82,
   "id": "f26114b0-5b3c-4457-8448-220015dca56b",
   "metadata": {},
   "outputs": [
    {
     "data": {
      "text/plain": [
       "{'item': 'http://www.wikidata.org/entity/Q92207',\n",
       " 'itemLabel': 'Jörg Hickl',\n",
       " 'fide_id': '4600118',\n",
       " 'titleLabel': 'Grandmaster',\n",
       " 'title_guid': 'Q92207-676BBD54-C3E3-47DF-89CA-0BDF64F2FE04',\n",
       " 'title_start_time': '1988-01-01T00:00:00Z'}"
      ]
     },
     "execution_count": 82,
     "metadata": {},
     "output_type": "execute_result"
    }
   ],
   "source": [
    "wikidata_players_titles[0]"
   ]
  },
  {
   "cell_type": "markdown",
   "id": "69e11095-a67a-47c4-8422-a8b9c4920fb4",
   "metadata": {},
   "source": [
    "## XML Parsing"
   ]
  },
  {
   "cell_type": "code",
   "execution_count": 83,
   "id": "4ef5dc8a-ff51-4fc1-8100-96aa0194a61a",
   "metadata": {},
   "outputs": [
    {
     "name": "stderr",
     "output_type": "stream",
     "text": [
      "                                                           \r"
     ]
    }
   ],
   "source": [
    "def xml_to_dict(xml_file):\n",
    "    # Initialize an empty dictionary to store player data.\n",
    "    players_data = {}\n",
    "\n",
    "    # Initialize variables to keep track of current player attributes.\n",
    "    current_player = {}\n",
    "\n",
    "    # Parse the XML file incrementally with iterparse.\n",
    "    context = ET.iterparse(xml_file, events=(\"start\", \"end\"))\n",
    "\n",
    "    # Wrap the context with tqdm to create a progress bar.\n",
    "    context = tqdm(context, desc=\"Parsing XML\", unit=\"elements\", leave=False)\n",
    "\n",
    "    for event, elem in context:\n",
    "        if event == \"start\" and elem.tag == \"player\":\n",
    "            # Start of a player element, reset current_player dictionary.\n",
    "            current_player = {}\n",
    "\n",
    "        elif event == \"end\" and elem.tag == \"player\":\n",
    "            # End of a player element, add current_player to players_data dictionary.\n",
    "            player_id = current_player.get(\"fideid\")\n",
    "            if player_id:\n",
    "                players_data[player_id] = current_player\n",
    "\n",
    "        elif event == \"end\":\n",
    "            # Process the end of an XML element inside a player element.\n",
    "            current_player[elem.tag] = (\n",
    "                elem.text.strip() if elem.text is not None else None\n",
    "            )\n",
    "            elem.clear()\n",
    "\n",
    "    # Close the XML file.\n",
    "    del context\n",
    "\n",
    "    return players_data\n",
    "\n",
    "\n",
    "xml_file = \"players_list_xml_foa.xml\"\n",
    "fide_dict = xml_to_dict(xml_file)"
   ]
  },
  {
   "cell_type": "code",
   "execution_count": 84,
   "id": "3fa98ce6-9553-4331-99be-d7cec3bdc777",
   "metadata": {},
   "outputs": [
    {
     "data": {
      "text/plain": [
       "1390912"
      ]
     },
     "execution_count": 84,
     "metadata": {},
     "output_type": "execute_result"
    }
   ],
   "source": [
    "len(fide_dict)"
   ]
  },
  {
   "cell_type": "code",
   "execution_count": 85,
   "id": "d8864a84-d7db-43cd-a5e1-8dafb1618d0d",
   "metadata": {},
   "outputs": [
    {
     "data": {
      "text/plain": [
       "{'fideid': '1503014',\n",
       " 'name': 'Carlsen, Magnus',\n",
       " 'country': 'NOR',\n",
       " 'sex': 'M',\n",
       " 'title': 'GM',\n",
       " 'w_title': None,\n",
       " 'o_title': None,\n",
       " 'foa_title': None,\n",
       " 'rating': '2830',\n",
       " 'games': '0',\n",
       " 'k': '10',\n",
       " 'rapid_rating': '2823',\n",
       " 'rapid_games': '0',\n",
       " 'rapid_k': '10',\n",
       " 'blitz_rating': '2886',\n",
       " 'blitz_games': '0',\n",
       " 'blitz_k': '10',\n",
       " 'birthday': '1990',\n",
       " 'flag': None}"
      ]
     },
     "execution_count": 85,
     "metadata": {},
     "output_type": "execute_result"
    }
   ],
   "source": [
    "fide_dict[\"1503014\"]"
   ]
  },
  {
   "cell_type": "code",
   "execution_count": 86,
   "id": "f917172b-c676-4281-a7a2-e88baebed016",
   "metadata": {},
   "outputs": [
    {
     "data": {
      "text/plain": [
       "{'item': 'http://www.wikidata.org/entity/Q98881',\n",
       " 'itemLabel': 'Reinhart Fuchs',\n",
       " 'fideID': '4611357',\n",
       " 'dateOfBirth': '1934-09-28T00:00:00Z',\n",
       " 'dobStatementGUID': 'Q98881-540E8F90-B4F0-4222-AD2E-958E7394F8B7'}"
      ]
     },
     "execution_count": 86,
     "metadata": {},
     "output_type": "execute_result"
    }
   ],
   "source": [
    "wikidata_players_dobs[90]"
   ]
  },
  {
   "cell_type": "markdown",
   "id": "73efb172-1f03-4cdb-a81a-3d904bf1e36a",
   "metadata": {},
   "source": [
    "### Date of Birth Mismatches"
   ]
  },
  {
   "cell_type": "code",
   "execution_count": 87,
   "id": "afe4197f-664d-47f1-8f52-31019ad09cd2",
   "metadata": {},
   "outputs": [],
   "source": [
    "# Does Not Take Into Account Deprecated Values\n",
    "\n",
    "count = 0\n",
    "f = open(\"invalid_fide.txt\", \"w\")\n",
    "f1 = open(\"incomplete_data.txt\", \"w\")\n",
    "lst = []\n",
    "lst2 = []\n",
    "for e in wikidata_players_dobs:\n",
    "    try:\n",
    "        if e[\"dateOfBirth\"][:4] != fide_dict[e[\"fideID\"]][\"birthday\"]:\n",
    "\n",
    "            if fide_dict[e[\"fideID\"]][\"birthday\"] is None:\n",
    "                f1.write(\"Birthday not found on FIDE for FIDE id %s\\n\" % e[\"fideID\"])\n",
    "                f1.write(\"WIKIDATA: %s\\n\" % e[\"item\"])\n",
    "                continue\n",
    "            external_url = \"https://ratings.fide.com/profile/\" + e[\"fideID\"]\n",
    "            row = {\n",
    "                \"item_id\": e[\"item\"][31:],\n",
    "                \"property_id\": \"P569\",\n",
    "                \"statement_guid\": e[\"dobStatementGUID\"],\n",
    "                \"wikidata_value\": e[\"dateOfBirth\"],\n",
    "                \"meta_wikidata_value\": \"Q1985727\",\n",
    "                \"external_value\": fide_dict[e[\"fideID\"]][\"birthday\"],\n",
    "                \"external_url\": external_url,\n",
    "                \"type\": \"statement\",\n",
    "            }\n",
    "            # df = df.append(row, ignore_index = True).\n",
    "            lst.append(row)\n",
    "            count += 1\n",
    "\n",
    "    except KeyError as an_error:\n",
    "        if an_error.args[0] == e[\"fideID\"]:\n",
    "            f.write(\"FIDE id not found %s\\n\" % e[\"fideID\"])\n",
    "            f.write(\"WIKIDATA: %s\\n\" % e[\"item\"])\n",
    "\n",
    "f.close()\n",
    "f1.close()\n",
    "\n",
    "df = pd.DataFrame(\n",
    "    lst,\n",
    "    columns=[\n",
    "        \"item_id\",\n",
    "        \"statement_guid\",\n",
    "        \"property_id\",\n",
    "        \"wikidata_value\",\n",
    "        \"meta_wikidata_value\",\n",
    "        \"external_value\",\n",
    "        \"external_url\",\n",
    "        \"type\",\n",
    "    ],\n",
    ")"
   ]
  },
  {
   "cell_type": "code",
   "execution_count": 88,
   "id": "3e6a726e-8d74-4cbc-a345-05a294c292ae",
   "metadata": {},
   "outputs": [
    {
     "data": {
      "text/html": [
       "<div>\n",
       "<style scoped>\n",
       "    .dataframe tbody tr th:only-of-type {\n",
       "        vertical-align: middle;\n",
       "    }\n",
       "\n",
       "    .dataframe tbody tr th {\n",
       "        vertical-align: top;\n",
       "    }\n",
       "\n",
       "    .dataframe thead th {\n",
       "        text-align: right;\n",
       "    }\n",
       "</style>\n",
       "<table border=\"1\" class=\"dataframe\">\n",
       "  <thead>\n",
       "    <tr style=\"text-align: right;\">\n",
       "      <th></th>\n",
       "      <th>item_id</th>\n",
       "      <th>statement_guid</th>\n",
       "      <th>property_id</th>\n",
       "      <th>wikidata_value</th>\n",
       "      <th>meta_wikidata_value</th>\n",
       "      <th>external_value</th>\n",
       "      <th>external_url</th>\n",
       "      <th>type</th>\n",
       "    </tr>\n",
       "  </thead>\n",
       "  <tbody>\n",
       "    <tr>\n",
       "      <th>0</th>\n",
       "      <td>Q77168</td>\n",
       "      <td>Q77168-37C631A8-7BE2-414A-A806-585C1BEE1EFB</td>\n",
       "      <td>P569</td>\n",
       "      <td>1971-05-01T00:00:00Z</td>\n",
       "      <td>Q1985727</td>\n",
       "      <td>1979</td>\n",
       "      <td>https://ratings.fide.com/profile/1004816</td>\n",
       "      <td>statement</td>\n",
       "    </tr>\n",
       "    <tr>\n",
       "      <th>1</th>\n",
       "      <td>Q103301</td>\n",
       "      <td>Q103301-1342BD85-9F9B-4795-B4D3-D5E9BEFE1B23</td>\n",
       "      <td>P569</td>\n",
       "      <td>1943-04-17T00:00:00Z</td>\n",
       "      <td>Q1985727</td>\n",
       "      <td>1945</td>\n",
       "      <td>https://ratings.fide.com/profile/4600185</td>\n",
       "      <td>statement</td>\n",
       "    </tr>\n",
       "    <tr>\n",
       "      <th>2</th>\n",
       "      <td>Q278844</td>\n",
       "      <td>Q278844-13624996-30D9-43C7-80D7-98294FB512D3</td>\n",
       "      <td>P569</td>\n",
       "      <td>1949-08-24T00:00:00Z</td>\n",
       "      <td>Q1985727</td>\n",
       "      <td>1946</td>\n",
       "      <td>https://ratings.fide.com/profile/900095</td>\n",
       "      <td>statement</td>\n",
       "    </tr>\n",
       "    <tr>\n",
       "      <th>3</th>\n",
       "      <td>Q326562</td>\n",
       "      <td>Q326562-16F44782-9AD3-4774-8E60-97C8B6F84F7F</td>\n",
       "      <td>P569</td>\n",
       "      <td>1942-01-01T00:00:00Z</td>\n",
       "      <td>Q1985727</td>\n",
       "      <td>1943</td>\n",
       "      <td>https://ratings.fide.com/profile/800139</td>\n",
       "      <td>statement</td>\n",
       "    </tr>\n",
       "    <tr>\n",
       "      <th>4</th>\n",
       "      <td>Q446773</td>\n",
       "      <td>Q446773-34830D20-DCDE-45D6-B865-38E55604179B</td>\n",
       "      <td>P569</td>\n",
       "      <td>1976-12-05T00:00:00Z</td>\n",
       "      <td>Q1985727</td>\n",
       "      <td>2008</td>\n",
       "      <td>https://ratings.fide.com/profile/15201759</td>\n",
       "      <td>statement</td>\n",
       "    </tr>\n",
       "    <tr>\n",
       "      <th>...</th>\n",
       "      <td>...</td>\n",
       "      <td>...</td>\n",
       "      <td>...</td>\n",
       "      <td>...</td>\n",
       "      <td>...</td>\n",
       "      <td>...</td>\n",
       "      <td>...</td>\n",
       "      <td>...</td>\n",
       "    </tr>\n",
       "    <tr>\n",
       "      <th>115</th>\n",
       "      <td>Q101530051</td>\n",
       "      <td>Q101530051-1232CC02-8C2E-4C6E-9F30-C2F52A9C84C4</td>\n",
       "      <td>P569</td>\n",
       "      <td>1941-01-01T00:00:00Z</td>\n",
       "      <td>Q1985727</td>\n",
       "      <td>1942</td>\n",
       "      <td>https://ratings.fide.com/profile/34161322</td>\n",
       "      <td>statement</td>\n",
       "    </tr>\n",
       "    <tr>\n",
       "      <th>116</th>\n",
       "      <td>Q115464159</td>\n",
       "      <td>Q115464159-2e278e84-4b29-5a27-679a-c76a6686e465</td>\n",
       "      <td>P569</td>\n",
       "      <td>1982-12-04T00:00:00Z</td>\n",
       "      <td>Q1985727</td>\n",
       "      <td>1994</td>\n",
       "      <td>https://ratings.fide.com/profile/3926370</td>\n",
       "      <td>statement</td>\n",
       "    </tr>\n",
       "    <tr>\n",
       "      <th>117</th>\n",
       "      <td>Q117225388</td>\n",
       "      <td>Q117225388-444e7389-43ef-3610-43f8-9ec6d50b14b5</td>\n",
       "      <td>P569</td>\n",
       "      <td>2001-01-01T00:00:00Z</td>\n",
       "      <td>Q1985727</td>\n",
       "      <td>2000</td>\n",
       "      <td>https://ratings.fide.com/profile/21873763</td>\n",
       "      <td>statement</td>\n",
       "    </tr>\n",
       "    <tr>\n",
       "      <th>118</th>\n",
       "      <td>Q122417673</td>\n",
       "      <td>Q122417673-9F8C8499-4F19-4246-B297-D5B7EF5D55BB</td>\n",
       "      <td>P569</td>\n",
       "      <td>1997-03-28T00:00:00Z</td>\n",
       "      <td>Q1985727</td>\n",
       "      <td>2000</td>\n",
       "      <td>https://ratings.fide.com/profile/13509403</td>\n",
       "      <td>statement</td>\n",
       "    </tr>\n",
       "    <tr>\n",
       "      <th>119</th>\n",
       "      <td>Q109394737</td>\n",
       "      <td>Q109394737-A5CAF3FA-33EF-4C30-B485-BCBA445C1EDE</td>\n",
       "      <td>P569</td>\n",
       "      <td>1994-01-01T00:00:00Z</td>\n",
       "      <td>Q1985727</td>\n",
       "      <td>1993</td>\n",
       "      <td>https://ratings.fide.com/profile/6101801</td>\n",
       "      <td>statement</td>\n",
       "    </tr>\n",
       "  </tbody>\n",
       "</table>\n",
       "<p>120 rows × 8 columns</p>\n",
       "</div>"
      ],
      "text/plain": [
       "        item_id                                   statement_guid property_id  \\\n",
       "0        Q77168      Q77168-37C631A8-7BE2-414A-A806-585C1BEE1EFB        P569   \n",
       "1       Q103301     Q103301-1342BD85-9F9B-4795-B4D3-D5E9BEFE1B23        P569   \n",
       "2       Q278844     Q278844-13624996-30D9-43C7-80D7-98294FB512D3        P569   \n",
       "3       Q326562     Q326562-16F44782-9AD3-4774-8E60-97C8B6F84F7F        P569   \n",
       "4       Q446773     Q446773-34830D20-DCDE-45D6-B865-38E55604179B        P569   \n",
       "..          ...                                              ...         ...   \n",
       "115  Q101530051  Q101530051-1232CC02-8C2E-4C6E-9F30-C2F52A9C84C4        P569   \n",
       "116  Q115464159  Q115464159-2e278e84-4b29-5a27-679a-c76a6686e465        P569   \n",
       "117  Q117225388  Q117225388-444e7389-43ef-3610-43f8-9ec6d50b14b5        P569   \n",
       "118  Q122417673  Q122417673-9F8C8499-4F19-4246-B297-D5B7EF5D55BB        P569   \n",
       "119  Q109394737  Q109394737-A5CAF3FA-33EF-4C30-B485-BCBA445C1EDE        P569   \n",
       "\n",
       "           wikidata_value meta_wikidata_value external_value  \\\n",
       "0    1971-05-01T00:00:00Z            Q1985727           1979   \n",
       "1    1943-04-17T00:00:00Z            Q1985727           1945   \n",
       "2    1949-08-24T00:00:00Z            Q1985727           1946   \n",
       "3    1942-01-01T00:00:00Z            Q1985727           1943   \n",
       "4    1976-12-05T00:00:00Z            Q1985727           2008   \n",
       "..                    ...                 ...            ...   \n",
       "115  1941-01-01T00:00:00Z            Q1985727           1942   \n",
       "116  1982-12-04T00:00:00Z            Q1985727           1994   \n",
       "117  2001-01-01T00:00:00Z            Q1985727           2000   \n",
       "118  1997-03-28T00:00:00Z            Q1985727           2000   \n",
       "119  1994-01-01T00:00:00Z            Q1985727           1993   \n",
       "\n",
       "                                  external_url       type  \n",
       "0     https://ratings.fide.com/profile/1004816  statement  \n",
       "1     https://ratings.fide.com/profile/4600185  statement  \n",
       "2      https://ratings.fide.com/profile/900095  statement  \n",
       "3      https://ratings.fide.com/profile/800139  statement  \n",
       "4    https://ratings.fide.com/profile/15201759  statement  \n",
       "..                                         ...        ...  \n",
       "115  https://ratings.fide.com/profile/34161322  statement  \n",
       "116   https://ratings.fide.com/profile/3926370  statement  \n",
       "117  https://ratings.fide.com/profile/21873763  statement  \n",
       "118  https://ratings.fide.com/profile/13509403  statement  \n",
       "119   https://ratings.fide.com/profile/6101801  statement  \n",
       "\n",
       "[120 rows x 8 columns]"
      ]
     },
     "execution_count": 88,
     "metadata": {},
     "output_type": "execute_result"
    }
   ],
   "source": [
    "df"
   ]
  },
  {
   "cell_type": "code",
   "execution_count": 89,
   "id": "7680a9cc-d2f5-4f80-9f6a-ffe6f4cb142f",
   "metadata": {},
   "outputs": [
    {
     "name": "stdout",
     "output_type": "stream",
     "text": [
      "All checks have passed! The data is ready to be uploaded to Mismatch Finder.\n"
     ]
    }
   ],
   "source": [
    "check_mf_formatting(df)"
   ]
  },
  {
   "cell_type": "code",
   "execution_count": 90,
   "id": "02b95464-beb0-4c87-8d9b-4b465beb5ebc",
   "metadata": {},
   "outputs": [],
   "source": [
    "df.to_csv(\"validated_players_data.csv\", index=False)"
   ]
  },
  {
   "cell_type": "markdown",
   "id": "63ef5a93-e275-43bf-8636-109a90d03165",
   "metadata": {},
   "source": [
    "### Chess Title Mismatches"
   ]
  },
  {
   "cell_type": "code",
   "execution_count": 91,
   "id": "ee86571e-aaae-43b5-a737-cccc5b5f47e9",
   "metadata": {},
   "outputs": [],
   "source": [
    "# Only considers mismatches per item"
   ]
  },
  {
   "cell_type": "code",
   "execution_count": 92,
   "id": "d4f68d32-4389-4b88-bca0-b4758be6a3f8",
   "metadata": {},
   "outputs": [],
   "source": [
    "full_forms_dict = {'Grandmaster':'GM', 'Woman Grandmaster': 'WGM', 'International Master':'IM', 'Woman International Master':'WIM', 'FIDE Master':'FM', 'Woman FIDE Master': 'WFM', 'Candidate Master':'CM', 'Woman Candidate Master':'WCM'}"
   ]
  },
  {
   "cell_type": "code",
   "execution_count": 93,
   "id": "8a9a15e4-d359-4daf-8c41-2f1ea2e57f2f",
   "metadata": {},
   "outputs": [],
   "source": [
    "wd_titles_df = pd.DataFrame(wikidata_players_titles)\n",
    "wd_titles_df.set_index('fide_id', inplace=True)"
   ]
  },
  {
   "cell_type": "code",
   "execution_count": 94,
   "id": "765ef649-9b41-4c41-a592-6cebe45d25b3",
   "metadata": {
    "scrolled": true,
    "tags": []
   },
   "outputs": [
    {
     "data": {
      "text/plain": [
       "titleLabel\n",
       "Candidate Master               2969\n",
       "FIDE Master                   10642\n",
       "Grandmaster                    1828\n",
       "International Master           5748\n",
       "Woman Candidate Master         1212\n",
       "Woman FIDE Master              2368\n",
       "Woman Grandmaster               506\n",
       "Woman International Master     1335\n",
       "Name: count, dtype: int64"
      ]
     },
     "execution_count": 94,
     "metadata": {},
     "output_type": "execute_result"
    }
   ],
   "source": [
    "wd_titles_df.groupby(['titleLabel'])['titleLabel'].value_counts()\n",
    "#['titleLabel']"
   ]
  },
  {
   "cell_type": "code",
   "execution_count": 95,
   "id": "1ed73de5-cb97-45b7-90c0-3bd0a1705e2e",
   "metadata": {},
   "outputs": [],
   "source": [
    "wd_titles_df = wd_titles_df.fillna('')"
   ]
  },
  {
   "cell_type": "code",
   "execution_count": 96,
   "id": "8b4e45f8-d7c3-4c46-b33c-155457f45add",
   "metadata": {},
   "outputs": [
    {
     "data": {
      "text/plain": [
       "item                      http://www.wikidata.org/entity/Q125258192\n",
       "itemLabel                               Laura Sofia Huayhuas Robles\n",
       "titleLabel                                   Woman Candidate Master\n",
       "title_guid          Q125258192-6BD7FD5A-D92C-4EED-8CA0-4C1BE3146750\n",
       "title_start_time                               2024-01-01T00:00:00Z\n",
       "Name: 3836517, dtype: object"
      ]
     },
     "execution_count": 96,
     "metadata": {},
     "output_type": "execute_result"
    }
   ],
   "source": [
    "wd_titles_df.loc['3836517']"
   ]
  },
  {
   "cell_type": "code",
   "execution_count": 97,
   "id": "ff2decf5-cc32-4f93-94ab-cd294df8c4a1",
   "metadata": {},
   "outputs": [
    {
     "data": {
      "text/html": [
       "<div>\n",
       "<style scoped>\n",
       "    .dataframe tbody tr th:only-of-type {\n",
       "        vertical-align: middle;\n",
       "    }\n",
       "\n",
       "    .dataframe tbody tr th {\n",
       "        vertical-align: top;\n",
       "    }\n",
       "\n",
       "    .dataframe thead th {\n",
       "        text-align: right;\n",
       "    }\n",
       "</style>\n",
       "<table border=\"1\" class=\"dataframe\">\n",
       "  <thead>\n",
       "    <tr style=\"text-align: right;\">\n",
       "      <th></th>\n",
       "      <th>item</th>\n",
       "      <th>itemLabel</th>\n",
       "      <th>titleLabel</th>\n",
       "      <th>title_guid</th>\n",
       "      <th>title_start_time</th>\n",
       "    </tr>\n",
       "    <tr>\n",
       "      <th>fide_id</th>\n",
       "      <th></th>\n",
       "      <th></th>\n",
       "      <th></th>\n",
       "      <th></th>\n",
       "      <th></th>\n",
       "    </tr>\n",
       "  </thead>\n",
       "  <tbody>\n",
       "    <tr>\n",
       "      <th>1741721</th>\n",
       "      <td>http://www.wikidata.org/entity/Q108377878</td>\n",
       "      <td>William Olsson</td>\n",
       "      <td>FIDE Master</td>\n",
       "      <td>Q108377878-C8CFB2A3-7FF9-456D-8981-2F1072B272F3</td>\n",
       "      <td>2021-08-01T00:00:00Z</td>\n",
       "    </tr>\n",
       "    <tr>\n",
       "      <th>1741721</th>\n",
       "      <td>http://www.wikidata.org/entity/Q108377878</td>\n",
       "      <td>William Olsson</td>\n",
       "      <td>International Master</td>\n",
       "      <td>Q108377878-be69ba7f-427b-948c-c77c-899037e3c433</td>\n",
       "      <td>2024-01-31T00:00:00Z</td>\n",
       "    </tr>\n",
       "  </tbody>\n",
       "</table>\n",
       "</div>"
      ],
      "text/plain": [
       "                                              item       itemLabel  \\\n",
       "fide_id                                                              \n",
       "1741721  http://www.wikidata.org/entity/Q108377878  William Olsson   \n",
       "1741721  http://www.wikidata.org/entity/Q108377878  William Olsson   \n",
       "\n",
       "                   titleLabel  \\\n",
       "fide_id                         \n",
       "1741721           FIDE Master   \n",
       "1741721  International Master   \n",
       "\n",
       "                                              title_guid      title_start_time  \n",
       "fide_id                                                                         \n",
       "1741721  Q108377878-C8CFB2A3-7FF9-456D-8981-2F1072B272F3  2021-08-01T00:00:00Z  \n",
       "1741721  Q108377878-be69ba7f-427b-948c-c77c-899037e3c433  2024-01-31T00:00:00Z  "
      ]
     },
     "execution_count": 97,
     "metadata": {},
     "output_type": "execute_result"
    }
   ],
   "source": [
    "wd_titles_df.loc['1741721']"
   ]
  },
  {
   "cell_type": "code",
   "execution_count": 98,
   "id": "4aef3006-14b8-4ab7-a748-5d3a0dd03cb2",
   "metadata": {},
   "outputs": [],
   "source": [
    "count = 0\n",
    "lst = []\n",
    "lst2 = []\n",
    "f = open(\"invalid_fide2.txt\", 'w')\n",
    "for fid in wd_titles_df.index.unique():\n",
    "    \n",
    "    sub_df = wd_titles_df.loc[fid]\n",
    "    try:\n",
    "            \n",
    "        if isinstance(sub_df, pd.DataFrame): # multiple rows\n",
    "            \n",
    "            potential_mismatch_indexes = []\n",
    "            sub_df = sub_df.reset_index()\n",
    "            for i, s in sub_df.iterrows():\n",
    "                if (fide_dict[fid]['title'] == None): # FIDE has no title listed\n",
    "                    if s['title_start_time']: # No title start time on Wikidata\n",
    "                        if (s['title_start_time'] >= '2024-02-01T00:00:00Z' or # XML was from Feb 2024\n",
    "                            s['title_start_time'] == '2024-01-01T00:00:00Z'): # Refers to ambiguous \"2024\" start time\n",
    "                            continue\n",
    "    \n",
    "                    external_url = 'https://ratings.fide.com/profile/' + fid\n",
    "                    row = {'item_id': s['item'][31:], \n",
    "                           'property_id': 'P2962',  \n",
    "                           'statement_guid': s['title_guid'], \n",
    "                           'wikidata_value': s['titleLabel'], \n",
    "                           'meta_wikidata_value': None, \n",
    "                           'external_value': fide_dict[fid]['title'], \n",
    "                           'external_url': external_url, \n",
    "                           'type':'statement'}\n",
    "                    lst.append(row)\n",
    "                    continue\n",
    "                    \n",
    "                    \n",
    "                if (full_forms_dict[s['titleLabel']] != fide_dict[fid]['title']): # potential mismatch!\n",
    "                    if s['title_start_time']:\n",
    "                        if (s['title_start_time'] >= '2024-02-01T00:00:00Z' or \n",
    "                            s['title_start_time'] == '2024-01-01T00:00:00Z'): \n",
    "                            break\n",
    "                    potential_mismatch_indexes.append(i)\n",
    "                else:\n",
    "                    break # no real mismatch - move on to next fid\n",
    "            else: # no match found within sub_df\n",
    "                for i in potential_mismatch_indexes:\n",
    "                    \n",
    "                    external_url = 'https://ratings.fide.com/profile/' + fid\n",
    "                    row = {'item_id': sub_df.iloc[i]['item'][31:], \n",
    "                           'property_id': 'P2962', \n",
    "                           'statement_guid': sub_df.iloc[i]['title_guid'], \n",
    "                           'wikidata_value': sub_df.iloc[i]['titleLabel'], \n",
    "                           'meta_wikidata_value': None, \n",
    "                           'external_value': fide_dict[fid]['title'], \n",
    "                           'external_url': external_url, \n",
    "                           'type':'statement'}\n",
    "                    lst.append(row)\n",
    "        \n",
    "        else:\n",
    "            \n",
    "            # sub_df is just a series\n",
    "                \n",
    "            if (fide_dict[fid]['title'] == None):\n",
    "                if sub_df['title_start_time']:\n",
    "                    if (sub_df['title_start_time'] >= '2024-02-01T00:00:00Z' or \n",
    "                        sub_df['title_start_time'] == '2024-01-01T00:00:00Z'): \n",
    "                        continue\n",
    "                external_url = 'https://ratings.fide.com/profile/' + fid\n",
    "                row = {'item_id': sub_df['item'][31:], \n",
    "                       'property_id': 'P2962', \n",
    "                       'statement_guid': sub_df['title_guid'], \n",
    "                       'wikidata_value': sub_df['titleLabel'], \n",
    "                       'meta_wikidata_value': None, \n",
    "                       'external_value': fide_dict[fid]['title'], \n",
    "                       'external_url': external_url, \n",
    "                       'type':'statement'}\n",
    "                lst.append(row)\n",
    "                continue\n",
    "\n",
    "            if (full_forms_dict[sub_df['titleLabel']] != fide_dict[fid]['title']): # mismatch\n",
    "                if sub_df['title_start_time']:\n",
    "                    if (sub_df['title_start_time'] >= '2024-02-01T00:00:00Z' or \n",
    "                        sub_df['title_start_time'] == '2024-01-01T00:00:00Z'): continue\n",
    "\n",
    "                external_url = 'https://ratings.fide.com/profile/' + fid\n",
    "                row = {'item_id': sub_df['item'][31:], \n",
    "                       'property_id': 'P2962', \n",
    "                       'statement_guid': sub_df['title_guid'], \n",
    "                       'wikidata_value': sub_df['titleLabel'], \n",
    "                       'meta_wikidata_value': None, \n",
    "                       'external_value': fide_dict[fid]['title'], \n",
    "                       'external_url': external_url, \n",
    "                       'type':'statement'}\n",
    "                lst.append(row)\n",
    "            \n",
    "    except KeyError as an_error: \n",
    "        if (an_error.args[0] == fid):\n",
    "            f.write(\"FIDE id not found %s\\n\" % fid)\n",
    "            f.write(\"WIKIDATA: %s\\n\" % sub_df['item'])\n",
    "\n",
    "df = pd.DataFrame(lst, columns=[\"item_id\", \"statement_guid\", \"property_id\", \"wikidata_value\", \"meta_wikidata_value\", \"external_value\", \"external_url\", \"type\"])\n",
    "\n",
    "f.close()\n",
    "\n"
   ]
  },
  {
   "cell_type": "code",
   "execution_count": 99,
   "id": "128e070f-4ebd-4ba3-b117-e8689261a500",
   "metadata": {},
   "outputs": [
    {
     "data": {
      "text/html": [
       "<div>\n",
       "<style scoped>\n",
       "    .dataframe tbody tr th:only-of-type {\n",
       "        vertical-align: middle;\n",
       "    }\n",
       "\n",
       "    .dataframe tbody tr th {\n",
       "        vertical-align: top;\n",
       "    }\n",
       "\n",
       "    .dataframe thead th {\n",
       "        text-align: right;\n",
       "    }\n",
       "</style>\n",
       "<table border=\"1\" class=\"dataframe\">\n",
       "  <thead>\n",
       "    <tr style=\"text-align: right;\">\n",
       "      <th></th>\n",
       "      <th>item_id</th>\n",
       "      <th>statement_guid</th>\n",
       "      <th>property_id</th>\n",
       "      <th>wikidata_value</th>\n",
       "      <th>meta_wikidata_value</th>\n",
       "      <th>external_value</th>\n",
       "      <th>external_url</th>\n",
       "      <th>type</th>\n",
       "    </tr>\n",
       "  </thead>\n",
       "  <tbody>\n",
       "    <tr>\n",
       "      <th>0</th>\n",
       "      <td>Q211194</td>\n",
       "      <td>Q211194-CAE3E2B5-9512-4972-B450-18E9B3810516</td>\n",
       "      <td>P2962</td>\n",
       "      <td>International Master</td>\n",
       "      <td>None</td>\n",
       "      <td>None</td>\n",
       "      <td>https://ratings.fide.com/profile/1201271</td>\n",
       "      <td>statement</td>\n",
       "    </tr>\n",
       "    <tr>\n",
       "      <th>1</th>\n",
       "      <td>Q111461115</td>\n",
       "      <td>Q111461115-18AD690E-38B4-4346-A3E2-0D2C37DD0130</td>\n",
       "      <td>P2962</td>\n",
       "      <td>Candidate Master</td>\n",
       "      <td>None</td>\n",
       "      <td>FM</td>\n",
       "      <td>https://ratings.fide.com/profile/44523793</td>\n",
       "      <td>statement</td>\n",
       "    </tr>\n",
       "    <tr>\n",
       "      <th>2</th>\n",
       "      <td>Q111461361</td>\n",
       "      <td>Q111461361-586260B3-0A62-4791-90F8-FAC778FA6F3E</td>\n",
       "      <td>P2962</td>\n",
       "      <td>Woman Candidate Master</td>\n",
       "      <td>None</td>\n",
       "      <td>WFM</td>\n",
       "      <td>https://ratings.fide.com/profile/2134470</td>\n",
       "      <td>statement</td>\n",
       "    </tr>\n",
       "    <tr>\n",
       "      <th>3</th>\n",
       "      <td>Q113393895</td>\n",
       "      <td>Q113393895-FAC6DC01-8863-4AA8-A5F5-C7239FC4C423</td>\n",
       "      <td>P2962</td>\n",
       "      <td>Candidate Master</td>\n",
       "      <td>None</td>\n",
       "      <td>FM</td>\n",
       "      <td>https://ratings.fide.com/profile/30940192</td>\n",
       "      <td>statement</td>\n",
       "    </tr>\n",
       "    <tr>\n",
       "      <th>4</th>\n",
       "      <td>Q115556931</td>\n",
       "      <td>Q115556931-E2EA9F78-E479-431C-B788-7BFDF3D7FD17</td>\n",
       "      <td>P2962</td>\n",
       "      <td>Candidate Master</td>\n",
       "      <td>None</td>\n",
       "      <td>FM</td>\n",
       "      <td>https://ratings.fide.com/profile/35066188</td>\n",
       "      <td>statement</td>\n",
       "    </tr>\n",
       "    <tr>\n",
       "      <th>...</th>\n",
       "      <td>...</td>\n",
       "      <td>...</td>\n",
       "      <td>...</td>\n",
       "      <td>...</td>\n",
       "      <td>...</td>\n",
       "      <td>...</td>\n",
       "      <td>...</td>\n",
       "      <td>...</td>\n",
       "    </tr>\n",
       "    <tr>\n",
       "      <th>154</th>\n",
       "      <td>Q71318493</td>\n",
       "      <td>Q71318493-4538C3C9-735B-435A-A92F-20EA55B51E1C</td>\n",
       "      <td>P2962</td>\n",
       "      <td>FIDE Master</td>\n",
       "      <td>None</td>\n",
       "      <td>IM</td>\n",
       "      <td>https://ratings.fide.com/profile/6367879</td>\n",
       "      <td>statement</td>\n",
       "    </tr>\n",
       "    <tr>\n",
       "      <th>155</th>\n",
       "      <td>Q102659968</td>\n",
       "      <td>Q102659968-002a75f4-4049-f7ed-5f6f-0de36cf4b2e5</td>\n",
       "      <td>P2962</td>\n",
       "      <td>FIDE Master</td>\n",
       "      <td>None</td>\n",
       "      <td>WFM</td>\n",
       "      <td>https://ratings.fide.com/profile/34104868</td>\n",
       "      <td>statement</td>\n",
       "    </tr>\n",
       "    <tr>\n",
       "      <th>156</th>\n",
       "      <td>Q108407169</td>\n",
       "      <td>Q108407169-6EEF76C3-B108-4376-9EC1-4FA3E4395AD0</td>\n",
       "      <td>P2962</td>\n",
       "      <td>FIDE Master</td>\n",
       "      <td>None</td>\n",
       "      <td>IM</td>\n",
       "      <td>https://ratings.fide.com/profile/30931975</td>\n",
       "      <td>statement</td>\n",
       "    </tr>\n",
       "    <tr>\n",
       "      <th>157</th>\n",
       "      <td>Q108419448</td>\n",
       "      <td>Q108419448-9CC93D97-FBFD-4DDC-A34A-737A806EFD90</td>\n",
       "      <td>P2962</td>\n",
       "      <td>Candidate Master</td>\n",
       "      <td>None</td>\n",
       "      <td>FM</td>\n",
       "      <td>https://ratings.fide.com/profile/22272836</td>\n",
       "      <td>statement</td>\n",
       "    </tr>\n",
       "    <tr>\n",
       "      <th>158</th>\n",
       "      <td>Q109381824</td>\n",
       "      <td>Q109381824-BCD170E5-1DBA-473D-BF7F-47AECA625036</td>\n",
       "      <td>P2962</td>\n",
       "      <td>Candidate Master</td>\n",
       "      <td>None</td>\n",
       "      <td>FM</td>\n",
       "      <td>https://ratings.fide.com/profile/3304094</td>\n",
       "      <td>statement</td>\n",
       "    </tr>\n",
       "  </tbody>\n",
       "</table>\n",
       "<p>159 rows × 8 columns</p>\n",
       "</div>"
      ],
      "text/plain": [
       "        item_id                                   statement_guid property_id  \\\n",
       "0       Q211194     Q211194-CAE3E2B5-9512-4972-B450-18E9B3810516       P2962   \n",
       "1    Q111461115  Q111461115-18AD690E-38B4-4346-A3E2-0D2C37DD0130       P2962   \n",
       "2    Q111461361  Q111461361-586260B3-0A62-4791-90F8-FAC778FA6F3E       P2962   \n",
       "3    Q113393895  Q113393895-FAC6DC01-8863-4AA8-A5F5-C7239FC4C423       P2962   \n",
       "4    Q115556931  Q115556931-E2EA9F78-E479-431C-B788-7BFDF3D7FD17       P2962   \n",
       "..          ...                                              ...         ...   \n",
       "154   Q71318493   Q71318493-4538C3C9-735B-435A-A92F-20EA55B51E1C       P2962   \n",
       "155  Q102659968  Q102659968-002a75f4-4049-f7ed-5f6f-0de36cf4b2e5       P2962   \n",
       "156  Q108407169  Q108407169-6EEF76C3-B108-4376-9EC1-4FA3E4395AD0       P2962   \n",
       "157  Q108419448  Q108419448-9CC93D97-FBFD-4DDC-A34A-737A806EFD90       P2962   \n",
       "158  Q109381824  Q109381824-BCD170E5-1DBA-473D-BF7F-47AECA625036       P2962   \n",
       "\n",
       "             wikidata_value meta_wikidata_value external_value  \\\n",
       "0      International Master                None           None   \n",
       "1          Candidate Master                None             FM   \n",
       "2    Woman Candidate Master                None            WFM   \n",
       "3          Candidate Master                None             FM   \n",
       "4          Candidate Master                None             FM   \n",
       "..                      ...                 ...            ...   \n",
       "154             FIDE Master                None             IM   \n",
       "155             FIDE Master                None            WFM   \n",
       "156             FIDE Master                None             IM   \n",
       "157        Candidate Master                None             FM   \n",
       "158        Candidate Master                None             FM   \n",
       "\n",
       "                                  external_url       type  \n",
       "0     https://ratings.fide.com/profile/1201271  statement  \n",
       "1    https://ratings.fide.com/profile/44523793  statement  \n",
       "2     https://ratings.fide.com/profile/2134470  statement  \n",
       "3    https://ratings.fide.com/profile/30940192  statement  \n",
       "4    https://ratings.fide.com/profile/35066188  statement  \n",
       "..                                         ...        ...  \n",
       "154   https://ratings.fide.com/profile/6367879  statement  \n",
       "155  https://ratings.fide.com/profile/34104868  statement  \n",
       "156  https://ratings.fide.com/profile/30931975  statement  \n",
       "157  https://ratings.fide.com/profile/22272836  statement  \n",
       "158   https://ratings.fide.com/profile/3304094  statement  \n",
       "\n",
       "[159 rows x 8 columns]"
      ]
     },
     "execution_count": 99,
     "metadata": {},
     "output_type": "execute_result"
    }
   ],
   "source": [
    "df"
   ]
  },
  {
   "cell_type": "code",
   "execution_count": 100,
   "id": "cc6c521d-9ec2-48d0-890d-0233832b6176",
   "metadata": {},
   "outputs": [],
   "source": [
    "df['statement_guid'] = df['statement_guid'].str.replace('-', '$', 1)"
   ]
  },
  {
   "cell_type": "code",
   "execution_count": 101,
   "id": "996174d2-2a60-4222-a449-3591fb80af20",
   "metadata": {},
   "outputs": [],
   "source": [
    "df['external_value'] = df['external_value'].fillna('')"
   ]
  },
  {
   "cell_type": "code",
   "execution_count": 102,
   "id": "5eb39067-f135-414d-a555-ca55342259e6",
   "metadata": {},
   "outputs": [
    {
     "name": "stdout",
     "output_type": "stream",
     "text": [
      "All checks have passed! The data is ready to be uploaded to Mismatch Finder.\n"
     ]
    }
   ],
   "source": [
    "check_mf_formatting(df)"
   ]
  },
  {
   "cell_type": "code",
   "execution_count": 103,
   "id": "a53c8796-f902-444d-91b3-c2550b1e8535",
   "metadata": {},
   "outputs": [],
   "source": [
    "df.to_csv('validated_titles_data.csv', index=False)"
   ]
  }
 ],
 "metadata": {
  "kernelspec": {
   "display_name": "Python 3 (ipykernel)",
   "language": "python",
   "name": "python3"
  },
  "language_info": {
   "codemirror_mode": {
    "name": "ipython",
    "version": 3
   },
   "file_extension": ".py",
   "mimetype": "text/x-python",
   "name": "python",
   "nbconvert_exporter": "python",
   "pygments_lexer": "ipython3",
   "version": "3.11.4"
  }
 },
 "nbformat": 4,
 "nbformat_minor": 5
}
