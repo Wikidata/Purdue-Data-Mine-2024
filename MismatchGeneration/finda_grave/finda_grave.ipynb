{
 "cells": [
  {
   "cell_type": "code",
   "execution_count": 1,
   "id": "ff0882a1-38e5-4c25-8d3b-93b79def9d32",
   "metadata": {},
   "outputs": [],
   "source": [
    "import re\n",
    "import ast\n",
    "import sys\n",
    "import json\n",
    "import random\n",
    "import requests\n",
    "import numpy as np\n",
    "import pandas as pd\n",
    "from tqdm import tqdm\n",
    "from bs4 import BeautifulSoup\n",
    "from dateutil.parser import parse as parseDate\n",
    "from dateutil.parser import ParserError\n",
    "\n",
    "PATH_TO_UTILS = \"../\"  # change based on your directory structure\n",
    "sys.path.append(PATH_TO_UTILS)\n",
    "\n",
    "from utils import check_mf_formatting"
   ]
  },
  {
   "cell_type": "code",
   "execution_count": 2,
   "id": "7d2cc5e5-f18d-4abf-ae0c-bea766d21148",
   "metadata": {},
   "outputs": [],
   "source": [
    "wd_entries = pd.read_csv(\"wikidata_entries.tsv\", delimiter=\"\\t\", low_memory=False)"
   ]
  },
  {
   "cell_type": "code",
   "execution_count": 3,
   "id": "0de54a8a-9f90-4462-b3cd-8fa61607b3d6",
   "metadata": {},
   "outputs": [
    {
     "data": {
      "text/html": [
       "<div>\n",
       "<style scoped>\n",
       "    .dataframe tbody tr th:only-of-type {\n",
       "        vertical-align: middle;\n",
       "    }\n",
       "\n",
       "    .dataframe tbody tr th {\n",
       "        vertical-align: top;\n",
       "    }\n",
       "\n",
       "    .dataframe thead th {\n",
       "        text-align: right;\n",
       "    }\n",
       "</style>\n",
       "<table border=\"1\" class=\"dataframe\">\n",
       "  <thead>\n",
       "    <tr style=\"text-align: right;\">\n",
       "      <th></th>\n",
       "      <th>?findAGraveID</th>\n",
       "      <th>?person</th>\n",
       "      <th>?name</th>\n",
       "      <th>?birthdays</th>\n",
       "      <th>?birthplaces</th>\n",
       "      <th>?deathdays</th>\n",
       "      <th>?deathplaces</th>\n",
       "      <th>?burials</th>\n",
       "      <th>?plots</th>\n",
       "      <th>?fathers</th>\n",
       "      <th>?mothers</th>\n",
       "      <th>?siblings</th>\n",
       "    </tr>\n",
       "  </thead>\n",
       "  <tbody>\n",
       "    <tr>\n",
       "      <th>140550</th>\n",
       "      <td>9999</td>\n",
       "      <td>&lt;http://www.wikidata.org/entity/Q555910&gt;</td>\n",
       "      <td>Fred Quimby@en</td>\n",
       "      <td>1886-07-31T00:00:00Z</td>\n",
       "      <td>Minneapolis</td>\n",
       "      <td>1965-09-16T00:00:00Z</td>\n",
       "      <td>Santa Monica</td>\n",
       "      <td>Forest Lawn Memorial Park</td>\n",
       "      <td>NaN</td>\n",
       "      <td>NaN</td>\n",
       "      <td>NaN</td>\n",
       "      <td>NaN</td>\n",
       "    </tr>\n",
       "    <tr>\n",
       "      <th>140551</th>\n",
       "      <td>99992961</td>\n",
       "      <td>&lt;http://www.wikidata.org/entity/Q3108870&gt;</td>\n",
       "      <td>Pascual Pérez@en</td>\n",
       "      <td>1957-05-17T00:00:00Z</td>\n",
       "      <td>San Cristóbal</td>\n",
       "      <td>2012-11-01T00:00:00Z</td>\n",
       "      <td>San Gregorio de Nigua</td>\n",
       "      <td>NaN</td>\n",
       "      <td>NaN</td>\n",
       "      <td>NaN</td>\n",
       "      <td>NaN</td>\n",
       "      <td>NaN</td>\n",
       "    </tr>\n",
       "    <tr>\n",
       "      <th>140552</th>\n",
       "      <td>99996384</td>\n",
       "      <td>&lt;http://www.wikidata.org/entity/Q65801651&gt;</td>\n",
       "      <td>Joseph Kain@en</td>\n",
       "      <td>1854-01-01T00:00:00Z</td>\n",
       "      <td>NaN</td>\n",
       "      <td>1907-01-01T00:00:00Z</td>\n",
       "      <td>NaN</td>\n",
       "      <td>NaN</td>\n",
       "      <td>NaN</td>\n",
       "      <td>NaN</td>\n",
       "      <td>NaN</td>\n",
       "      <td>NaN</td>\n",
       "    </tr>\n",
       "    <tr>\n",
       "      <th>140553</th>\n",
       "      <td>99999223</td>\n",
       "      <td>&lt;http://www.wikidata.org/entity/Q63616730&gt;</td>\n",
       "      <td>John Rogers@en</td>\n",
       "      <td>1692-01-19T00:00:00Z</td>\n",
       "      <td>NaN</td>\n",
       "      <td>1773-10-16T00:00:00Z</td>\n",
       "      <td>NaN</td>\n",
       "      <td>NaN</td>\n",
       "      <td>NaN</td>\n",
       "      <td>NaN</td>\n",
       "      <td>NaN</td>\n",
       "      <td>NaN</td>\n",
       "    </tr>\n",
       "    <tr>\n",
       "      <th>140554</th>\n",
       "      <td>99999919</td>\n",
       "      <td>&lt;http://www.wikidata.org/entity/Q1687534&gt;</td>\n",
       "      <td>Jeremiah D. M. Ford@en</td>\n",
       "      <td>1873-07-02T00:00:00Z</td>\n",
       "      <td>Cambridge</td>\n",
       "      <td>1958-11-13T00:00:00Z</td>\n",
       "      <td>Cambridge</td>\n",
       "      <td>Saint Pauls Cemetery</td>\n",
       "      <td>NaN</td>\n",
       "      <td>NaN</td>\n",
       "      <td>NaN</td>\n",
       "      <td>NaN</td>\n",
       "    </tr>\n",
       "  </tbody>\n",
       "</table>\n",
       "</div>"
      ],
      "text/plain": [
       "        ?findAGraveID                                     ?person  \\\n",
       "140550           9999    <http://www.wikidata.org/entity/Q555910>   \n",
       "140551       99992961   <http://www.wikidata.org/entity/Q3108870>   \n",
       "140552       99996384  <http://www.wikidata.org/entity/Q65801651>   \n",
       "140553       99999223  <http://www.wikidata.org/entity/Q63616730>   \n",
       "140554       99999919   <http://www.wikidata.org/entity/Q1687534>   \n",
       "\n",
       "                         ?name            ?birthdays   ?birthplaces  \\\n",
       "140550          Fred Quimby@en  1886-07-31T00:00:00Z    Minneapolis   \n",
       "140551        Pascual Pérez@en  1957-05-17T00:00:00Z  San Cristóbal   \n",
       "140552          Joseph Kain@en  1854-01-01T00:00:00Z            NaN   \n",
       "140553          John Rogers@en  1692-01-19T00:00:00Z            NaN   \n",
       "140554  Jeremiah D. M. Ford@en  1873-07-02T00:00:00Z      Cambridge   \n",
       "\n",
       "                  ?deathdays           ?deathplaces  \\\n",
       "140550  1965-09-16T00:00:00Z           Santa Monica   \n",
       "140551  2012-11-01T00:00:00Z  San Gregorio de Nigua   \n",
       "140552  1907-01-01T00:00:00Z                    NaN   \n",
       "140553  1773-10-16T00:00:00Z                    NaN   \n",
       "140554  1958-11-13T00:00:00Z              Cambridge   \n",
       "\n",
       "                         ?burials ?plots ?fathers ?mothers ?siblings  \n",
       "140550  Forest Lawn Memorial Park    NaN      NaN      NaN       NaN  \n",
       "140551                        NaN    NaN      NaN      NaN       NaN  \n",
       "140552                        NaN    NaN      NaN      NaN       NaN  \n",
       "140553                        NaN    NaN      NaN      NaN       NaN  \n",
       "140554       Saint Pauls Cemetery    NaN      NaN      NaN       NaN  "
      ]
     },
     "execution_count": 3,
     "metadata": {},
     "output_type": "execute_result"
    }
   ],
   "source": [
    "wd_entries.tail()"
   ]
  },
  {
   "cell_type": "code",
   "execution_count": 4,
   "id": "7fd6db58-f3b1-4c54-bb0e-acafc2b51b10",
   "metadata": {},
   "outputs": [],
   "source": [
    "# Adapted from https://www.zenrows.com/blog/user-agent-web-scraping\n",
    "# More here https://useragentstring.com/pages/useragentstring.php\n",
    "user_agents = [\n",
    "    \"Mozilla/5.0 (Windows NT 10.0; Win64; x64) AppleWebKit/537.36 (KHTML, like Gecko) Chrome/109.0.0.0 Safari/537.36\"\n",
    "    \"Mozilla/5.0 (Macintosh; Intel Mac OS X 10_15_7) AppleWebKit/537.36 (KHTML, like Gecko) Chrome/109.0.0.0 Safari/537.36\"\n",
    "    \"Mozilla/5.0 (Windows NT 10.0; Win64; x64) AppleWebKit/537.36 (KHTML, like Gecko) Chrome/108.0.0.0 Safari/537.36\"\n",
    "    \"Mozilla/5.0 (Macintosh; Intel Mac OS X 10_15_7) AppleWebKit/537.36 (KHTML, like Gecko) Chrome/108.0.0.0 Safari/537.36\"\n",
    "    \"Mozilla/5.0 (X11; Linux x86_64) AppleWebKit/537.36 (KHTML, like Gecko) Chrome/108.0.0.0 Safari/537.36\"\n",
    "    \"Mozilla/5.0 (Macintosh; Intel Mac OS X 10_15_7) AppleWebKit/605.1.15 (KHTML, like Gecko) Version/16.1 Safari/605.1.15\"\n",
    "    \"Mozilla/5.0 (Macintosh; Intel Mac OS X 13_1) AppleWebKit/605.1.15 (KHTML, like Gecko) Version/16.1 Safari/605.1.15\"\n",
    "]"
   ]
  },
  {
   "cell_type": "code",
   "execution_count": 5,
   "id": "7f48ad98-fb8a-43cd-a1d2-21a6be240302",
   "metadata": {},
   "outputs": [
    {
     "name": "stderr",
     "output_type": "stream",
     "text": [
      "  0%|          | 208/140555 [02:04<24:57:41,  1.56it/s]"
     ]
    },
    {
     "name": "stdout",
     "output_type": "stream",
     "text": [
      "could not parse c.1286\n"
     ]
    },
    {
     "name": "stderr",
     "output_type": "stream",
     "text": [
      "  0%|          | 411/140555 [04:37<35:01:03,  1.11it/s]"
     ]
    },
    {
     "name": "stdout",
     "output_type": "stream",
     "text": [
      "could not parse unknown\n"
     ]
    },
    {
     "name": "stderr",
     "output_type": "stream",
     "text": [
      "  0%|          | 413/140555 [04:38<27:21:01,  1.42it/s]"
     ]
    },
    {
     "name": "stdout",
     "output_type": "stream",
     "text": [
      "could not parse unknown\n"
     ]
    },
    {
     "name": "stderr",
     "output_type": "stream",
     "text": [
      "  0%|          | 427/140555 [04:50<26:29:11,  1.47it/s]"
     ]
    },
    {
     "name": "stdout",
     "output_type": "stream",
     "text": [
      "https://www.findagrave.com/memorial/10061758 idx 427\n"
     ]
    },
    {
     "name": "stderr",
     "output_type": "stream",
     "text": [
      "\n"
     ]
    },
    {
     "ename": "AttributeError",
     "evalue": "'NoneType' object has no attribute 'text'",
     "output_type": "error",
     "traceback": [
      "\u001b[0;31m---------------------------------------------------------------------------\u001b[0m",
      "\u001b[0;31mAttributeError\u001b[0m                            Traceback (most recent call last)",
      "Cell \u001b[0;32mIn[5], line 52\u001b[0m\n\u001b[1;32m     50\u001b[0m \u001b[38;5;28;01mexcept\u001b[39;00m \u001b[38;5;167;01mException\u001b[39;00m \u001b[38;5;28;01mas\u001b[39;00m e:\n\u001b[1;32m     51\u001b[0m     \u001b[38;5;28mprint\u001b[39m(base_url \u001b[38;5;241m+\u001b[39m \u001b[38;5;28mstr\u001b[39m(\u001b[38;5;28mid\u001b[39m), \u001b[38;5;124m\"\u001b[39m\u001b[38;5;124midx\u001b[39m\u001b[38;5;124m\"\u001b[39m, i)\n\u001b[0;32m---> 52\u001b[0m     \u001b[38;5;28;01mraise\u001b[39;00m e\n\u001b[1;32m     53\u001b[0m \u001b[38;5;28;01mfinally\u001b[39;00m:\n\u001b[1;32m     54\u001b[0m     pd\u001b[38;5;241m.\u001b[39mDataFrame(acc)\u001b[38;5;241m.\u001b[39mto_csv(\u001b[38;5;124m\"\u001b[39m\u001b[38;5;124mfindagrave_entries.csv\u001b[39m\u001b[38;5;124m\"\u001b[39m, index\u001b[38;5;241m=\u001b[39m\u001b[38;5;28;01mFalse\u001b[39;00m)\n",
      "Cell \u001b[0;32mIn[5], line 49\u001b[0m\n\u001b[1;32m     47\u001b[0m i \u001b[38;5;241m+\u001b[39m\u001b[38;5;241m=\u001b[39m \u001b[38;5;241m1\u001b[39m\n\u001b[1;32m     48\u001b[0m \u001b[38;5;28;01mtry\u001b[39;00m:\n\u001b[0;32m---> 49\u001b[0m     acc\u001b[38;5;241m.\u001b[39mappend(\u001b[43mconstruct_row\u001b[49m\u001b[43m(\u001b[49m\u001b[38;5;28;43mid\u001b[39;49m\u001b[43m)\u001b[49m)\n\u001b[1;32m     50\u001b[0m \u001b[38;5;28;01mexcept\u001b[39;00m \u001b[38;5;167;01mException\u001b[39;00m \u001b[38;5;28;01mas\u001b[39;00m e:\n\u001b[1;32m     51\u001b[0m     \u001b[38;5;28mprint\u001b[39m(base_url \u001b[38;5;241m+\u001b[39m \u001b[38;5;28mstr\u001b[39m(\u001b[38;5;28mid\u001b[39m), \u001b[38;5;124m\"\u001b[39m\u001b[38;5;124midx\u001b[39m\u001b[38;5;124m\"\u001b[39m, i)\n",
      "Cell \u001b[0;32mIn[5], line 23\u001b[0m, in \u001b[0;36mconstruct_row\u001b[0;34m(id, newId)\u001b[0m\n\u001b[1;32m     21\u001b[0m s \u001b[38;5;241m=\u001b[39m soup\u001b[38;5;241m.\u001b[39mfind_all(attrs\u001b[38;5;241m=\u001b[39m{\u001b[38;5;124m'\u001b[39m\u001b[38;5;124maria-labelledby\u001b[39m\u001b[38;5;124m'\u001b[39m: \u001b[38;5;124m'\u001b[39m\u001b[38;5;124msiblingLabel\u001b[39m\u001b[38;5;124m'\u001b[39m})\n\u001b[1;32m     22\u001b[0m \u001b[38;5;28;01mtry\u001b[39;00m:\n\u001b[0;32m---> 23\u001b[0m     birthdays \u001b[38;5;241m=\u001b[39m parseDate(\u001b[43msoup\u001b[49m\u001b[38;5;241;43m.\u001b[39;49m\u001b[43mfind\u001b[49m\u001b[43m(\u001b[49m\u001b[38;5;28;43mid\u001b[39;49m\u001b[38;5;241;43m=\u001b[39;49m\u001b[38;5;124;43m\"\u001b[39;49m\u001b[38;5;124;43mbirthDateLabel\u001b[39;49m\u001b[38;5;124;43m\"\u001b[39;49m\u001b[43m)\u001b[49m\u001b[38;5;241;43m.\u001b[39;49m\u001b[43mtext\u001b[49m)\u001b[38;5;241m.\u001b[39misoformat() \u001b[38;5;241m+\u001b[39m \u001b[38;5;124m'\u001b[39m\u001b[38;5;124mZ\u001b[39m\u001b[38;5;124m'\u001b[39m\n\u001b[1;32m     24\u001b[0m \u001b[38;5;28;01mexcept\u001b[39;00m ParserError:\n\u001b[1;32m     25\u001b[0m     \u001b[38;5;28mprint\u001b[39m(\u001b[38;5;124m\"\u001b[39m\u001b[38;5;124mcould not parse\u001b[39m\u001b[38;5;124m\"\u001b[39m, soup\u001b[38;5;241m.\u001b[39mfind(\u001b[38;5;28mid\u001b[39m\u001b[38;5;241m=\u001b[39m\u001b[38;5;124m\"\u001b[39m\u001b[38;5;124mbirthDateLabel\u001b[39m\u001b[38;5;124m\"\u001b[39m)\u001b[38;5;241m.\u001b[39mtext)\n",
      "\u001b[0;31mAttributeError\u001b[0m: 'NoneType' object has no attribute 'text'"
     ]
    }
   ],
   "source": [
    "base_url = \"https://www.findagrave.com/memorial/\"\n",
    "try:\n",
    "    acc = pd.read_csv('findagrave_entries.csv').to_dict(orient=\"records\")\n",
    "except:\n",
    "    acc = []\n",
    "i = len(acc) - 1\n",
    "\n",
    "def construct_row(id, newId=None):\n",
    "    headers = {'User-Agent': random.choice(user_agents)}\n",
    "    with requests.get(base_url + str(newId if newId else id), headers=headers) as res:\n",
    "        soup = BeautifulSoup(res.text, 'html.parser')\n",
    "        if res.status_code == 404:\n",
    "            a = soup.find(\"a\", string=\" See Merged Memorial\")\n",
    "            if a is None:\n",
    "                # Memorial has been removed\n",
    "                return {\n",
    "                    \"?findAGraveID\": id,\n",
    "                    \"!newId\": \"\"\n",
    "                }\n",
    "            return construct_row(id, a.get(\"href\").split('/')[2])\n",
    "        s = soup.find_all(attrs={'aria-labelledby': 'siblingLabel'})\n",
    "        try:\n",
    "            birthdays = parseDate(soup.find(id=\"birthDateLabel\").text).isoformat() + 'Z'\n",
    "        except ParserError:\n",
    "            print(\"could not parse\", soup.find(id=\"birthDateLabel\").text)\n",
    "            birthdays = np.NaN\n",
    "        try:\n",
    "            deathdays = parseDate(re.sub(r\"\\([^)]+\\)\", \"\", soup.find(id=\"deathDateLabel\").text)).isoformat() + 'Z'\n",
    "        except ParserError:\n",
    "            print(\"could not parse\", soup.find(id=\"deathDateLabel\").text)\n",
    "            deathdays = np.NaN\n",
    "        return {\n",
    "            \"?findAGraveID\": id,\n",
    "            \"!newId\": newId,\n",
    "            \"?name\": soup.find(id=\"bio-name\").find(string=True).strip(),\n",
    "            \"?birthdays\": birthdays,\n",
    "            \"?birthplaces\": soup.find(id=\"birthLocationLabel\").text.strip() if soup.find(id=\"birthLocationLabel\") else np.NaN,\n",
    "            \"?deathdays\": deathdays,\n",
    "            \"?deathplaces\": soup.find(id=\"deathLocationLabel\").text.strip() if soup.find(id=\"deathLocationLabel\") else np.NaN,\n",
    "            \"?burials\": soup.find(id=\"cemeteryNameLabel\").text.strip() if soup.find(id=\"cemeteryNameLabel\") else \n",
    "                (re.sub(\"[ \\n]+\", \" \", soup.find(id=\"cemeteryCountryName\").parent.text.strip()) if soup.find(id=\"cemeteryCountryName\") else np.NaN),\n",
    "            \"?plots\": soup.find(id=\"plotValueLabel\").text.strip() if soup.find(id=\"plotValueLabel\") is not None else np.NaN,\n",
    "            \"?siblings\": ';'.join(list(map(lambda elem: re.sub(\" +\", \" \", elem.find(\"h3\", recursive=True).text.strip()), soup.find_all(attrs={'aria-labelledby': 'siblingLabel'}))))\n",
    "        }\n",
    "\n",
    "for id in tqdm(wd_entries[\"?findAGraveID\"][len(acc):]):\n",
    "    i += 1\n",
    "    try:\n",
    "        acc.append(construct_row(id))\n",
    "    except Exception as e:\n",
    "        print(base_url + str(id), \"idx\", i)\n",
    "        raise e\n",
    "    finally:\n",
    "        pd.DataFrame(acc).to_csv(\"findagrave_entries.csv\", index=False)\n"
   ]
  },
  {
   "cell_type": "code",
   "execution_count": 6,
   "id": "32354ca4-9af3-4346-932a-b4413932481d",
   "metadata": {},
   "outputs": [
    {
     "data": {
      "text/plain": [
       "{'?findAGraveID': 100102475,\n",
       " '!newId': '88066179',\n",
       " '?name': 'George Lee Thurston III',\n",
       " '?birthdays': '1925-10-01T00:00:00Z',\n",
       " '?birthplaces': 'Culpeper, Culpeper County, Virginia, USA',\n",
       " '?deathdays': '2001-03-20T00:00:00Z',\n",
       " '?deathplaces': 'Tallahassee, Leon County, Florida, USA',\n",
       " '?burials': 'Oakland Cemetery',\n",
       " '?plots': 'Block / Lot or Sec # / Space J / LOT 28, SEC 2 / 1, Lot Descr',\n",
       " '?siblings': ''}"
      ]
     },
     "execution_count": 6,
     "metadata": {},
     "output_type": "execute_result"
    }
   ],
   "source": [
    "acc[0]"
   ]
  },
  {
   "cell_type": "code",
   "execution_count": null,
   "id": "c0709a97-8464-4535-b568-6b858234c268",
   "metadata": {},
   "outputs": [],
   "source": [
    "acc.to_csv(\"mismatches.csv\", index=False)"
   ]
  }
 ],
 "metadata": {
  "kernelspec": {
   "display_name": "seminar",
   "language": "python",
   "name": "seminar"
  },
  "language_info": {
   "codemirror_mode": {
    "name": "ipython",
    "version": 3
   },
   "file_extension": ".py",
   "mimetype": "text/x-python",
   "name": "python",
   "nbconvert_exporter": "python",
   "pygments_lexer": "ipython3",
   "version": "3.11.5"
  }
 },
 "nbformat": 4,
 "nbformat_minor": 5
}
