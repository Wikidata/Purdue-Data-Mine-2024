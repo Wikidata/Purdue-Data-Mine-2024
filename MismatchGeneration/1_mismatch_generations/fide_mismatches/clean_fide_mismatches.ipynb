{
 "cells": [
  {
   "cell_type": "markdown",
   "id": "abea7e04",
   "metadata": {},
   "source": [
    "# Clean Fide Mismatches\n",
    "\n",
    "Notebook to check the generated FIDE mismatches. What we're looking for is:\n",
    "- Those that are for Wikidata items that have a profession other than chess player ([Q10873124](https://www.wikidata.org/wiki/Q10873124))\n",
    "- For the others, check for entries that have a date of birth that is not the one on FIDE"
   ]
  },
  {
   "cell_type": "code",
   "execution_count": 1,
   "id": "43a22732",
   "metadata": {},
   "outputs": [],
   "source": [
    "# pip install jupyter-black"
   ]
  },
  {
   "cell_type": "code",
   "execution_count": 2,
   "id": "fb1ef884",
   "metadata": {},
   "outputs": [
    {
     "data": {
      "text/html": [
       "\n",
       "                <script type=\"application/javascript\" id=\"jupyter_black\">\n",
       "                (function() {\n",
       "                    if (window.IPython === undefined) {\n",
       "                        return\n",
       "                    }\n",
       "                    var msg = \"WARNING: it looks like you might have loaded \" +\n",
       "                        \"jupyter_black in a non-lab notebook with \" +\n",
       "                        \"`is_lab=True`. Please double check, and if \" +\n",
       "                        \"loading with `%load_ext` please review the README!\"\n",
       "                    console.log(msg)\n",
       "                    alert(msg)\n",
       "                })()\n",
       "                </script>\n",
       "                "
      ],
      "text/plain": [
       "<IPython.core.display.HTML object>"
      ]
     },
     "metadata": {},
     "output_type": "display_data"
    }
   ],
   "source": [
    "%load_ext jupyter_black"
   ]
  },
  {
   "cell_type": "markdown",
   "id": "0fa3f5c3",
   "metadata": {},
   "source": [
    "## Imports and Load Data"
   ]
  },
  {
   "cell_type": "code",
   "execution_count": 2,
   "id": "7976d899",
   "metadata": {},
   "outputs": [],
   "source": [
    "import requests\n",
    "\n",
    "import pandas as pd\n",
    "from tqdm.auto import tqdm"
   ]
  },
  {
   "cell_type": "code",
   "execution_count": 12,
   "id": "df1f8aa5",
   "metadata": {},
   "outputs": [],
   "source": [
    "def rest_api_get_request(wd_qid: str, term: str = \"\"):\n",
    "    api_endpoint = \"https://www.wikidata.org/w/rest.php/wikibase/v0\"\n",
    "    request_string = api_endpoint + \"/entities/items/\" + f\"{wd_qid}\"\n",
    "    if term != \"\":\n",
    "        request_string += f\"/{term}\"\n",
    "\n",
    "    request = requests.get(request_string)\n",
    "\n",
    "    return request.json()"
   ]
  },
  {
   "cell_type": "code",
   "execution_count": 7,
   "id": "062c98be",
   "metadata": {},
   "outputs": [
    {
     "data": {
      "text/plain": [
       "120"
      ]
     },
     "execution_count": 7,
     "metadata": {},
     "output_type": "execute_result"
    }
   ],
   "source": [
    "df_fide_mismatches = pd.read_csv(\"validated_players_data.csv\")\n",
    "len(df_fide_mismatches)"
   ]
  },
  {
   "cell_type": "code",
   "execution_count": 9,
   "id": "acdd6732",
   "metadata": {},
   "outputs": [
    {
     "data": {
      "text/html": [
       "<div>\n",
       "<style scoped>\n",
       "    .dataframe tbody tr th:only-of-type {\n",
       "        vertical-align: middle;\n",
       "    }\n",
       "\n",
       "    .dataframe tbody tr th {\n",
       "        vertical-align: top;\n",
       "    }\n",
       "\n",
       "    .dataframe thead th {\n",
       "        text-align: right;\n",
       "    }\n",
       "</style>\n",
       "<table border=\"1\" class=\"dataframe\">\n",
       "  <thead>\n",
       "    <tr style=\"text-align: right;\">\n",
       "      <th></th>\n",
       "      <th>item_id</th>\n",
       "      <th>statement_guid</th>\n",
       "      <th>property_id</th>\n",
       "      <th>wikidata_value</th>\n",
       "      <th>meta_wikidata_value</th>\n",
       "      <th>external_value</th>\n",
       "      <th>external_url</th>\n",
       "      <th>type</th>\n",
       "    </tr>\n",
       "  </thead>\n",
       "  <tbody>\n",
       "    <tr>\n",
       "      <th>0</th>\n",
       "      <td>Q77168</td>\n",
       "      <td>Q77168-37C631A8-7BE2-414A-A806-585C1BEE1EFB</td>\n",
       "      <td>P569</td>\n",
       "      <td>1971-05-01T00:00:00Z</td>\n",
       "      <td>Q1985727</td>\n",
       "      <td>1979</td>\n",
       "      <td>https://ratings.fide.com/profile/1004816</td>\n",
       "      <td>statement</td>\n",
       "    </tr>\n",
       "    <tr>\n",
       "      <th>1</th>\n",
       "      <td>Q103301</td>\n",
       "      <td>Q103301-1342BD85-9F9B-4795-B4D3-D5E9BEFE1B23</td>\n",
       "      <td>P569</td>\n",
       "      <td>1943-04-17T00:00:00Z</td>\n",
       "      <td>Q1985727</td>\n",
       "      <td>1945</td>\n",
       "      <td>https://ratings.fide.com/profile/4600185</td>\n",
       "      <td>statement</td>\n",
       "    </tr>\n",
       "    <tr>\n",
       "      <th>2</th>\n",
       "      <td>Q278844</td>\n",
       "      <td>Q278844-13624996-30D9-43C7-80D7-98294FB512D3</td>\n",
       "      <td>P569</td>\n",
       "      <td>1949-08-24T00:00:00Z</td>\n",
       "      <td>Q1985727</td>\n",
       "      <td>1946</td>\n",
       "      <td>https://ratings.fide.com/profile/900095</td>\n",
       "      <td>statement</td>\n",
       "    </tr>\n",
       "    <tr>\n",
       "      <th>3</th>\n",
       "      <td>Q326562</td>\n",
       "      <td>Q326562-16F44782-9AD3-4774-8E60-97C8B6F84F7F</td>\n",
       "      <td>P569</td>\n",
       "      <td>1942-01-01T00:00:00Z</td>\n",
       "      <td>Q1985727</td>\n",
       "      <td>1943</td>\n",
       "      <td>https://ratings.fide.com/profile/800139</td>\n",
       "      <td>statement</td>\n",
       "    </tr>\n",
       "    <tr>\n",
       "      <th>4</th>\n",
       "      <td>Q446773</td>\n",
       "      <td>Q446773-34830D20-DCDE-45D6-B865-38E55604179B</td>\n",
       "      <td>P569</td>\n",
       "      <td>1976-12-05T00:00:00Z</td>\n",
       "      <td>Q1985727</td>\n",
       "      <td>2008</td>\n",
       "      <td>https://ratings.fide.com/profile/15201759</td>\n",
       "      <td>statement</td>\n",
       "    </tr>\n",
       "  </tbody>\n",
       "</table>\n",
       "</div>"
      ],
      "text/plain": [
       "   item_id                                statement_guid property_id  \\\n",
       "0   Q77168   Q77168-37C631A8-7BE2-414A-A806-585C1BEE1EFB        P569   \n",
       "1  Q103301  Q103301-1342BD85-9F9B-4795-B4D3-D5E9BEFE1B23        P569   \n",
       "2  Q278844  Q278844-13624996-30D9-43C7-80D7-98294FB512D3        P569   \n",
       "3  Q326562  Q326562-16F44782-9AD3-4774-8E60-97C8B6F84F7F        P569   \n",
       "4  Q446773  Q446773-34830D20-DCDE-45D6-B865-38E55604179B        P569   \n",
       "\n",
       "         wikidata_value meta_wikidata_value  external_value  \\\n",
       "0  1971-05-01T00:00:00Z            Q1985727            1979   \n",
       "1  1943-04-17T00:00:00Z            Q1985727            1945   \n",
       "2  1949-08-24T00:00:00Z            Q1985727            1946   \n",
       "3  1942-01-01T00:00:00Z            Q1985727            1943   \n",
       "4  1976-12-05T00:00:00Z            Q1985727            2008   \n",
       "\n",
       "                                external_url       type  \n",
       "0   https://ratings.fide.com/profile/1004816  statement  \n",
       "1   https://ratings.fide.com/profile/4600185  statement  \n",
       "2    https://ratings.fide.com/profile/900095  statement  \n",
       "3    https://ratings.fide.com/profile/800139  statement  \n",
       "4  https://ratings.fide.com/profile/15201759  statement  "
      ]
     },
     "execution_count": 9,
     "metadata": {},
     "output_type": "execute_result"
    }
   ],
   "source": [
    "df_fide_mismatches.head()"
   ]
  },
  {
   "cell_type": "code",
   "execution_count": 36,
   "id": "b20aa2f6",
   "metadata": {},
   "outputs": [
    {
     "data": {
      "text/plain": [
       "118"
      ]
     },
     "execution_count": 36,
     "metadata": {},
     "output_type": "execute_result"
    }
   ],
   "source": [
    "# We have some duplicate IDs.\n",
    "len(set(df_fide_mismatches[\"item_id\"]))"
   ]
  },
  {
   "cell_type": "markdown",
   "id": "617db87b",
   "metadata": {},
   "source": [
    "## Derive Occupation and DOB Data"
   ]
  },
  {
   "cell_type": "code",
   "execution_count": 56,
   "id": "3427143f",
   "metadata": {},
   "outputs": [],
   "source": [
    "OCCUPATION_PID = \"P106\"\n",
    "DATA_OF_BIRTH_PID = \"P569\"\n",
    "\n",
    "CHESS_PLAYER_QID = \"Q10873124\""
   ]
  },
  {
   "cell_type": "code",
   "execution_count": 21,
   "id": "36fb661b",
   "metadata": {},
   "outputs": [
    {
     "data": {
      "text/plain": [
       "['Q10873124']"
      ]
     },
     "execution_count": 21,
     "metadata": {},
     "output_type": "execute_result"
    }
   ],
   "source": [
    "test_occupations = [\n",
    "    r[\"value\"][\"content\"]\n",
    "    for r in rest_api_get_request(wd_qid=\"Q77168\", term=\"statements\")[OCCUPATION_PID]\n",
    "]\n",
    "test_occupations"
   ]
  },
  {
   "cell_type": "code",
   "execution_count": 26,
   "id": "6d18f596",
   "metadata": {},
   "outputs": [
    {
     "data": {
      "text/plain": [
       "[1971, 1979]"
      ]
     },
     "execution_count": 26,
     "metadata": {},
     "output_type": "execute_result"
    }
   ],
   "source": [
    "test_dobs = [\n",
    "    int(r[\"value\"][\"content\"][\"time\"].replace(\"+\", \"\").split(\"-\")[0])\n",
    "    for r in rest_api_get_request(wd_qid=\"Q77168\", term=\"statements\")[DATA_OF_BIRTH_PID]\n",
    "]\n",
    "test_dobs"
   ]
  },
  {
   "cell_type": "code",
   "execution_count": 32,
   "id": "55830ed9",
   "metadata": {},
   "outputs": [
    {
     "data": {
      "application/vnd.jupyter.widget-view+json": {
       "model_id": "c491a6d60f0b46e9a01edfbac71c1b7d",
       "version_major": 2,
       "version_minor": 0
      },
      "text/plain": [
       "QIDs:   0%|          | 0/120 [00:00<?, ?qids/s]"
      ]
     },
     "metadata": {},
     "output_type": "display_data"
    }
   ],
   "source": [
    "qid_to_occupation_dob_dict = {}\n",
    "\n",
    "for qid in tqdm(df_fide_mismatches[\"item_id\"], desc=\"QIDs\", unit=\"qids\"):\n",
    "    qid_statements = rest_api_get_request(wd_qid=qid, term=\"statements\")\n",
    "\n",
    "    if OCCUPATION_PID in qid_statements:\n",
    "        qid_occupation = [r[\"value\"][\"content\"] for r in qid_statements[OCCUPATION_PID]]\n",
    "\n",
    "    qid_years_of_birth = [\n",
    "        int(r[\"value\"][\"content\"][\"time\"].replace(\"+\", \"\").split(\"-\")[0])\n",
    "        for r in qid_statements[DATA_OF_BIRTH_PID]\n",
    "    ]\n",
    "\n",
    "    qid_to_occupation_dob_dict[qid] = {}\n",
    "\n",
    "    if OCCUPATION_PID in qid_statements:\n",
    "        qid_to_occupation_dob_dict[qid][\"occupations\"] = qid_occupation\n",
    "    qid_to_occupation_dob_dict[qid][\"years_of_birth\"] = qid_years_of_birth"
   ]
  },
  {
   "cell_type": "code",
   "execution_count": 35,
   "id": "44123267",
   "metadata": {},
   "outputs": [
    {
     "data": {
      "text/plain": [
       "118"
      ]
     },
     "execution_count": 35,
     "metadata": {},
     "output_type": "execute_result"
    }
   ],
   "source": [
    "len(qid_to_occupation_dob_dict)"
   ]
  },
  {
   "cell_type": "markdown",
   "id": "7b2b0134",
   "metadata": {},
   "source": [
    "## Find QIDs to Upload"
   ]
  },
  {
   "cell_type": "code",
   "execution_count": 34,
   "id": "5cf2caeb",
   "metadata": {},
   "outputs": [
    {
     "data": {
      "text/plain": [
       "{'occupations': ['Q10873124'], 'years_of_birth': [1971, 1979]}"
      ]
     },
     "execution_count": 34,
     "metadata": {},
     "output_type": "execute_result"
    }
   ],
   "source": [
    "first_dict_value = next(iter(qid_to_occupation_dob_dict.values()))\n",
    "first_dict_value"
   ]
  },
  {
   "cell_type": "code",
   "execution_count": 44,
   "id": "54cfe866",
   "metadata": {},
   "outputs": [
    {
     "data": {
      "text/plain": [
       "{'occupations': ['Q10873124'], 'years_of_birth': [1971, 1979]}"
      ]
     },
     "execution_count": 44,
     "metadata": {},
     "output_type": "execute_result"
    }
   ],
   "source": [
    "qid_to_occupation_dob_dict[\"Q77168\"]"
   ]
  },
  {
   "cell_type": "code",
   "execution_count": 65,
   "id": "658151c6",
   "metadata": {},
   "outputs": [],
   "source": [
    "qids_to_keep = []\n",
    "\n",
    "for i in df_fide_mismatches.index:\n",
    "    if (\n",
    "        \"occupations\"\n",
    "        in qid_to_occupation_dob_dict[df_fide_mismatches.loc[i, \"item_id\"]]\n",
    "    ):\n",
    "        occupations = qid_to_occupation_dob_dict[df_fide_mismatches.loc[i, \"item_id\"]][\n",
    "            \"occupations\"\n",
    "        ]\n",
    "\n",
    "    years_of_birth = qid_to_occupation_dob_dict[df_fide_mismatches.loc[i, \"item_id\"]][\n",
    "        \"years_of_birth\"\n",
    "    ]\n",
    "\n",
    "    # Keep based on occupation if there's more than one or only one and it's not chess player.\n",
    "    if (\n",
    "        \"occupations\"\n",
    "        in qid_to_occupation_dob_dict[df_fide_mismatches.loc[i, \"item_id\"]]\n",
    "    ):\n",
    "        if len(occupations) > 1 or (\n",
    "            len(occupations) == 1 and occupations[0] != CHESS_PLAYER_QID\n",
    "        ):\n",
    "            qids_to_keep.append(df_fide_mismatches.loc[i, \"item_id\"])\n",
    "\n",
    "    # Keep based on year of birth if the value on FIDE doesn't match one of the Wikidata years.\n",
    "    if df_fide_mismatches.loc[i, \"external_value\"] not in years_of_birth:\n",
    "        qids_to_keep.append(df_fide_mismatches.loc[i, \"item_id\"])\n",
    "\n",
    "qids_to_keep = list(set(qids_to_keep))"
   ]
  },
  {
   "cell_type": "code",
   "execution_count": 66,
   "id": "ebc46882",
   "metadata": {},
   "outputs": [
    {
     "data": {
      "text/plain": [
       "68"
      ]
     },
     "execution_count": 66,
     "metadata": {},
     "output_type": "execute_result"
    }
   ],
   "source": [
    "len(qids_to_keep)"
   ]
  },
  {
   "cell_type": "code",
   "execution_count": 67,
   "id": "2ab85490",
   "metadata": {},
   "outputs": [
    {
     "data": {
      "text/plain": [
       "['Q1657668', 'Q20561970', 'Q4363644', 'Q71312184', 'Q16541128']"
      ]
     },
     "execution_count": 67,
     "metadata": {},
     "output_type": "execute_result"
    }
   ],
   "source": [
    "qids_to_keep[:5]"
   ]
  },
  {
   "cell_type": "code",
   "execution_count": 68,
   "id": "2e174c2e",
   "metadata": {},
   "outputs": [
    {
     "data": {
      "text/html": [
       "<div>\n",
       "<style scoped>\n",
       "    .dataframe tbody tr th:only-of-type {\n",
       "        vertical-align: middle;\n",
       "    }\n",
       "\n",
       "    .dataframe tbody tr th {\n",
       "        vertical-align: top;\n",
       "    }\n",
       "\n",
       "    .dataframe thead th {\n",
       "        text-align: right;\n",
       "    }\n",
       "</style>\n",
       "<table border=\"1\" class=\"dataframe\">\n",
       "  <thead>\n",
       "    <tr style=\"text-align: right;\">\n",
       "      <th></th>\n",
       "      <th>item_id</th>\n",
       "      <th>statement_guid</th>\n",
       "      <th>property_id</th>\n",
       "      <th>wikidata_value</th>\n",
       "      <th>meta_wikidata_value</th>\n",
       "      <th>external_value</th>\n",
       "      <th>external_url</th>\n",
       "      <th>type</th>\n",
       "    </tr>\n",
       "  </thead>\n",
       "  <tbody>\n",
       "    <tr>\n",
       "      <th>17</th>\n",
       "      <td>Q1657668</td>\n",
       "      <td>Q1657668-EB12A11F-E30B-43E3-BE5A-45DA9E5A2258</td>\n",
       "      <td>P569</td>\n",
       "      <td>1938-05-27T00:00:00Z</td>\n",
       "      <td>Q1985727</td>\n",
       "      <td>1937</td>\n",
       "      <td>https://ratings.fide.com/profile/4103017</td>\n",
       "      <td>statement</td>\n",
       "    </tr>\n",
       "    <tr>\n",
       "      <th>20</th>\n",
       "      <td>Q4363644</td>\n",
       "      <td>Q4363644-B40B42BD-F8C4-4491-BA18-7EAE26260F9B</td>\n",
       "      <td>P569</td>\n",
       "      <td>1961-10-12T00:00:00Z</td>\n",
       "      <td>Q1985727</td>\n",
       "      <td>1964</td>\n",
       "      <td>https://ratings.fide.com/profile/4101731</td>\n",
       "      <td>statement</td>\n",
       "    </tr>\n",
       "    <tr>\n",
       "      <th>24</th>\n",
       "      <td>Q16541128</td>\n",
       "      <td>Q16541128-BFB14768-AC95-4FD9-881B-71914837D05C</td>\n",
       "      <td>P569</td>\n",
       "      <td>1952-04-06T00:00:00Z</td>\n",
       "      <td>Q1985727</td>\n",
       "      <td>1953</td>\n",
       "      <td>https://ratings.fide.com/profile/408786</td>\n",
       "      <td>statement</td>\n",
       "    </tr>\n",
       "    <tr>\n",
       "      <th>34</th>\n",
       "      <td>Q20561970</td>\n",
       "      <td>Q20561970-4d549c05-45d5-f4de-c9ce-077fd2a6087b</td>\n",
       "      <td>P569</td>\n",
       "      <td>1946-01-01T00:00:00Z</td>\n",
       "      <td>Q1985727</td>\n",
       "      <td>1948</td>\n",
       "      <td>https://ratings.fide.com/profile/233862</td>\n",
       "      <td>statement</td>\n",
       "    </tr>\n",
       "    <tr>\n",
       "      <th>97</th>\n",
       "      <td>Q71312184</td>\n",
       "      <td>Q71312184-CEF657AC-9558-4849-8440-90A63E993F3A</td>\n",
       "      <td>P569</td>\n",
       "      <td>1980-01-01T00:00:00Z</td>\n",
       "      <td>Q1985727</td>\n",
       "      <td>1987</td>\n",
       "      <td>https://ratings.fide.com/profile/2271192</td>\n",
       "      <td>statement</td>\n",
       "    </tr>\n",
       "  </tbody>\n",
       "</table>\n",
       "</div>"
      ],
      "text/plain": [
       "      item_id                                  statement_guid property_id  \\\n",
       "17   Q1657668   Q1657668-EB12A11F-E30B-43E3-BE5A-45DA9E5A2258        P569   \n",
       "20   Q4363644   Q4363644-B40B42BD-F8C4-4491-BA18-7EAE26260F9B        P569   \n",
       "24  Q16541128  Q16541128-BFB14768-AC95-4FD9-881B-71914837D05C        P569   \n",
       "34  Q20561970  Q20561970-4d549c05-45d5-f4de-c9ce-077fd2a6087b        P569   \n",
       "97  Q71312184  Q71312184-CEF657AC-9558-4849-8440-90A63E993F3A        P569   \n",
       "\n",
       "          wikidata_value meta_wikidata_value  external_value  \\\n",
       "17  1938-05-27T00:00:00Z            Q1985727            1937   \n",
       "20  1961-10-12T00:00:00Z            Q1985727            1964   \n",
       "24  1952-04-06T00:00:00Z            Q1985727            1953   \n",
       "34  1946-01-01T00:00:00Z            Q1985727            1948   \n",
       "97  1980-01-01T00:00:00Z            Q1985727            1987   \n",
       "\n",
       "                                external_url       type  \n",
       "17  https://ratings.fide.com/profile/4103017  statement  \n",
       "20  https://ratings.fide.com/profile/4101731  statement  \n",
       "24   https://ratings.fide.com/profile/408786  statement  \n",
       "34   https://ratings.fide.com/profile/233862  statement  \n",
       "97  https://ratings.fide.com/profile/2271192  statement  "
      ]
     },
     "execution_count": 68,
     "metadata": {},
     "output_type": "execute_result"
    }
   ],
   "source": [
    "df_fide_mismatches[df_fide_mismatches[\"item_id\"].isin(qids_to_keep[:5])]"
   ]
  },
  {
   "cell_type": "code",
   "execution_count": 71,
   "id": "c741a708",
   "metadata": {},
   "outputs": [],
   "source": [
    "df_fide_mismatches_to_upload = df_fide_mismatches[\n",
    "    df_fide_mismatches[\"item_id\"].isin(qids_to_keep)\n",
    "]"
   ]
  },
  {
   "cell_type": "code",
   "execution_count": 74,
   "id": "c00937aa",
   "metadata": {},
   "outputs": [],
   "source": [
    "df_fide_mismatches_to_upload.to_csv(\n",
    "    \"validated_players_data_upload.csv\", encoding=\"utf-8\", index=False\n",
    ")"
   ]
  },
  {
   "cell_type": "markdown",
   "id": "046d130a",
   "metadata": {},
   "source": [
    "## Fixing GUID Values"
   ]
  },
  {
   "cell_type": "code",
   "execution_count": 3,
   "id": "61b28327",
   "metadata": {},
   "outputs": [],
   "source": [
    "df_fide_mismatches_to_upload = pd.read_csv(\n",
    "    \"validated_players_data_upload.csv\"\n",
    ")"
   ]
  },
  {
   "cell_type": "code",
   "execution_count": 5,
   "id": "039525af",
   "metadata": {},
   "outputs": [],
   "source": [
    "df_fide_mismatches_to_upload[\"statement_guid\"] = df_fide_mismatches_to_upload[\n",
    "    \"statement_guid\"\n",
    "].str.replace(\"-\", \"$\", 1)"
   ]
  },
  {
   "cell_type": "code",
   "execution_count": 7,
   "id": "2ea3e7ed",
   "metadata": {},
   "outputs": [],
   "source": [
    "df_fide_mismatches_to_upload.to_csv(\n",
    "    \"validated_players_data_upload.csv\", encoding=\"utf-8\", index=False\n",
    ")"
   ]
  },
  {
   "cell_type": "code",
   "execution_count": null,
   "id": "f467c261",
   "metadata": {},
   "outputs": [],
   "source": []
  }
 ],
 "metadata": {
  "kernelspec": {
   "display_name": "Python 3 (ipykernel)",
   "language": "python",
   "name": "python3"
  },
  "language_info": {
   "codemirror_mode": {
    "name": "ipython",
    "version": 3
   },
   "file_extension": ".py",
   "mimetype": "text/x-python",
   "name": "python",
   "nbconvert_exporter": "python",
   "pygments_lexer": "ipython3",
   "version": "3.11.4"
  }
 },
 "nbformat": 4,
 "nbformat_minor": 5
}
