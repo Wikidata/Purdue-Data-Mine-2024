{
 "cells": [
  {
   "cell_type": "code",
   "execution_count": 1,
   "id": "8a4ab738-9dc4-4f3e-9dfa-531e5ddab8fd",
   "metadata": {},
   "outputs": [],
   "source": [
    "import json\n",
    "import sys\n",
    "import xml.etree.ElementTree as ET\n",
    "\n",
    "import pandas as pd\n",
    "from tqdm import tqdm\n",
    "\n",
    "PATH_TO_UTILS = \"../../\"\n",
    "sys.path.append(PATH_TO_UTILS)\n",
    "\n",
    "from utils import check_mf_formatting"
   ]
  },
  {
   "cell_type": "code",
   "execution_count": 5,
   "id": "c1da119e-f7e2-4883-9470-29d60b3e4971",
   "metadata": {},
   "outputs": [],
   "source": [
    "f = open(\"wikidata_data_dobs.json\", \"r\")\n",
    "wikidata_players_list = json.load(f)\n",
    "f.close()"
   ]
  },
  {
   "cell_type": "code",
   "execution_count": 6,
   "id": "fef60338-f419-44db-953f-b537ff3e135d",
   "metadata": {},
   "outputs": [
    {
     "data": {
      "text/plain": [
       "{'item': 'http://www.wikidata.org/entity/Q66850',\n",
       " 'itemLabel': 'David Baramidze',\n",
       " 'fideID': '4667719',\n",
       " 'dateOfBirth': '1988-09-27T00:00:00Z',\n",
       " 'dobStatementGUID': 'q66850-0808D72D-7D0F-4F17-814F-F4D77C633ACE'}"
      ]
     },
     "execution_count": 6,
     "metadata": {},
     "output_type": "execute_result"
    }
   ],
   "source": [
    "wikidata_players_list[0]"
   ]
  },
  {
   "cell_type": "code",
   "execution_count": 7,
   "id": "4ef5dc8a-ff51-4fc1-8100-96aa0194a61a",
   "metadata": {},
   "outputs": [
    {
     "name": "stderr",
     "output_type": "stream",
     "text": [
      "                                                           \r"
     ]
    }
   ],
   "source": [
    "def xml_to_dict(xml_file):\n",
    "    # Initialize an empty dictionary to store player data.\n",
    "    players_data = {}\n",
    "\n",
    "    # Initialize variables to keep track of current player attributes.\n",
    "    current_player = {}\n",
    "\n",
    "    # Parse the XML file incrementally with iterparse.\n",
    "    context = ET.iterparse(xml_file, events=(\"start\", \"end\"))\n",
    "\n",
    "    # Wrap the context with tqdm to create a progress bar.\n",
    "    context = tqdm(context, desc=\"Parsing XML\", unit=\"elements\", leave=False)\n",
    "\n",
    "    for event, elem in context:\n",
    "        if event == \"start\" and elem.tag == \"player\":\n",
    "            # Start of a player element, reset current_player dictionary.\n",
    "            current_player = {}\n",
    "\n",
    "        elif event == \"end\" and elem.tag == \"player\":\n",
    "            # End of a player element, add current_player to players_data dictionary.\n",
    "            player_id = current_player.get(\"fideid\")\n",
    "            if player_id:\n",
    "                players_data[player_id] = current_player\n",
    "\n",
    "        elif event == \"end\":\n",
    "            # Process the end of an XML element inside a player element.\n",
    "            current_player[elem.tag] = (\n",
    "                elem.text.strip() if elem.text is not None else None\n",
    "            )\n",
    "            elem.clear()\n",
    "\n",
    "    # Close the XML file.\n",
    "    del context\n",
    "\n",
    "    return players_data\n",
    "\n",
    "\n",
    "xml_file = \"players_list_xml_foa.xml\"\n",
    "fide_dict = xml_to_dict(xml_file)"
   ]
  },
  {
   "cell_type": "code",
   "execution_count": 8,
   "id": "3fa98ce6-9553-4331-99be-d7cec3bdc777",
   "metadata": {},
   "outputs": [
    {
     "data": {
      "text/plain": [
       "1390912"
      ]
     },
     "execution_count": 8,
     "metadata": {},
     "output_type": "execute_result"
    }
   ],
   "source": [
    "len(fide_dict)"
   ]
  },
  {
   "cell_type": "code",
   "execution_count": 9,
   "id": "d8864a84-d7db-43cd-a5e1-8dafb1618d0d",
   "metadata": {},
   "outputs": [
    {
     "data": {
      "text/plain": [
       "{'fideid': '1503014',\n",
       " 'name': 'Carlsen, Magnus',\n",
       " 'country': 'NOR',\n",
       " 'sex': 'M',\n",
       " 'title': 'GM',\n",
       " 'w_title': None,\n",
       " 'o_title': None,\n",
       " 'foa_title': None,\n",
       " 'rating': '2830',\n",
       " 'games': '0',\n",
       " 'k': '10',\n",
       " 'rapid_rating': '2823',\n",
       " 'rapid_games': '0',\n",
       " 'rapid_k': '10',\n",
       " 'blitz_rating': '2886',\n",
       " 'blitz_games': '0',\n",
       " 'blitz_k': '10',\n",
       " 'birthday': '1990',\n",
       " 'flag': None}"
      ]
     },
     "execution_count": 9,
     "metadata": {},
     "output_type": "execute_result"
    }
   ],
   "source": [
    "fide_dict[\"1503014\"]"
   ]
  },
  {
   "cell_type": "code",
   "execution_count": 10,
   "id": "f917172b-c676-4281-a7a2-e88baebed016",
   "metadata": {},
   "outputs": [
    {
     "data": {
      "text/plain": [
       "{'item': 'http://www.wikidata.org/entity/Q98881',\n",
       " 'itemLabel': 'Reinhart Fuchs',\n",
       " 'fideID': '4611357',\n",
       " 'dateOfBirth': '1934-09-28T00:00:00Z',\n",
       " 'dobStatementGUID': 'Q98881-540E8F90-B4F0-4222-AD2E-958E7394F8B7'}"
      ]
     },
     "execution_count": 10,
     "metadata": {},
     "output_type": "execute_result"
    }
   ],
   "source": [
    "wikidata_players_list[90]"
   ]
  },
  {
   "cell_type": "code",
   "execution_count": 11,
   "id": "afe4197f-664d-47f1-8f52-31019ad09cd2",
   "metadata": {},
   "outputs": [],
   "source": [
    "count = 0\n",
    "f = open(\"invalid_fide.txt\", \"w\")\n",
    "f1 = open(\"incomplete_data.txt\", \"w\")\n",
    "lst = []\n",
    "lst2 = []\n",
    "for e in wikidata_players_list:\n",
    "    try:\n",
    "        if e[\"dateOfBirth\"][:4] != fide_dict[e[\"fideID\"]][\"birthday\"]:\n",
    "\n",
    "            if fide_dict[e[\"fideID\"]][\"birthday\"] is None:\n",
    "                f1.write(\"Birthday not found on FIDE for FIDE id %s\\n\" % e[\"fideID\"])\n",
    "                f1.write(\"WIKIDATA: %s\\n\" % e[\"item\"])\n",
    "                continue\n",
    "            external_url = \"https://ratings.fide.com/profile/\" + e[\"fideID\"]\n",
    "            row = {\n",
    "                \"item_id\": e[\"item\"][31:],\n",
    "                \"property_id\": \"P569\",\n",
    "                \"statement_guid\": e[\"dobStatementGUID\"],\n",
    "                \"wikidata_value\": e[\"dateOfBirth\"],\n",
    "                \"meta_wikidata_value\": \"Q1985727\",\n",
    "                \"external_value\": fide_dict[e[\"fideID\"]][\"birthday\"],\n",
    "                \"external_url\": external_url,\n",
    "                \"type\": \"statement\",\n",
    "            }\n",
    "            # df = df.append(row, ignore_index = True).\n",
    "            lst.append(row)\n",
    "            count += 1\n",
    "\n",
    "    except KeyError as an_error:\n",
    "        if an_error.args[0] == e[\"fideID\"]:\n",
    "            f.write(\"FIDE id not found %s\\n\" % e[\"fideID\"])\n",
    "            f.write(\"WIKIDATA: %s\\n\" % e[\"item\"])\n",
    "\n",
    "f.close()\n",
    "f1.close()\n",
    "\n",
    "df = pd.DataFrame(\n",
    "    lst,\n",
    "    columns=[\n",
    "        \"item_id\",\n",
    "        \"statement_guid\",\n",
    "        \"property_id\",\n",
    "        \"wikidata_value\",\n",
    "        \"meta_wikidata_value\",\n",
    "        \"external_value\",\n",
    "        \"external_url\",\n",
    "        \"type\",\n",
    "    ],\n",
    ")"
   ]
  },
  {
   "cell_type": "code",
   "execution_count": 12,
   "id": "3e6a726e-8d74-4cbc-a345-05a294c292ae",
   "metadata": {},
   "outputs": [
    {
     "data": {
      "text/html": [
       "<div>\n",
       "<style scoped>\n",
       "    .dataframe tbody tr th:only-of-type {\n",
       "        vertical-align: middle;\n",
       "    }\n",
       "\n",
       "    .dataframe tbody tr th {\n",
       "        vertical-align: top;\n",
       "    }\n",
       "\n",
       "    .dataframe thead th {\n",
       "        text-align: right;\n",
       "    }\n",
       "</style>\n",
       "<table border=\"1\" class=\"dataframe\">\n",
       "  <thead>\n",
       "    <tr style=\"text-align: right;\">\n",
       "      <th></th>\n",
       "      <th>item_id</th>\n",
       "      <th>statement_guid</th>\n",
       "      <th>property_id</th>\n",
       "      <th>wikidata_value</th>\n",
       "      <th>meta_wikidata_value</th>\n",
       "      <th>external_value</th>\n",
       "      <th>external_url</th>\n",
       "      <th>type</th>\n",
       "    </tr>\n",
       "  </thead>\n",
       "  <tbody>\n",
       "    <tr>\n",
       "      <th>0</th>\n",
       "      <td>Q77168</td>\n",
       "      <td>Q77168-37C631A8-7BE2-414A-A806-585C1BEE1EFB</td>\n",
       "      <td>P569</td>\n",
       "      <td>1971-05-01T00:00:00Z</td>\n",
       "      <td>Q1985727</td>\n",
       "      <td>1979</td>\n",
       "      <td>https://ratings.fide.com/profile/1004816</td>\n",
       "      <td>statement</td>\n",
       "    </tr>\n",
       "    <tr>\n",
       "      <th>1</th>\n",
       "      <td>Q103301</td>\n",
       "      <td>Q103301-1342BD85-9F9B-4795-B4D3-D5E9BEFE1B23</td>\n",
       "      <td>P569</td>\n",
       "      <td>1943-04-17T00:00:00Z</td>\n",
       "      <td>Q1985727</td>\n",
       "      <td>1945</td>\n",
       "      <td>https://ratings.fide.com/profile/4600185</td>\n",
       "      <td>statement</td>\n",
       "    </tr>\n",
       "    <tr>\n",
       "      <th>2</th>\n",
       "      <td>Q278844</td>\n",
       "      <td>Q278844-13624996-30D9-43C7-80D7-98294FB512D3</td>\n",
       "      <td>P569</td>\n",
       "      <td>1949-08-24T00:00:00Z</td>\n",
       "      <td>Q1985727</td>\n",
       "      <td>1946</td>\n",
       "      <td>https://ratings.fide.com/profile/900095</td>\n",
       "      <td>statement</td>\n",
       "    </tr>\n",
       "    <tr>\n",
       "      <th>3</th>\n",
       "      <td>Q326562</td>\n",
       "      <td>Q326562-16F44782-9AD3-4774-8E60-97C8B6F84F7F</td>\n",
       "      <td>P569</td>\n",
       "      <td>1942-01-01T00:00:00Z</td>\n",
       "      <td>Q1985727</td>\n",
       "      <td>1943</td>\n",
       "      <td>https://ratings.fide.com/profile/800139</td>\n",
       "      <td>statement</td>\n",
       "    </tr>\n",
       "    <tr>\n",
       "      <th>4</th>\n",
       "      <td>Q446773</td>\n",
       "      <td>Q446773-34830D20-DCDE-45D6-B865-38E55604179B</td>\n",
       "      <td>P569</td>\n",
       "      <td>1976-12-05T00:00:00Z</td>\n",
       "      <td>Q1985727</td>\n",
       "      <td>2008</td>\n",
       "      <td>https://ratings.fide.com/profile/15201759</td>\n",
       "      <td>statement</td>\n",
       "    </tr>\n",
       "    <tr>\n",
       "      <th>...</th>\n",
       "      <td>...</td>\n",
       "      <td>...</td>\n",
       "      <td>...</td>\n",
       "      <td>...</td>\n",
       "      <td>...</td>\n",
       "      <td>...</td>\n",
       "      <td>...</td>\n",
       "      <td>...</td>\n",
       "    </tr>\n",
       "    <tr>\n",
       "      <th>115</th>\n",
       "      <td>Q101530051</td>\n",
       "      <td>Q101530051-1232CC02-8C2E-4C6E-9F30-C2F52A9C84C4</td>\n",
       "      <td>P569</td>\n",
       "      <td>1941-01-01T00:00:00Z</td>\n",
       "      <td>Q1985727</td>\n",
       "      <td>1942</td>\n",
       "      <td>https://ratings.fide.com/profile/34161322</td>\n",
       "      <td>statement</td>\n",
       "    </tr>\n",
       "    <tr>\n",
       "      <th>116</th>\n",
       "      <td>Q115464159</td>\n",
       "      <td>Q115464159-2e278e84-4b29-5a27-679a-c76a6686e465</td>\n",
       "      <td>P569</td>\n",
       "      <td>1982-12-04T00:00:00Z</td>\n",
       "      <td>Q1985727</td>\n",
       "      <td>1994</td>\n",
       "      <td>https://ratings.fide.com/profile/3926370</td>\n",
       "      <td>statement</td>\n",
       "    </tr>\n",
       "    <tr>\n",
       "      <th>117</th>\n",
       "      <td>Q117225388</td>\n",
       "      <td>Q117225388-444e7389-43ef-3610-43f8-9ec6d50b14b5</td>\n",
       "      <td>P569</td>\n",
       "      <td>2001-01-01T00:00:00Z</td>\n",
       "      <td>Q1985727</td>\n",
       "      <td>2000</td>\n",
       "      <td>https://ratings.fide.com/profile/21873763</td>\n",
       "      <td>statement</td>\n",
       "    </tr>\n",
       "    <tr>\n",
       "      <th>118</th>\n",
       "      <td>Q122417673</td>\n",
       "      <td>Q122417673-9F8C8499-4F19-4246-B297-D5B7EF5D55BB</td>\n",
       "      <td>P569</td>\n",
       "      <td>1997-03-28T00:00:00Z</td>\n",
       "      <td>Q1985727</td>\n",
       "      <td>2000</td>\n",
       "      <td>https://ratings.fide.com/profile/13509403</td>\n",
       "      <td>statement</td>\n",
       "    </tr>\n",
       "    <tr>\n",
       "      <th>119</th>\n",
       "      <td>Q109394737</td>\n",
       "      <td>Q109394737-A5CAF3FA-33EF-4C30-B485-BCBA445C1EDE</td>\n",
       "      <td>P569</td>\n",
       "      <td>1994-01-01T00:00:00Z</td>\n",
       "      <td>Q1985727</td>\n",
       "      <td>1993</td>\n",
       "      <td>https://ratings.fide.com/profile/6101801</td>\n",
       "      <td>statement</td>\n",
       "    </tr>\n",
       "  </tbody>\n",
       "</table>\n",
       "<p>120 rows × 8 columns</p>\n",
       "</div>"
      ],
      "text/plain": [
       "        item_id                                   statement_guid property_id  \\\n",
       "0        Q77168      Q77168-37C631A8-7BE2-414A-A806-585C1BEE1EFB        P569   \n",
       "1       Q103301     Q103301-1342BD85-9F9B-4795-B4D3-D5E9BEFE1B23        P569   \n",
       "2       Q278844     Q278844-13624996-30D9-43C7-80D7-98294FB512D3        P569   \n",
       "3       Q326562     Q326562-16F44782-9AD3-4774-8E60-97C8B6F84F7F        P569   \n",
       "4       Q446773     Q446773-34830D20-DCDE-45D6-B865-38E55604179B        P569   \n",
       "..          ...                                              ...         ...   \n",
       "115  Q101530051  Q101530051-1232CC02-8C2E-4C6E-9F30-C2F52A9C84C4        P569   \n",
       "116  Q115464159  Q115464159-2e278e84-4b29-5a27-679a-c76a6686e465        P569   \n",
       "117  Q117225388  Q117225388-444e7389-43ef-3610-43f8-9ec6d50b14b5        P569   \n",
       "118  Q122417673  Q122417673-9F8C8499-4F19-4246-B297-D5B7EF5D55BB        P569   \n",
       "119  Q109394737  Q109394737-A5CAF3FA-33EF-4C30-B485-BCBA445C1EDE        P569   \n",
       "\n",
       "           wikidata_value meta_wikidata_value external_value  \\\n",
       "0    1971-05-01T00:00:00Z            Q1985727           1979   \n",
       "1    1943-04-17T00:00:00Z            Q1985727           1945   \n",
       "2    1949-08-24T00:00:00Z            Q1985727           1946   \n",
       "3    1942-01-01T00:00:00Z            Q1985727           1943   \n",
       "4    1976-12-05T00:00:00Z            Q1985727           2008   \n",
       "..                    ...                 ...            ...   \n",
       "115  1941-01-01T00:00:00Z            Q1985727           1942   \n",
       "116  1982-12-04T00:00:00Z            Q1985727           1994   \n",
       "117  2001-01-01T00:00:00Z            Q1985727           2000   \n",
       "118  1997-03-28T00:00:00Z            Q1985727           2000   \n",
       "119  1994-01-01T00:00:00Z            Q1985727           1993   \n",
       "\n",
       "                                  external_url       type  \n",
       "0     https://ratings.fide.com/profile/1004816  statement  \n",
       "1     https://ratings.fide.com/profile/4600185  statement  \n",
       "2      https://ratings.fide.com/profile/900095  statement  \n",
       "3      https://ratings.fide.com/profile/800139  statement  \n",
       "4    https://ratings.fide.com/profile/15201759  statement  \n",
       "..                                         ...        ...  \n",
       "115  https://ratings.fide.com/profile/34161322  statement  \n",
       "116   https://ratings.fide.com/profile/3926370  statement  \n",
       "117  https://ratings.fide.com/profile/21873763  statement  \n",
       "118  https://ratings.fide.com/profile/13509403  statement  \n",
       "119   https://ratings.fide.com/profile/6101801  statement  \n",
       "\n",
       "[120 rows x 8 columns]"
      ]
     },
     "execution_count": 12,
     "metadata": {},
     "output_type": "execute_result"
    }
   ],
   "source": [
    "df"
   ]
  },
  {
   "cell_type": "code",
   "execution_count": 16,
   "id": "7680a9cc-d2f5-4f80-9f6a-ffe6f4cb142f",
   "metadata": {},
   "outputs": [
    {
     "name": "stdout",
     "output_type": "stream",
     "text": [
      "All checks have passed! The data is ready to be uploaded to Mismatch Finder.\n"
     ]
    }
   ],
   "source": [
    "check_mf_formatting(df)"
   ]
  },
  {
   "cell_type": "code",
   "execution_count": 17,
   "id": "02b95464-beb0-4c87-8d9b-4b465beb5ebc",
   "metadata": {},
   "outputs": [],
   "source": [
    "df.to_csv(\"validated_players_data.csv\", index=False)"
   ]
  },
  {
   "cell_type": "code",
   "execution_count": null,
   "id": "6c72c92b-0e96-4fa9-bdae-04fb05289d82",
   "metadata": {},
   "outputs": [],
   "source": []
  }
 ],
 "metadata": {
  "kernelspec": {
   "display_name": "Python 3 (ipykernel)",
   "language": "python",
   "name": "python3"
  },
  "language_info": {
   "codemirror_mode": {
    "name": "ipython",
    "version": 3
   },
   "file_extension": ".py",
   "mimetype": "text/x-python",
   "name": "python",
   "nbconvert_exporter": "python",
   "pygments_lexer": "ipython3",
   "version": "3.11.4"
  }
 },
 "nbformat": 4,
 "nbformat_minor": 5
}
