{
 "cells": [
  {
   "cell_type": "markdown",
   "id": "be02a957-7133-4d02-818e-fedeb3cecb05",
   "metadata": {},
   "source": [
    "# MusicBrainz 2nd Mismatches"
   ]
  },
  {
   "cell_type": "code",
   "execution_count": 1,
   "id": "5b15f94c-1d69-420b-8832-17b5506e43e7",
   "metadata": {},
   "outputs": [],
   "source": [
    "# All of the necessary imports needed\n",
    "import ast\n",
    "import json\n",
    "import sys\n",
    "import urllib\n",
    "import requests\n",
    "import csv\n",
    "import re\n",
    "import time\n",
    "\n",
    "import numpy as np\n",
    "import pandas as pd\n",
    "\n",
    "PATH_TO_UTILS = \".\"\n",
    "sys.path.append(PATH_TO_UTILS)\n",
    "\n",
    "from utils import check_mf_formatting\n",
    "from SPARQLWrapper import SPARQLWrapper, JSON\n",
    "from tqdm import tqdm"
   ]
  },
  {
   "cell_type": "code",
   "execution_count": 1,
   "id": "0e1c017d-9550-4774-91da-ac01203c1361",
   "metadata": {},
   "outputs": [],
   "source": [
    "# This function gets each individual column from the csv file\n",
    "def extract_data(file_path):\n",
    "    column1 = []\n",
    "    column2 = []\n",
    "    column3 = []\n",
    "    with open(file_path, newline='') as csvfile:\n",
    "        csvreader = csv.reader(csvfile)\n",
    "        next(csvreader)\n",
    "        for row in csvreader:\n",
    "            column1.append(row[0])\n",
    "            column2.append(row[1])\n",
    "            column3.append(row[2])\n",
    "    return column1, column2, column3\n",
    "    \n",
    "# This function accesses the Wikidata rest API\n",
    "def fetch_entity_data(entity_id):\n",
    "    url = f\"https://www.wikidata.org/wiki/Special:EntityData/{entity_id}.json\"\n",
    "    response = requests.get(url)\n",
    "    if response.status_code == 200:\n",
    "        return response.json()\n",
    "    else:\n",
    "        print(\"Error fetching data:\", response.status_code)\n",
    "        return None\n",
    "\n",
    "# This function access the MusicBrainz rest API\n",
    "def fetch_artist_data(artist_id):\n",
    "    url = f\"https://musicbrainz.org/ws/2/artist/{artist_id}?fmt=json\"\n",
    "    response = requests.get(url)\n",
    "    if response.status_code == 200:\n",
    "        return response.json()\n",
    "    else:\n",
    "        print(\"Error fetching data:\", response.status_code)\n",
    "        return None\n",
    "\n",
    "# This function gets all of the P569 values from the Wikidata rest API\n",
    "def extract_date_from_wikidata(entity_id):\n",
    "    wikidata_entity = fetch_entity_data(entity_id)\n",
    "    if wikidata_entity and \"entities\" in wikidata_entity and entity_id in wikidata_entity[\"entities\"]:\n",
    "        entity_info = wikidata_entity[\"entities\"][entity_id]\n",
    "        if \"claims\" in entity_info and \"P569\" in entity_info[\"claims\"]:\n",
    "            birth_dates = []\n",
    "            for claim in entity_info[\"claims\"][\"P569\"]:\n",
    "                if \"mainsnak\" in claim and \"datavalue\" in claim[\"mainsnak\"]:\n",
    "                    birth_date = claim[\"mainsnak\"][\"datavalue\"][\"value\"][\"time\"]\n",
    "                    year = birth_date[1:5]\n",
    "                    month = birth_date[6:8]\n",
    "                    day = birth_date[9:11]\n",
    "                    birth_dates.append(f\"{year}-{month}-{day}\")\n",
    "            return birth_dates\n",
    "    return None\n",
    "\n",
    "# This function returns the GUID for mismatches\n",
    "def get_guid_for_property(q_value, property_id):\n",
    "    url = f\"https://www.wikidata.org/wiki/Special:EntityData/{q_value}.json\"\n",
    "    response = requests.get(url)\n",
    "    if response.status_code == 200:\n",
    "        data = response.json()\n",
    "        if \"entities\" in data and q_value in data[\"entities\"]:\n",
    "            entity_data = data[\"entities\"][q_value]\n",
    "            if \"claims\" in entity_data and property_id in entity_data[\"claims\"]:\n",
    "                statement = entity_data[\"claims\"][property_id][0]\n",
    "                return statement[\"id\"]\n",
    "    return None"
   ]
  },
  {
   "cell_type": "code",
   "execution_count": 3,
   "id": "11c2e56f-c1da-4f12-8e9e-39ba45b41c7c",
   "metadata": {},
   "outputs": [
    {
     "name": "stderr",
     "output_type": "stream",
     "text": [
      "Processing:   2%|▏         | 106/5409 [01:31<1:12:34,  1.22it/s]"
     ]
    },
    {
     "name": "stdout",
     "output_type": "stream",
     "text": [
      "Error fetching data: 404\n"
     ]
    },
    {
     "name": "stderr",
     "output_type": "stream",
     "text": [
      "Processing:   9%|▉         | 494/5409 [07:01<1:14:28,  1.10it/s]"
     ]
    },
    {
     "name": "stdout",
     "output_type": "stream",
     "text": [
      "Error fetching data: 404\n"
     ]
    },
    {
     "name": "stderr",
     "output_type": "stream",
     "text": [
      "Processing:  24%|██▍       | 1314/5409 [19:29<56:09,  1.22it/s]  "
     ]
    },
    {
     "name": "stdout",
     "output_type": "stream",
     "text": [
      "Error fetching data: 404\n"
     ]
    },
    {
     "name": "stderr",
     "output_type": "stream",
     "text": [
      "Processing:  25%|██▌       | 1359/5409 [20:07<56:08,  1.20it/s]  "
     ]
    },
    {
     "name": "stdout",
     "output_type": "stream",
     "text": [
      "Error fetching data: 404\n"
     ]
    },
    {
     "name": "stderr",
     "output_type": "stream",
     "text": [
      "Processing:  58%|█████▊    | 3142/5409 [46:15<35:44,  1.06it/s]  "
     ]
    },
    {
     "name": "stdout",
     "output_type": "stream",
     "text": [
      "Error fetching data: 404\n"
     ]
    },
    {
     "name": "stderr",
     "output_type": "stream",
     "text": [
      "Processing:  60%|██████    | 3247/5409 [47:48<33:30,  1.08it/s]"
     ]
    },
    {
     "name": "stdout",
     "output_type": "stream",
     "text": [
      "Error fetching data: 404\n"
     ]
    },
    {
     "name": "stderr",
     "output_type": "stream",
     "text": [
      "Processing:  64%|██████▍   | 3460/5409 [50:52<27:07,  1.20it/s]"
     ]
    },
    {
     "name": "stdout",
     "output_type": "stream",
     "text": [
      "Error fetching data: 404\n"
     ]
    },
    {
     "name": "stderr",
     "output_type": "stream",
     "text": [
      "Processing:  72%|███████▏  | 3902/5409 [57:12<21:04,  1.19it/s]"
     ]
    },
    {
     "name": "stdout",
     "output_type": "stream",
     "text": [
      "Error fetching data: 404\n"
     ]
    },
    {
     "name": "stderr",
     "output_type": "stream",
     "text": [
      "Processing:  80%|████████  | 4332/5409 [1:03:23<16:53,  1.06it/s]"
     ]
    },
    {
     "name": "stdout",
     "output_type": "stream",
     "text": [
      "Error fetching data: 404\n"
     ]
    },
    {
     "name": "stderr",
     "output_type": "stream",
     "text": [
      "Processing:  80%|████████  | 4348/5409 [1:03:37<15:30,  1.14it/s]"
     ]
    },
    {
     "name": "stdout",
     "output_type": "stream",
     "text": [
      "Error fetching data: 404\n"
     ]
    },
    {
     "name": "stderr",
     "output_type": "stream",
     "text": [
      "Processing:  94%|█████████▍| 5109/5409 [1:14:37<05:10,  1.04s/it]"
     ]
    },
    {
     "name": "stdout",
     "output_type": "stream",
     "text": [
      "Error fetching data: 404\n"
     ]
    },
    {
     "name": "stderr",
     "output_type": "stream",
     "text": [
      "Processing: 100%|██████████| 5409/5409 [1:18:52<00:00,  1.14it/s]\n"
     ]
    }
   ],
   "source": [
    "mismatches = [] # Used to store all mismatches found\n",
    "q_values, artist_ids, wikidata_times = extract_data(\"mb_italy.csv\")\n",
    "for q_value, artist_id, wikidata_time in tqdm(zip(q_values, artist_ids, wikidata_times), desc=\"Processing\", total=5409):\n",
    "    musicbrainz_artist = fetch_artist_data(artist_id)\n",
    "    time.sleep(0.25) # Needed to meet the MB API limits\n",
    "    if musicbrainz_artist is None: # Skips over non-existent MB artists\n",
    "        continue\n",
    "    # Accounts for month, day, and year\n",
    "    if \"life-span\" in musicbrainz_artist and musicbrainz_artist[\"life-span\"][\"begin\"] is not None and len(musicbrainz_artist[\"life-span\"][\"begin\"]) >= 10:\n",
    "        musicbrainz_date = musicbrainz_artist[\"life-span\"][\"begin\"][:10]\n",
    "        wikidata_dates = extract_date_from_wikidata(q_value)\n",
    "        if wikidata_dates is None:\n",
    "            continue\n",
    "        match_found = False\n",
    "        for wikidata_date in wikidata_dates:\n",
    "            # Not a mismatch if one of the wikidata_dates matches the musicbrainz_date\n",
    "            if wikidata_date == musicbrainz_date:\n",
    "                match_found = True\n",
    "                break\n",
    "        # A mismatch if none of the wikidata_dates matches the musicbrainz_date\n",
    "        if not match_found:\n",
    "            link = \"https://musicbrainz.org/artist/\" + artist_id\n",
    "            mismatch_finder_entry = {\n",
    "                \"item_id\": q_value,\n",
    "                \"statement_guid\": get_guid_for_property(q_value, \"P569\"),\n",
    "                \"property_id\": \"P569\",\n",
    "                \"wikidata_value\": wikidata_time[:10],\n",
    "                \"meta_wikidata_value\": \"Q1985727\",\n",
    "                \"external_value\": musicbrainz_date,\n",
    "                \"external_url\": link,\n",
    "                \"type\": \"statement\"\n",
    "            }\n",
    "            mismatches.append(mismatch_finder_entry)\n",
    "    # Accounts for just year\n",
    "    elif \"life-span\" in musicbrainz_artist and musicbrainz_artist[\"life-span\"][\"begin\"] is not None:\n",
    "        musicbrainz_date = musicbrainz_artist[\"life-span\"][\"begin\"][:4]\n",
    "        wikidata_dates = extract_date_from_wikidata(q_value)\n",
    "        if wikidata_dates is None:\n",
    "            continue\n",
    "        match_found = False\n",
    "        for wikidata_date in wikidata_dates:\n",
    "            # Not a mismatch if one of the wikidata_dates matches the musicbrainz_date\n",
    "            if wikidata_date[:4] == musicbrainz_date:\n",
    "                match_found = True\n",
    "                break\n",
    "        # A mismatch if none of the wikidata_dates matches the musicbrainz_date\n",
    "        if not match_found:\n",
    "            link = \"https://musicbrainz.org/artist/\" + artist_id\n",
    "            mismatch_finder_entry = {\n",
    "                \"item_id\": q_value,\n",
    "                \"statement_guid\": get_guid_for_property(q_value, \"P569\"),\n",
    "                \"property_id\": \"P569\",\n",
    "                \"wikidata_value\": wikidata_time[:4],\n",
    "                \"meta_wikidata_value\": \"Q1985727\",\n",
    "                \"external_value\": musicbrainz_date,\n",
    "                \"external_url\": link,\n",
    "                \"type\": \"statement\"\n",
    "            }\n",
    "            mismatches.append(mismatch_finder_entry)\n",
    "    else:\n",
    "        continue\n",
    "\n",
    "# Code to write in the mismatches \n",
    "file_name = 'mb_italy_mm.csv'\n",
    "header = [\"item_id\", \"statement_guid\", \"property_id\", \"wikidata_value\", \"meta_wikidata_value\", \"external_value\", \"external_url\", \"type\"]\n",
    "with open(file_name, 'w', newline='') as csv_file:\n",
    "    writer = csv.DictWriter(csv_file, fieldnames=header)\n",
    "    writer.writeheader()\n",
    "    for row in mismatches:\n",
    "        writer.writerow(row)"
   ]
  },
  {
   "cell_type": "code",
   "execution_count": 4,
   "id": "808df55a-3fef-44fa-acea-1ac7de46dac2",
   "metadata": {},
   "outputs": [
    {
     "name": "stdout",
     "output_type": "stream",
     "text": [
      "All checks have passed! The data is ready to be uploaded to Mismatch Finder.\n"
     ]
    }
   ],
   "source": [
    "# Checks to see if the mismatch file is formatted correctly\n",
    "musicbrainz_first_mismatches = pd.read_csv(\"mb_italy_mm.csv\")\n",
    "check_mf_formatting(musicbrainz_first_mismatches)"
   ]
  }
 ],
 "metadata": {
  "kernelspec": {
   "display_name": "seminar",
   "language": "python",
   "name": "seminar"
  },
  "language_info": {
   "codemirror_mode": {
    "name": "ipython",
    "version": 3
   },
   "file_extension": ".py",
   "mimetype": "text/x-python",
   "name": "python",
   "nbconvert_exporter": "python",
   "pygments_lexer": "ipython3",
   "version": "3.11.5"
  }
 },
 "nbformat": 4,
 "nbformat_minor": 5
}
