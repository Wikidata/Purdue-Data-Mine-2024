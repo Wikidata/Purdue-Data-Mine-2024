{
 "cells": [
  {
   "cell_type": "markdown",
   "id": "d13ffb13-54e1-4bc7-b090-f80465b8edfb",
   "metadata": {},
   "source": [
    "# The Basics\n",
    "\n",
    "> Welcome!\n",
    "> \n",
    "> Please download this notebook and load it into your [PAWS instance](https://hub-paws.wmcloud.org/)\n",
    "\n",
    "This notebook provides an overview of the following topics:\n",
    "1. Using Jupyter\n",
    "2. Python\n",
    "3. Basic Python packages we'll be using"
   ]
  },
  {
   "cell_type": "markdown",
   "id": "39725f37-69bc-4f07-8b5f-e8f43ab0a1f8",
   "metadata": {},
   "source": [
    "## Jupyter"
   ]
  },
  {
   "cell_type": "markdown",
   "id": "c7fbcb8a-871c-4976-a837-e3d1ca5a4eb7",
   "metadata": {},
   "source": [
    "### Welcome!"
   ]
  },
  {
   "cell_type": "markdown",
   "id": "68c79999-acd4-4166-b640-0ee299273a24",
   "metadata": {},
   "source": [
    "Welcome to Jupyter! Let's jump right in :)\n",
    "\n",
    "To the left you have the menu that has from top to bottom:\n",
    "- File Browser\n",
    "- Running Terminals and Kernels\n",
    "- Table of Contents (for the current file)\n",
    "- Extension Manager (we won't use this)\n",
    "\n",
    "At the top you have various options, with the most important being **Kernel**. This is the menu for the process that the notebook is running - in our case Python 3. If something's taking too long and you think there's something wrong, select the kernel menu and then **Interrupt Kernel**. If you want to reset all the variables defined, then select **Restart Kernel** or one of the similar options.\n",
    "\n",
    "In the **File Browser** you can press the blue plus button to open the **Launcher** and create a new file. We'll mostly be making Python notebooks and Python files for this program. You can also right click in the **File Browser** to make a new file. Just remember to set the kernel to Python 3 if you make a notebook in this way :)\n",
    "\n",
    "For further notebook basics, please see the [Jupyter documentation](https://jupyter-notebook.readthedocs.io/en/stable/examples/Notebook/Notebook%20Basics.html)!"
   ]
  },
  {
   "cell_type": "markdown",
   "id": "af36cfb3-2686-47ad-b4c0-0099bfc21d43",
   "metadata": {},
   "source": [
    "### Cells"
   ]
  },
  {
   "cell_type": "markdown",
   "id": "e586f07f-2711-4bca-85cf-a0a4649b5161",
   "metadata": {},
   "source": [
    "There are two types of cells that we'll be primarily using. The first is [Markdown](https://www.markdownguide.org/) cells like this one to describe and organize your work.\n",
    "\n",
    "In markdown you can:\n",
    "- Make unordered lists with `-` and `*`\n",
    "  * Indent lists with two spaces\n",
    "- Make text **bold** with `**bold_text**`\n",
    "- Make text *italic* with `*italicized_text*`\n",
    "- ~Cross out text~ with `~crossed_out_text~`\n",
    "- Create headers with `# Header`, subheaders with `## Subheader`, etc\n",
    "  - We strongly suggest using headers and subheaders as you can then navigate between them in the **Table of Contents** in the left side menu\n",
    "  - Check the **Table of Contents** now to see how it's structured for this document!\n",
    " \n",
    "We can also:\n",
    "1. Make ordered lists\n",
    "2. [ ] Make check boxes with `- [ ]`, `* [ ]` or `1. [ ]`\n",
    "3. [x] Check the boxes off with `- [x]`, `* [x]` or `1. [x]`\n",
    " \n",
    "There's lots more you can do with Markdown in Jupyter, so we'd suggest checking the [Jupyter Markdown guide](https://jupyter-notebook.readthedocs.io/en/stable/examples/Notebook/Working%20With%20Markdown%20Cells.html)!"
   ]
  },
  {
   "cell_type": "code",
   "execution_count": 1,
   "id": "6a30d854-25e3-4f1b-b463-0fc9ed7306f7",
   "metadata": {},
   "outputs": [
    {
     "name": "stdout",
     "output_type": "stream",
     "text": [
      "Hello, Jupyter!\n"
     ]
    }
   ],
   "source": [
    "# The other type of cell is a code cell like this one!\n",
    "print(\"Hello, Jupyter!\")"
   ]
  },
  {
   "cell_type": "code",
   "execution_count": 2,
   "id": "9a10419b-0312-4956-90eb-4aca74b753b3",
   "metadata": {},
   "outputs": [
    {
     "data": {
      "text/plain": [
       "3"
      ]
     },
     "execution_count": 2,
     "metadata": {},
     "output_type": "execute_result"
    }
   ],
   "source": [
    "# In Jupyter, the results of the last cell operation are printed right beneath it.\n",
    "1 + 1  # we won't see 2\n",
    "1 + 2  # we will see 3"
   ]
  },
  {
   "cell_type": "code",
   "execution_count": 3,
   "id": "dcd907a1-a165-4dea-af51-5ab33bc19e24",
   "metadata": {},
   "outputs": [
    {
     "name": "stdout",
     "output_type": "stream",
     "text": [
      "2\n"
     ]
    },
    {
     "data": {
      "text/plain": [
       "3"
      ]
     },
     "execution_count": 3,
     "metadata": {},
     "output_type": "execute_result"
    }
   ],
   "source": [
    "# We can use print though to see outputs from lines that aren't the last ones.\n",
    "print(1 + 1)\n",
    "1 + 2"
   ]
  },
  {
   "cell_type": "code",
   "execution_count": 4,
   "id": "042568d9-eb6b-4254-9ed2-6bdf1ac18375",
   "metadata": {},
   "outputs": [],
   "source": [
    "# We can also save variables and use them in future cells.\n",
    "var = \"Saved for later!\""
   ]
  },
  {
   "cell_type": "code",
   "execution_count": 5,
   "id": "36f2255a-02a0-4755-b5ff-25043a09bd12",
   "metadata": {},
   "outputs": [
    {
     "name": "stdout",
     "output_type": "stream",
     "text": [
      "Saved for later!\n"
     ]
    }
   ],
   "source": [
    "print(var)"
   ]
  },
  {
   "cell_type": "markdown",
   "id": "3ae32d86-2241-4031-882c-8d13b0ac73c6",
   "metadata": {},
   "source": [
    "We can also use cells to install Python packages with [pip](https://github.com/pypa/pip) if it's the only text in a code cell. Note that you'll need to do this after each time that you reauthorize PAWS to access your MediaWiki credentials."
   ]
  },
  {
   "cell_type": "code",
   "execution_count": 6,
   "id": "11c802e0-e1a7-417d-b5e8-eb240174cc48",
   "metadata": {},
   "outputs": [
    {
     "name": "stdout",
     "output_type": "stream",
     "text": [
      "Requirement already satisfied: pandas in /srv/paws/lib/python3.10/site-packages (2.1.3)\n",
      "Requirement already satisfied: numpy<2,>=1.22.4 in /srv/paws/lib/python3.10/site-packages (from pandas) (1.26.2)\n",
      "Requirement already satisfied: python-dateutil>=2.8.2 in /srv/paws/lib/python3.10/site-packages (from pandas) (2.8.2)\n",
      "Requirement already satisfied: pytz>=2020.1 in /srv/paws/lib/python3.10/site-packages (from pandas) (2023.3.post1)\n",
      "Requirement already satisfied: tzdata>=2022.1 in /srv/paws/lib/python3.10/site-packages (from pandas) (2023.3)\n",
      "Requirement already satisfied: six>=1.5 in /srv/paws/lib/python3.10/site-packages (from python-dateutil>=2.8.2->pandas) (1.16.0)\n",
      "Note: you may need to restart the kernel to use updated packages.\n"
     ]
    }
   ],
   "source": [
    "pip install pandas"
   ]
  },
  {
   "cell_type": "markdown",
   "id": "6bb841ea-377f-423b-88bf-a9927ae809c3",
   "metadata": {},
   "source": [
    "PAWS is separated from critical Wikimedia infrastructure, so feel free to install any packages you need for the program :)"
   ]
  },
  {
   "cell_type": "markdown",
   "id": "0f94e262-ab5a-4865-b8c5-5ede60fd3c96",
   "metadata": {},
   "source": [
    "### Modes"
   ]
  },
  {
   "cell_type": "markdown",
   "id": "17eab2ee-30a4-4b1e-b9c8-1a34ec7b5c09",
   "metadata": {},
   "source": [
    "In Jupyter there are two modes:\n",
    "1. Command Mode\n",
    "   - Create new cells\n",
    "   - Delete cells\n",
    "   - Move cells\n",
    "   - etc - see the [Jupyter documentation](https://jupyter-notebook.readthedocs.io/en/stable/examples/Notebook/Notebook%20Basics.html)\n",
    "2. Edit Mode\n",
    "   - Write markdown\n",
    "   - Write code\n",
    "  \n",
    "We get into Command Mode by pressing **Escape**, and Edit Mode by pressing **Enter**. \n",
    "\n",
    "If you're in **Command Mode**, pressing the down and up arrows will navigate between cells (you can also use `j` and `k`), `a` will make a new cell above, `b` will make a new cell below, `x` will delete a cell, `m` will change a cell into a Markdown, `y` will change a cell into code and `z` will undo the last operation.\n",
    "\n",
    "If you're in **Edit Mode** the keyboard functions the same as in any other text editor. Pressing `cmd/ctrl Enter` will run the cell and `shift Enter` will run the cell and make a new one underneath if it's not the last cell."
   ]
  },
  {
   "cell_type": "markdown",
   "id": "bb541465-5cd2-48d9-9145-b81c1ec86ba7",
   "metadata": {},
   "source": [
    "### Python Basics"
   ]
  },
  {
   "cell_type": "markdown",
   "id": "bda93be0-5b91-47e6-bd6e-dea3bc5bf123",
   "metadata": {},
   "source": [
    "We've already seen printing, addition and saving variables above. Please see [An Informal Introduction to Python](https://docs.python.org/3/tutorial/introduction.html) for a full overview. \n",
    "\n",
    "The following sections of the Python introduction would be particularly good to look at:\n",
    "- [More Control Flow Tools](https://docs.python.org/3/tutorial/controlflow.html) for information on `if-else` conditionals, `for`/`while` loops, and other operators\n",
    "- [Data Structures](https://docs.python.org/3/tutorial/datastructures.html) for lists, tuples, sets and dictionaries\n",
    "\n",
    "Some other things that are important follow :)"
   ]
  },
  {
   "cell_type": "markdown",
   "id": "de737600-1795-4a07-9440-6584e2c2c7d6",
   "metadata": {},
   "source": [
    "#### Did you know?"
   ]
  },
  {
   "cell_type": "markdown",
   "id": "16e5f12c-a857-444c-bb26-3ddf933bce55",
   "metadata": {},
   "source": [
    "The Python programming language was named after the British comedy series [Monty Python](https://en.wikipedia.org/wiki/Monty_Python)."
   ]
  },
  {
   "cell_type": "markdown",
   "id": "8b369243-75aa-46a5-bcee-59eff71d7b44",
   "metadata": {},
   "source": [
    "#### Easter Eggs"
   ]
  },
  {
   "cell_type": "code",
   "execution_count": 7,
   "id": "32b01b61-622d-45ea-96af-0868fc08966c",
   "metadata": {},
   "outputs": [
    {
     "name": "stdout",
     "output_type": "stream",
     "text": [
      "Hello world!\n"
     ]
    }
   ],
   "source": [
    "import __hello__"
   ]
  },
  {
   "cell_type": "code",
   "execution_count": 8,
   "id": "c9597587-54ac-4d87-b5d7-57cc693df6e3",
   "metadata": {},
   "outputs": [
    {
     "name": "stdout",
     "output_type": "stream",
     "text": [
      "The Zen of Python, by Tim Peters\n",
      "\n",
      "Beautiful is better than ugly.\n",
      "Explicit is better than implicit.\n",
      "Simple is better than complex.\n",
      "Complex is better than complicated.\n",
      "Flat is better than nested.\n",
      "Sparse is better than dense.\n",
      "Readability counts.\n",
      "Special cases aren't special enough to break the rules.\n",
      "Although practicality beats purity.\n",
      "Errors should never pass silently.\n",
      "Unless explicitly silenced.\n",
      "In the face of ambiguity, refuse the temptation to guess.\n",
      "There should be one-- and preferably only one --obvious way to do it.\n",
      "Although that way may not be obvious at first unless you're Dutch.\n",
      "Now is better than never.\n",
      "Although never is often better than *right* now.\n",
      "If the implementation is hard to explain, it's a bad idea.\n",
      "If the implementation is easy to explain, it may be a good idea.\n",
      "Namespaces are one honking great idea -- let's do more of those!\n"
     ]
    }
   ],
   "source": [
    "import this"
   ]
  },
  {
   "cell_type": "markdown",
   "id": "d441d468-9482-4372-8383-5388556991ce",
   "metadata": {},
   "source": [
    "`import antigravity` isn't working in the notebook for some reason, but this import takes you to the following [XKCD](https://en.wikipedia.org/wiki/Xkcd) comic:\n",
    "\n",
    "https://xkcd.com/353/"
   ]
  },
  {
   "cell_type": "markdown",
   "id": "8d8e7e65-edce-43a9-b805-e02a75ce71a9",
   "metadata": {},
   "source": [
    "#### Functions"
   ]
  },
  {
   "cell_type": "code",
   "execution_count": 9,
   "id": "5fe8a842-d46f-4bed-9fa8-1613d67b82b9",
   "metadata": {},
   "outputs": [],
   "source": [
    "# We can make functions with `def` and use them later.\n",
    "def my_function(message: str, number: int):\n",
    "    \"\"\"\n",
    "    An example of a doc (documentation) string for your functions so others understand your work.\n",
    "\n",
    "    Parameters\n",
    "    ----------\n",
    "        message: str\n",
    "            Text that will have the argument `number` at the end.\n",
    "\n",
    "        number: int\n",
    "            An integer that will follow the `message` argument.\n",
    "\n",
    "    Returns\n",
    "    -------\n",
    "        str\n",
    "            A message and a formatted number after it followed by an exclamation point.\n",
    "    \"\"\"\n",
    "    return f\"{message} {number:,}!\""
   ]
  },
  {
   "cell_type": "code",
   "execution_count": 10,
   "id": "2fb9c55d-dd98-4652-b6c4-46ce1e7af36e",
   "metadata": {},
   "outputs": [
    {
     "name": "stdout",
     "output_type": "stream",
     "text": [
      "We can use f-strings and `{NUMBER:,}` like in the function above to print numbers with commas like 1,000,000!\n"
     ]
    }
   ],
   "source": [
    "my_message = my_function(\n",
    "    message=\"We can use f-strings and `{NUMBER:,}` like in the function above to print numbers with commas like\",\n",
    "    number=1000000,\n",
    ")\n",
    "\n",
    "print(my_message)"
   ]
  },
  {
   "cell_type": "markdown",
   "id": "3cc4680e-0225-4953-898f-7b45ce86a169",
   "metadata": {},
   "source": [
    "#### Comments"
   ]
  },
  {
   "cell_type": "code",
   "execution_count": 11,
   "id": "90e339dd-4729-44da-8486-d76c7e515608",
   "metadata": {},
   "outputs": [
    {
     "data": {
      "text/plain": [
       "2"
      ]
     },
     "execution_count": 11,
     "metadata": {},
     "output_type": "execute_result"
    }
   ],
   "source": [
    "# If you're commenting your code and it's on its own line, please capitalize the first word and fully punctuate.\n",
    "1 + 1  # inline comments are neither capitalized nor punctuated"
   ]
  },
  {
   "cell_type": "markdown",
   "id": "3f9c528e-1dd9-4b3f-be81-eb6b42451072",
   "metadata": {},
   "source": [
    "#### Formatting"
   ]
  },
  {
   "cell_type": "markdown",
   "id": "85bdf690-a307-4ba9-b1ed-faa98dabc93b",
   "metadata": {},
   "source": [
    "It's a bit harder to properly format your Python code in notebooks as we can't use an auto-formatter on save like if we were using different coding environments. To make sure your code is readable though, please try to follow [black](https://github.com/psf/black) formatting and feel free to paste your code into [this code formatter](https://black.vercel.app)."
   ]
  },
  {
   "cell_type": "markdown",
   "id": "3cf99c7c-2cdc-4f94-818f-60099b230e5c",
   "metadata": {},
   "source": [
    "To make it easier you can also load in the [jupyter-black](https://github.com/n8henrie/jupyter-black) extension to your notebooks that will format all of your code cells when they're ran. \n",
    "\n",
    "First install with pip:"
   ]
  },
  {
   "cell_type": "code",
   "execution_count": 12,
   "id": "e4c554e8-82e5-4865-89c0-8ecdf2018282",
   "metadata": {},
   "outputs": [],
   "source": [
    "# pip install jupyter-black"
   ]
  },
  {
   "cell_type": "markdown",
   "id": "eaee4cb0-3f67-4795-8ba9-777ba7ba0e6d",
   "metadata": {},
   "source": [
    "Then load it in with magic syntax so it runs on each cell:"
   ]
  },
  {
   "cell_type": "code",
   "execution_count": 13,
   "id": "01b7434b-aec0-4296-97b9-ae12194e2e9b",
   "metadata": {},
   "outputs": [
    {
     "data": {
      "text/html": [
       "\n",
       "                <script type=\"application/javascript\" id=\"jupyter_black\">\n",
       "                (function() {\n",
       "                    if (window.IPython === undefined) {\n",
       "                        return\n",
       "                    }\n",
       "                    var msg = \"WARNING: it looks like you might have loaded \" +\n",
       "                        \"jupyter_black in a non-lab notebook with \" +\n",
       "                        \"`is_lab=True`. Please double check, and if \" +\n",
       "                        \"loading with `%load_ext` please review the README!\"\n",
       "                    console.log(msg)\n",
       "                    alert(msg)\n",
       "                })()\n",
       "                </script>\n",
       "                "
      ],
      "text/plain": [
       "<IPython.core.display.HTML object>"
      ]
     },
     "metadata": {},
     "output_type": "display_data"
    }
   ],
   "source": [
    "%load_ext jupyter_black"
   ]
  },
  {
   "cell_type": "markdown",
   "id": "acc965ee-aadc-4770-8a46-78700baea17a",
   "metadata": {},
   "source": [
    "Now when a cell is run your code will automatically be formatted!\n",
    "\n",
    "For example, paste and run the following list definition:\n",
    "\n",
    "```\n",
    "list_with_weird_formatting = [\n",
    "    1, 2, \n",
    "3, 4, \n",
    "    5, 6, \n",
    "7, 8, \n",
    "    9, 10\n",
    "]\n",
    "```"
   ]
  },
  {
   "cell_type": "code",
   "execution_count": 14,
   "id": "048760cc-3c64-42f2-90af-97450945b0ed",
   "metadata": {},
   "outputs": [],
   "source": [
    "# jupyter-black will format this!\n",
    "list_with_weird_formatting = [\n",
    "    1, 2,\n",
    "3, 4,\n",
    "    5, 6,\n",
    "7, 8,\n",
    "    9, 10\n",
    "]"
   ]
  },
  {
   "cell_type": "markdown",
   "id": "d691fe0f-6b4b-4a9d-b6ff-63f0ed632fca",
   "metadata": {},
   "source": [
    "Beyond basic formatting, we'd ask that your variables always be in `snake_case` (classes in `CamelCase`), double quotes be used over single quotes unless necessary and that your indentation be the default four spaces. `jupyter-black` will cover quotes and indentation for you!"
   ]
  },
  {
   "cell_type": "markdown",
   "id": "6e53adc3-4f5b-4f82-b634-31b0325a4221",
   "metadata": {},
   "source": [
    "#### Loading in .py Files"
   ]
  },
  {
   "cell_type": "markdown",
   "id": "d9f860f7-47fc-436c-a1b7-bc831bca57dd",
   "metadata": {},
   "source": [
    "It's best to write a Python `.py` file in cases where we have a very large function that will be used in multiple notebooks. The way we load in a Python file to a notebook is as follows."
   ]
  },
  {
   "cell_type": "code",
   "execution_count": 15,
   "id": "20d59308-ab3c-4196-9da2-d99e750b12b5",
   "metadata": {},
   "outputs": [
    {
     "name": "stdout",
     "output_type": "stream",
     "text": [
      "['1_the_basics.ipynb', '2_mismatch_finder.ipynb', '3_data_access.ipynb', '4_sparql_intro.ipynb', 'py_file.py']\n"
     ]
    }
   ],
   "source": [
    "import os\n",
    "\n",
    "print(sorted([f for f in os.listdir() if os.path.isfile(f)]))"
   ]
  },
  {
   "cell_type": "code",
   "execution_count": 16,
   "id": "5956c940-a013-4c61-87fd-304d23950523",
   "metadata": {},
   "outputs": [],
   "source": [
    "# We can use `sys` to append the path to the file if needed, but the file we want is in the root directory.\n",
    "# import sys\n",
    "# sys.path.append(\"../../\")  # path to Python file\n",
    "from py_file import hello_py_file"
   ]
  },
  {
   "cell_type": "code",
   "execution_count": 17,
   "id": "a61e0db0-4a41-4b1d-88e4-abfa077b1d15",
   "metadata": {},
   "outputs": [
    {
     "name": "stdout",
     "output_type": "stream",
     "text": [
      "Hello, Python file!\n"
     ]
    }
   ],
   "source": [
    "hello_py_file()"
   ]
  },
  {
   "cell_type": "markdown",
   "id": "8bfdee9b-e65e-4129-b86d-cb94cd40a6df",
   "metadata": {},
   "source": [
    "### Important Packages"
   ]
  },
  {
   "cell_type": "markdown",
   "id": "7de71365-f9a9-4ca4-b88f-ddaf4bb70f36",
   "metadata": {},
   "source": [
    "The following are the most popular packages for data analysis in Python:\n",
    "\n",
    "- [NumPy](https://github.com/numpy/numpy): multidimensional arrays and mathematical functions to operate on them\n",
    "- [Pandas](https://github.com/pandas-dev/pandas): data structures and operations for manipulating numerical tables\n",
    "- [Matplotlib](https://github.com/matplotlib/matplotlib): plotting library for Python\n",
    "- [Seaborn](https://github.com/mwaskom/seaborn): based on Matplotlib, data visualization that has nicer looking plots\n",
    "- [tqdm](https://github.com/tqdm/tqdm): progress bars for Python so you know how long things will take\n",
    "\n",
    "Let's import them!"
   ]
  },
  {
   "cell_type": "code",
   "execution_count": 18,
   "id": "c7af5262-9337-40e2-922d-a8e3a1705b3d",
   "metadata": {},
   "outputs": [],
   "source": [
    "import matplotlib.pyplot as plt\n",
    "import numpy as np\n",
    "import pandas as pd\n",
    "import seaborn as sns  # just importing Seaborn will change Matplotlib styles\n",
    "\n",
    "# tqdm.auto below checks if you're in a .py file or a notebook and imports the appropriate module.\n",
    "from tqdm.auto import (\n",
    "    tqdm,\n",
    ")"
   ]
  },
  {
   "cell_type": "markdown",
   "id": "3318825e-6fbf-4b2a-98cd-fef6a783c0a1",
   "metadata": {},
   "source": [
    "#### NumPy"
   ]
  },
  {
   "cell_type": "code",
   "execution_count": 19,
   "id": "64fd98b2-8e20-4ce7-ba9a-626c6c285144",
   "metadata": {},
   "outputs": [
    {
     "name": "stdout",
     "output_type": "stream",
     "text": [
      "[ 0  1  2  3  4  5  6  7  8  9 10 11]\n",
      "[[ 0  1  2  3]\n",
      " [ 4  5  6  7]\n",
      " [ 8  9 10 11]]\n"
     ]
    }
   ],
   "source": [
    "my_array = np.arange(12, dtype=np.int64)\n",
    "my_ndarray = my_array.reshape(3, 4)\n",
    "\n",
    "print(my_array)\n",
    "print(my_ndarray)"
   ]
  },
  {
   "cell_type": "code",
   "execution_count": 20,
   "id": "a8d5c77c-c6c4-457d-bb93-b8b71a46c6a6",
   "metadata": {},
   "outputs": [
    {
     "name": "stdout",
     "output_type": "stream",
     "text": [
      "[ 3  7 11]\n",
      "[ 8  9 10 11]\n"
     ]
    }
   ],
   "source": [
    "print(my_ndarray.max(axis=1))  # row-wise max\n",
    "print(my_ndarray.max(axis=0))  # col-wise max"
   ]
  },
  {
   "cell_type": "code",
   "execution_count": 21,
   "id": "b9cd8d5b-40a5-4d36-a4e8-0e869a2fdd4d",
   "metadata": {},
   "outputs": [
    {
     "data": {
      "text/plain": [
       "array([[4, 5, 6, 7]])"
      ]
     },
     "execution_count": 21,
     "metadata": {},
     "output_type": "execute_result"
    }
   ],
   "source": [
    "my_ndarray[1:2]  # my_ndarray[1:2,:]"
   ]
  },
  {
   "cell_type": "code",
   "execution_count": 22,
   "id": "03fd9aa1-d553-4612-a2bb-a38a67e21168",
   "metadata": {},
   "outputs": [
    {
     "data": {
      "text/plain": [
       "array([ 6, 10])"
      ]
     },
     "execution_count": 22,
     "metadata": {},
     "output_type": "execute_result"
    }
   ],
   "source": [
    "my_ndarray[1:, 2]"
   ]
  },
  {
   "cell_type": "code",
   "execution_count": 23,
   "id": "e453d37e-e538-4f27-b717-96c83369ed9a",
   "metadata": {},
   "outputs": [
    {
     "data": {
      "text/plain": [
       "array([[ 1,  2,  3],\n",
       "       [ 5, 25,  7],\n",
       "       [ 9, 25, 11]])"
      ]
     },
     "execution_count": 23,
     "metadata": {},
     "output_type": "execute_result"
    }
   ],
   "source": [
    "my_ndarray[1:, 2] = 25\n",
    "my_ndarray = my_ndarray[:, 1:]\n",
    "my_ndarray"
   ]
  },
  {
   "cell_type": "markdown",
   "id": "4e403958-852a-4a64-9a87-80b8fcc080b8",
   "metadata": {},
   "source": [
    "#### Pandas"
   ]
  },
  {
   "cell_type": "code",
   "execution_count": 24,
   "id": "1f6ac629-04d0-4441-9aa4-f8fcf98ca31b",
   "metadata": {},
   "outputs": [],
   "source": [
    "# Helpful output formatting lines:\n",
    "pd.set_option(\"display.max_rows\", 16)\n",
    "pd.set_option(\"display.max_columns\", None)"
   ]
  },
  {
   "cell_type": "code",
   "execution_count": 25,
   "id": "e7a33eba-3e3d-4c55-806a-1cd2459ac4b2",
   "metadata": {},
   "outputs": [
    {
     "data": {
      "text/html": [
       "<div>\n",
       "<style scoped>\n",
       "    .dataframe tbody tr th:only-of-type {\n",
       "        vertical-align: middle;\n",
       "    }\n",
       "\n",
       "    .dataframe tbody tr th {\n",
       "        vertical-align: top;\n",
       "    }\n",
       "\n",
       "    .dataframe thead th {\n",
       "        text-align: right;\n",
       "    }\n",
       "</style>\n",
       "<table border=\"1\" class=\"dataframe\">\n",
       "  <thead>\n",
       "    <tr style=\"text-align: right;\">\n",
       "      <th></th>\n",
       "      <th>user_id</th>\n",
       "      <th>page_views</th>\n",
       "      <th>page_edits</th>\n",
       "    </tr>\n",
       "  </thead>\n",
       "  <tbody>\n",
       "    <tr>\n",
       "      <th>0</th>\n",
       "      <td>1</td>\n",
       "      <td>2</td>\n",
       "      <td>3</td>\n",
       "    </tr>\n",
       "    <tr>\n",
       "      <th>1</th>\n",
       "      <td>5</td>\n",
       "      <td>25</td>\n",
       "      <td>7</td>\n",
       "    </tr>\n",
       "    <tr>\n",
       "      <th>2</th>\n",
       "      <td>9</td>\n",
       "      <td>25</td>\n",
       "      <td>11</td>\n",
       "    </tr>\n",
       "  </tbody>\n",
       "</table>\n",
       "</div>"
      ],
      "text/plain": [
       "   user_id  page_views  page_edits\n",
       "0        1           2           3\n",
       "1        5          25           7\n",
       "2        9          25          11"
      ]
     },
     "execution_count": 25,
     "metadata": {},
     "output_type": "execute_result"
    }
   ],
   "source": [
    "my_df = pd.DataFrame(my_ndarray, columns=[\"user_id\", \"page_views\", \"page_edits\"])\n",
    "my_df.head()"
   ]
  },
  {
   "cell_type": "code",
   "execution_count": 26,
   "id": "83b428dd-4b9c-4cb2-bc64-db3fa68da430",
   "metadata": {},
   "outputs": [
    {
     "data": {
      "text/html": [
       "<div>\n",
       "<style scoped>\n",
       "    .dataframe tbody tr th:only-of-type {\n",
       "        vertical-align: middle;\n",
       "    }\n",
       "\n",
       "    .dataframe tbody tr th {\n",
       "        vertical-align: top;\n",
       "    }\n",
       "\n",
       "    .dataframe thead th {\n",
       "        text-align: right;\n",
       "    }\n",
       "</style>\n",
       "<table border=\"1\" class=\"dataframe\">\n",
       "  <thead>\n",
       "    <tr style=\"text-align: right;\">\n",
       "      <th></th>\n",
       "      <th>user_id</th>\n",
       "      <th>page_views</th>\n",
       "      <th>page_edits</th>\n",
       "    </tr>\n",
       "  </thead>\n",
       "  <tbody>\n",
       "    <tr>\n",
       "      <th>1</th>\n",
       "      <td>5</td>\n",
       "      <td>25</td>\n",
       "      <td>7</td>\n",
       "    </tr>\n",
       "    <tr>\n",
       "      <th>2</th>\n",
       "      <td>9</td>\n",
       "      <td>25</td>\n",
       "      <td>11</td>\n",
       "    </tr>\n",
       "  </tbody>\n",
       "</table>\n",
       "</div>"
      ],
      "text/plain": [
       "   user_id  page_views  page_edits\n",
       "1        5          25           7\n",
       "2        9          25          11"
      ]
     },
     "execution_count": 26,
     "metadata": {},
     "output_type": "execute_result"
    }
   ],
   "source": [
    "my_df[my_df[\"page_edits\"] > 4]"
   ]
  },
  {
   "cell_type": "code",
   "execution_count": 27,
   "id": "dcc31a83-a87a-4048-ac79-7ce90c0b8bb6",
   "metadata": {},
   "outputs": [],
   "source": [
    "# User 9 viewed some more pages, but didn't edit.\n",
    "my_df.loc[my_df[\"page_edits\"] == 11, \"page_views\"] = 30"
   ]
  },
  {
   "cell_type": "code",
   "execution_count": 28,
   "id": "ec51d510-fd86-4b78-904a-40d2e6c10cbe",
   "metadata": {},
   "outputs": [
    {
     "data": {
      "text/html": [
       "<div>\n",
       "<style scoped>\n",
       "    .dataframe tbody tr th:only-of-type {\n",
       "        vertical-align: middle;\n",
       "    }\n",
       "\n",
       "    .dataframe tbody tr th {\n",
       "        vertical-align: top;\n",
       "    }\n",
       "\n",
       "    .dataframe thead th {\n",
       "        text-align: right;\n",
       "    }\n",
       "</style>\n",
       "<table border=\"1\" class=\"dataframe\">\n",
       "  <thead>\n",
       "    <tr style=\"text-align: right;\">\n",
       "      <th></th>\n",
       "      <th>user_id</th>\n",
       "      <th>page_views</th>\n",
       "      <th>page_edits</th>\n",
       "    </tr>\n",
       "  </thead>\n",
       "  <tbody>\n",
       "    <tr>\n",
       "      <th>0</th>\n",
       "      <td>1</td>\n",
       "      <td>2</td>\n",
       "      <td>3</td>\n",
       "    </tr>\n",
       "    <tr>\n",
       "      <th>1</th>\n",
       "      <td>5</td>\n",
       "      <td>25</td>\n",
       "      <td>7</td>\n",
       "    </tr>\n",
       "    <tr>\n",
       "      <th>2</th>\n",
       "      <td>9</td>\n",
       "      <td>30</td>\n",
       "      <td>11</td>\n",
       "    </tr>\n",
       "  </tbody>\n",
       "</table>\n",
       "</div>"
      ],
      "text/plain": [
       "   user_id  page_views  page_edits\n",
       "0        1           2           3\n",
       "1        5          25           7\n",
       "2        9          30          11"
      ]
     },
     "execution_count": 28,
     "metadata": {},
     "output_type": "execute_result"
    }
   ],
   "source": [
    "my_df"
   ]
  },
  {
   "cell_type": "code",
   "execution_count": 29,
   "id": "97ca86a3-a341-4acd-80cf-8bb281554a30",
   "metadata": {},
   "outputs": [
    {
     "data": {
      "text/html": [
       "<div>\n",
       "<style scoped>\n",
       "    .dataframe tbody tr th:only-of-type {\n",
       "        vertical-align: middle;\n",
       "    }\n",
       "\n",
       "    .dataframe tbody tr th {\n",
       "        vertical-align: top;\n",
       "    }\n",
       "\n",
       "    .dataframe thead th {\n",
       "        text-align: right;\n",
       "    }\n",
       "</style>\n",
       "<table border=\"1\" class=\"dataframe\">\n",
       "  <thead>\n",
       "    <tr style=\"text-align: right;\">\n",
       "      <th></th>\n",
       "      <th>user_id</th>\n",
       "      <th>page_views</th>\n",
       "      <th>page_edits</th>\n",
       "      <th>edits_per_page_view</th>\n",
       "    </tr>\n",
       "  </thead>\n",
       "  <tbody>\n",
       "    <tr>\n",
       "      <th>0</th>\n",
       "      <td>1</td>\n",
       "      <td>2</td>\n",
       "      <td>3</td>\n",
       "      <td>1.500000</td>\n",
       "    </tr>\n",
       "    <tr>\n",
       "      <th>1</th>\n",
       "      <td>5</td>\n",
       "      <td>25</td>\n",
       "      <td>7</td>\n",
       "      <td>0.280000</td>\n",
       "    </tr>\n",
       "    <tr>\n",
       "      <th>2</th>\n",
       "      <td>9</td>\n",
       "      <td>30</td>\n",
       "      <td>11</td>\n",
       "      <td>0.366667</td>\n",
       "    </tr>\n",
       "  </tbody>\n",
       "</table>\n",
       "</div>"
      ],
      "text/plain": [
       "   user_id  page_views  page_edits  edits_per_page_view\n",
       "0        1           2           3             1.500000\n",
       "1        5          25           7             0.280000\n",
       "2        9          30          11             0.366667"
      ]
     },
     "execution_count": 29,
     "metadata": {},
     "output_type": "execute_result"
    }
   ],
   "source": [
    "my_df[\"edits_per_page_view\"] = my_df[\"page_edits\"] / my_df[\"page_views\"]\n",
    "my_df"
   ]
  },
  {
   "cell_type": "markdown",
   "id": "363c00aa-4013-435b-a1a9-0b7b43d0cd76",
   "metadata": {},
   "source": [
    "#### Matplotlib"
   ]
  },
  {
   "cell_type": "code",
   "execution_count": 30,
   "id": "facc28f9-3931-4e76-a564-35e39072714e",
   "metadata": {},
   "outputs": [
    {
     "data": {
      "image/png": "[encoded data removed]",
      "text/plain": [
       "<Figure size 640x480 with 1 Axes>"
      ]
     },
     "metadata": {},
     "output_type": "display_data"
    }
   ],
   "source": [
    "plt.scatter(my_df[\"page_views\"], my_df[\"page_edits\"])\n",
    "plt.title(\"User Edits by Page View\", size=18)\n",
    "plt.xlabel(\"Page Views\", size=14)\n",
    "plt.ylabel(\"Edits\", size=14)\n",
    "plt.xlim(0, 35)\n",
    "plt.ylim(0, 15)\n",
    "plt.show()  # always include plt.show()"
   ]
  },
  {
   "cell_type": "markdown",
   "id": "daa4c3d6-bcb1-4312-849e-8b0c2e91767b",
   "metadata": {},
   "source": [
    "#### Seaborn"
   ]
  },
  {
   "cell_type": "code",
   "execution_count": 31,
   "id": "46858f27-5983-49d2-a54e-e9103ceb20c7",
   "metadata": {},
   "outputs": [],
   "source": [
    "# Helpful output formatting lines that will also be set for Matplotlib:\n",
    "sns.set(style=\"darkgrid\")\n",
    "sns.set(rc={\"figure.figsize\": (15, 5)})"
   ]
  },
  {
   "cell_type": "code",
   "execution_count": 32,
   "id": "6638efc4-e00f-4fcb-8c47-1c57c9382773",
   "metadata": {},
   "outputs": [
    {
     "data": {
      "image/png": "[encoded data removed]",
      "text/plain": [
       "<Figure size 1500x500 with 1 Axes>"
      ]
     },
     "metadata": {},
     "output_type": "display_data"
    }
   ],
   "source": [
    "ax = sns.regplot(x=my_df[\"page_views\"], y=my_df[\"page_edits\"])\n",
    "ax.set_title(\"User Edits by Page View\", size=18)\n",
    "ax.set(xlabel=\"Page Views\", ylabel=\"Edits\", xlim=(0, 35), ylim=(0, 15))\n",
    "ax.xaxis.label.set_size(14)\n",
    "ax.yaxis.label.set_size(14)\n",
    "plt.show()"
   ]
  },
  {
   "cell_type": "markdown",
   "id": "b57e2071-706b-46b6-b6f8-078fd71a9ac8",
   "metadata": {},
   "source": [
    "#### tqdm"
   ]
  },
  {
   "cell_type": "markdown",
   "id": "af45a1c3-9702-4d24-ad6f-ae6bb9d17492",
   "metadata": {},
   "source": [
    "Appreciation of open-source moment!\n",
    " \n",
    "> `tqdm` derives from the Arabic word taqaddum (تقدّم) which can mean \"progress,\" and is an abbreviation for \"I love you so much\" in Spanish (te quiero demasiado).\n",
    "> \n",
    "> Source: https://github.com/tqdm/tqdm\n",
    "\n",
    "The library is the foundation for progress bars in Python and is mostly maintained by one person."
   ]
  },
  {
   "cell_type": "markdown",
   "id": "b3344e32-e5b8-422c-81c1-9a8a17d3f173",
   "metadata": {},
   "source": [
    "Say that we don't just have three users, but millions of data items. We can use tqdm to make a nice progress bar so we can keep track of our run times, improve slow steps and know when it's time to take a break!"
   ]
  },
  {
   "cell_type": "code",
   "execution_count": 33,
   "id": "6d15d2ec-af46-4ea9-9779-4ebfaac76f11",
   "metadata": {},
   "outputs": [
    {
     "data": {
      "application/vnd.jupyter.widget-view+json": {
       "model_id": "ad1e8ee35f2b44f481bb1f38852cc124",
       "version_major": 2,
       "version_minor": 0
      },
      "text/plain": [
       "Iterations finished:   0%|          | 0/10000000 [00:00<?, ?steps/s]"
      ]
     },
     "metadata": {},
     "output_type": "display_data"
    },
    {
     "name": "stdout",
     "output_type": "stream",
     "text": [
      "We iterated 10,000,000 times!\n"
     ]
    }
   ],
   "source": [
    "iterator = 0\n",
    "for i in tqdm(range(10000000), desc=\"Iterations finished\", unit=\"steps\"):\n",
    "    iterator += 1\n",
    "\n",
    "print(f\"We iterated {iterator:,} times!\")"
   ]
  },
  {
   "cell_type": "code",
   "execution_count": null,
   "id": "067a1539-a103-4042-882f-41b6d27c4aaf",
   "metadata": {},
   "outputs": [],
   "source": []
  }
 ],
 "metadata": {
  "kernelspec": {
   "display_name": "Python 3 (ipykernel)",
   "language": "python",
   "name": "python3"
  },
  "language_info": {
   "codemirror_mode": {
    "name": "ipython",
    "version": 3
   },
   "file_extension": ".py",
   "mimetype": "text/x-python",
   "name": "python",
   "nbconvert_exporter": "python",
   "pygments_lexer": "ipython3",
   "version": "3.11.4"
  }
 },
 "nbformat": 4,
 "nbformat_minor": 5
}
