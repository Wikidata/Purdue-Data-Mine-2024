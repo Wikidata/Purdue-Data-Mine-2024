{
 "cells": [
  {
   "cell_type": "markdown",
   "id": "a8837121-1138-40c2-9275-e5e2774a1c61",
   "metadata": {},
   "source": [
    "# Mismatch Finder\n",
    "\n",
    "> Welcome!\n",
    "> \n",
    "> Please download this notebook and load it into your [PAWS instance](https://hub-paws.wmcloud.org/)\n",
    "\n",
    "This notebook provides an overview of [Mismatch Finder](https://www.wikidata.org/wiki/Wikidata:Mismatch_Finder) and how to prepare data for submission. Please also see the [Mismatch Finder User Guide on GitHub](https://github.com/wmde/wikidata-mismatch-finder/blob/main/docs/UserGuide.md) for more information."
   ]
  },
  {
   "cell_type": "code",
   "execution_count": 1,
   "id": "1b9f034e-aaa9-4cf6-b591-0fc5a407573d",
   "metadata": {},
   "outputs": [],
   "source": [
    "# pip install jupyter-black"
   ]
  },
  {
   "cell_type": "code",
   "execution_count": 2,
   "id": "2b962275-a99a-4f22-9c61-d21dbe44af5f",
   "metadata": {},
   "outputs": [
    {
     "data": {
      "text/html": [
       "\n",
       "                <script type=\"application/javascript\" id=\"jupyter_black\">\n",
       "                (function() {\n",
       "                    if (window.IPython === undefined) {\n",
       "                        return\n",
       "                    }\n",
       "                    var msg = \"WARNING: it looks like you might have loaded \" +\n",
       "                        \"jupyter_black in a non-lab notebook with \" +\n",
       "                        \"`is_lab=True`. Please double check, and if \" +\n",
       "                        \"loading with `%load_ext` please review the README!\"\n",
       "                    console.log(msg)\n",
       "                    alert(msg)\n",
       "                })()\n",
       "                </script>\n",
       "                "
      ],
      "text/plain": [
       "<IPython.core.display.HTML object>"
      ]
     },
     "metadata": {},
     "output_type": "display_data"
    }
   ],
   "source": [
    "%load_ext jupyter_black"
   ]
  },
  {
   "cell_type": "code",
   "execution_count": 3,
   "id": "df5ce63b-9a02-4a8b-a11e-a97add254d04",
   "metadata": {},
   "outputs": [],
   "source": [
    "import sys\n",
    "\n",
    "import numpy as np\n",
    "import pandas as pd\n",
    "\n",
    "PATH_TO_UTILS = \"../MismatchGeneration/\"  # change based on your directory structure\n",
    "sys.path.append(PATH_TO_UTILS)\n",
    "\n",
    "from utils import check_mf_formatting"
   ]
  },
  {
   "cell_type": "markdown",
   "id": "cca5a977-db3c-44b7-a6b6-a3cdd5f4658a",
   "metadata": {},
   "source": [
    "## Overview"
   ]
  },
  {
   "cell_type": "markdown",
   "id": "8a37d95f-a9f9-414f-9d94-a4f57d199ff6",
   "metadata": {},
   "source": [
    "The [Wikidata Mismatch Finder](https://www.wikidata.org/wiki/Wikidata:Mismatch_Finder) is a tool developed by Wikimedia Deutschland to derive discrepancies between Wikidata's data and that of external sources. The tool stores mismatching data between Wikidata and external databases, then presents it to editors to review and fix. It can also be used to suggest new statements that are missing in Wikidata but need a human-review step before adding them.\n",
    "\n",
    "The main purposes of Mismatch Finder include:\n",
    "- To support the Wikidata editors to spot and fix mistakes in Wikidata\n",
    "- To allow organizations reusing Wikidata’s data to conveniently contribute back by reporting discrepancies in their data\n",
    "\n",
    "Mismatches can be checked in multiple ways:\n",
    "- Going to the [Mismatch Finder website](https://mismatch-finder.toolforge.org/) and entering QIDs or checking random mismatches\n",
    "- Turn on the `Mismatch Finder` option in the [Gadgets section of your Wikidata user preferences](https://www.wikidata.org/wiki/Special:Preferences#mw-prefsection-gadgets)\n",
    "  - Mismatches will then appear as notifications at the top of pages in the Wikidata user interface\n",
    "\n",
    "To submit mismatched data to the Mismatch Store you would need to make an account, get an [access token for the Mismatch Finder](https://github.com/wmde/wikidata-mismatch-finder/blob/main/docs/UserGuide.md#obtaining-an-api-access-token) and send a CSV with the mismatches [via an open API](https://github.com/wmde/wikidata-mismatch-finder/blob/main/docs/UserGuide.md#accessing-the-api). At the start we will be submitting your generated mismatches for you, but we can discuss later if there's interest in you all being able to submit mismatches yourselves. You can also always open a ticket on the [Mismatch Finder project on Phabricator](https://phabricator.wikimedia.org/project/view/5385/) and include your mismatch file as an attachment.\n",
    "\n",
    "To make your eventual submissions to Mismatch Finder easier, we've prepared `check_mf_formatting` that goes through a passed Pandas DataFrame and makes sure that all columns are present and validates their values. This function is found in [utils.py](https://github.com/Wikidata/Purdue-Data-Mine-2024/tree/main/MismatchGeneration/utils.py) of the [MismatchGeneration](https://github.com/Wikidata/Purdue-Data-Mine-2024/tree/main/MismatchGeneration) directory on GitHub. You'll see all its checks later when we systematically break a DataFrame to show all the possible problems :)"
   ]
  },
  {
   "cell_type": "markdown",
   "id": "d6b27b0e-36cf-4125-85e9-af221a27a041",
   "metadata": {},
   "source": [
    "## Correctly Formatted Data"
   ]
  },
  {
   "cell_type": "markdown",
   "id": "019496cd-a18f-4f1a-97aa-b149f9b1d5d0",
   "metadata": {},
   "source": [
    "Load in the Mismatch Finder example CSV so we can test it to make sure it's valid to submit."
   ]
  },
  {
   "cell_type": "code",
   "execution_count": 4,
   "id": "23b9e067-e5d7-4c01-a9c6-25fefe2d5025",
   "metadata": {},
   "outputs": [
    {
     "data": {
      "text/html": [
       "<div>\n",
       "<style scoped>\n",
       "    .dataframe tbody tr th:only-of-type {\n",
       "        vertical-align: middle;\n",
       "    }\n",
       "\n",
       "    .dataframe tbody tr th {\n",
       "        vertical-align: top;\n",
       "    }\n",
       "\n",
       "    .dataframe thead th {\n",
       "        text-align: right;\n",
       "    }\n",
       "</style>\n",
       "<table border=\"1\" class=\"dataframe\">\n",
       "  <thead>\n",
       "    <tr style=\"text-align: right;\">\n",
       "      <th></th>\n",
       "      <th>item_id</th>\n",
       "      <th>statement_guid</th>\n",
       "      <th>property_id</th>\n",
       "      <th>wikidata_value</th>\n",
       "      <th>meta_wikidata_value</th>\n",
       "      <th>external_value</th>\n",
       "      <th>external_url</th>\n",
       "      <th>type</th>\n",
       "    </tr>\n",
       "  </thead>\n",
       "  <tbody>\n",
       "    <tr>\n",
       "      <th>0</th>\n",
       "      <td>Q184746</td>\n",
       "      <td>Q184746$7814880A-A6EF-40EC-885E-F46DD58C8DC5</td>\n",
       "      <td>P569</td>\n",
       "      <td>3 April 1934</td>\n",
       "      <td>NaN</td>\n",
       "      <td>1934-04-03</td>\n",
       "      <td>http://fake.source.url/12345</td>\n",
       "      <td>statement</td>\n",
       "    </tr>\n",
       "    <tr>\n",
       "      <th>1</th>\n",
       "      <td>Q184746</td>\n",
       "      <td>Q184746$7200D1AD-E4E8-401B-8D57-8C823810F11F</td>\n",
       "      <td>P21</td>\n",
       "      <td>Q6581072</td>\n",
       "      <td>NaN</td>\n",
       "      <td>nonbinary</td>\n",
       "      <td>http://fake.source.url/12345</td>\n",
       "      <td>statement</td>\n",
       "    </tr>\n",
       "    <tr>\n",
       "      <th>2</th>\n",
       "      <td>Q184746</td>\n",
       "      <td>Q184746$417B1AD5-396D-471E-8F9F-D45619EDBE85</td>\n",
       "      <td>P101</td>\n",
       "      <td>Q7155</td>\n",
       "      <td>NaN</td>\n",
       "      <td>Anthropologist</td>\n",
       "      <td>NaN</td>\n",
       "      <td>qualifier</td>\n",
       "    </tr>\n",
       "    <tr>\n",
       "      <th>3</th>\n",
       "      <td>Q184746</td>\n",
       "      <td>Q184746$E347266B-AE85-4D91-84D9-442B28F6C33C</td>\n",
       "      <td>P937</td>\n",
       "      <td>Q170478</td>\n",
       "      <td>NaN</td>\n",
       "      <td>Congo</td>\n",
       "      <td>NaN</td>\n",
       "      <td>NaN</td>\n",
       "    </tr>\n",
       "    <tr>\n",
       "      <th>4</th>\n",
       "      <td>Q184746</td>\n",
       "      <td>NaN</td>\n",
       "      <td>P106</td>\n",
       "      <td>NaN</td>\n",
       "      <td>NaN</td>\n",
       "      <td>primatologist</td>\n",
       "      <td>NaN</td>\n",
       "      <td>statement</td>\n",
       "    </tr>\n",
       "  </tbody>\n",
       "</table>\n",
       "</div>"
      ],
      "text/plain": [
       "   item_id                                statement_guid property_id  \\\n",
       "0  Q184746  Q184746$7814880A-A6EF-40EC-885E-F46DD58C8DC5        P569   \n",
       "1  Q184746  Q184746$7200D1AD-E4E8-401B-8D57-8C823810F11F         P21   \n",
       "2  Q184746  Q184746$417B1AD5-396D-471E-8F9F-D45619EDBE85        P101   \n",
       "3  Q184746  Q184746$E347266B-AE85-4D91-84D9-442B28F6C33C        P937   \n",
       "4  Q184746                                           NaN        P106   \n",
       "\n",
       "  wikidata_value meta_wikidata_value  external_value  \\\n",
       "0   3 April 1934                 NaN      1934-04-03   \n",
       "1       Q6581072                 NaN       nonbinary   \n",
       "2          Q7155                 NaN  Anthropologist   \n",
       "3        Q170478                 NaN           Congo   \n",
       "4            NaN                 NaN   primatologist   \n",
       "\n",
       "                   external_url       type  \n",
       "0  http://fake.source.url/12345  statement  \n",
       "1  http://fake.source.url/12345  statement  \n",
       "2                           NaN  qualifier  \n",
       "3                           NaN        NaN  \n",
       "4                           NaN  statement  "
      ]
     },
     "execution_count": 4,
     "metadata": {},
     "output_type": "execute_result"
    }
   ],
   "source": [
    "mismatch_finder_example_csv = \"https://github.com/wmde/wikidata-mismatch-finder/raw/main/docs/exampleMismatchFile.csv\"\n",
    "df_mismatch_finder_example = pd.read_csv(mismatch_finder_example_csv)\n",
    "df_mismatch_finder_example.head()"
   ]
  },
  {
   "cell_type": "code",
   "execution_count": 5,
   "id": "edb34688-28c9-4fdf-ab63-28261efc98df",
   "metadata": {},
   "outputs": [
    {
     "name": "stdout",
     "output_type": "stream",
     "text": [
      "All checks have passed! The data is ready to be uploaded to Mismatch Finder.\n"
     ]
    }
   ],
   "source": [
    "check_mf_formatting(df_mismatch_finder_example)"
   ]
  },
  {
   "cell_type": "markdown",
   "id": "b7ed5e86-947b-475a-a3b9-583a2dbb39ae",
   "metadata": {},
   "source": [
    "## Incorrectly Formatted Data"
   ]
  },
  {
   "cell_type": "markdown",
   "id": "e7887e26-b9e2-4a08-89a2-0088f9def3ac",
   "metadata": {},
   "source": [
    "Now let's make some changes to the CSV to see what the output will be with improperly formatted data."
   ]
  },
  {
   "cell_type": "code",
   "execution_count": 6,
   "id": "42eb45e4-5317-4e6d-a93a-8a304268cced",
   "metadata": {},
   "outputs": [],
   "source": [
    "df_mismatch_finder_unformatted = df_mismatch_finder_example.copy()\n",
    "\n",
    "# Add in a column that's not required.\n",
    "df_mismatch_finder_unformatted[\"not_needed_col\"] = np.nan * len(\n",
    "    df_mismatch_finder_unformatted\n",
    ")\n",
    "\n",
    "# Remove the Q from the first `item_id` (QID).\n",
    "df_mismatch_finder_unformatted.loc[0, \"item_id\"] = df_mismatch_finder_unformatted[\n",
    "    \"item_id\"\n",
    "][0].split(\"Q\")[1]\n",
    "\n",
    "# Make the fourth `property_id` (PID) null.l\n",
    "df_mismatch_finder_unformatted.loc[3, \"property_id\"] = np.nan\n",
    "\n",
    "# Make the fifth value in `wikidata_value` non-null while the `statement_guid` remains null.\n",
    "df_mismatch_finder_unformatted.loc[4, \"wikidata_value\"] = \"Q18612271\"\n",
    "\n",
    "# Make the third `external_url` an invalid URL.\n",
    "df_mismatch_finder_unformatted.loc[2, \"external_url\"] = \"broken.source.url/12345\"\n",
    "\n",
    "# Change the second `type` value to something that's not \"statement\", \"qualifier\" or null.\n",
    "df_mismatch_finder_unformatted.loc[1, \"type\"] = \"invalid_type\"\n",
    "\n",
    "# Change the third `external_value` to be a string with more than 1,500 characters.\n",
    "df_mismatch_finder_unformatted.loc[2, \"external_value\"] = (\n",
    "    df_mismatch_finder_unformatted.loc[2, \"external_value\"] * 150\n",
    ")"
   ]
  },
  {
   "cell_type": "code",
   "execution_count": 7,
   "id": "838c9072-c994-4665-9ffe-8bc25ebe863c",
   "metadata": {},
   "outputs": [
    {
     "data": {
      "text/html": [
       "<div>\n",
       "<style scoped>\n",
       "    .dataframe tbody tr th:only-of-type {\n",
       "        vertical-align: middle;\n",
       "    }\n",
       "\n",
       "    .dataframe tbody tr th {\n",
       "        vertical-align: top;\n",
       "    }\n",
       "\n",
       "    .dataframe thead th {\n",
       "        text-align: right;\n",
       "    }\n",
       "</style>\n",
       "<table border=\"1\" class=\"dataframe\">\n",
       "  <thead>\n",
       "    <tr style=\"text-align: right;\">\n",
       "      <th></th>\n",
       "      <th>item_id</th>\n",
       "      <th>statement_guid</th>\n",
       "      <th>property_id</th>\n",
       "      <th>wikidata_value</th>\n",
       "      <th>meta_wikidata_value</th>\n",
       "      <th>external_value</th>\n",
       "      <th>external_url</th>\n",
       "      <th>type</th>\n",
       "      <th>not_needed_col</th>\n",
       "    </tr>\n",
       "  </thead>\n",
       "  <tbody>\n",
       "    <tr>\n",
       "      <th>0</th>\n",
       "      <td>184746</td>\n",
       "      <td>Q184746$7814880A-A6EF-40EC-885E-F46DD58C8DC5</td>\n",
       "      <td>P569</td>\n",
       "      <td>3 April 1934</td>\n",
       "      <td>NaN</td>\n",
       "      <td>1934-04-03</td>\n",
       "      <td>http://fake.source.url/12345</td>\n",
       "      <td>statement</td>\n",
       "      <td>NaN</td>\n",
       "    </tr>\n",
       "    <tr>\n",
       "      <th>1</th>\n",
       "      <td>Q184746</td>\n",
       "      <td>Q184746$7200D1AD-E4E8-401B-8D57-8C823810F11F</td>\n",
       "      <td>P21</td>\n",
       "      <td>Q6581072</td>\n",
       "      <td>NaN</td>\n",
       "      <td>nonbinary</td>\n",
       "      <td>http://fake.source.url/12345</td>\n",
       "      <td>invalid_type</td>\n",
       "      <td>NaN</td>\n",
       "    </tr>\n",
       "    <tr>\n",
       "      <th>2</th>\n",
       "      <td>Q184746</td>\n",
       "      <td>Q184746$417B1AD5-396D-471E-8F9F-D45619EDBE85</td>\n",
       "      <td>P101</td>\n",
       "      <td>Q7155</td>\n",
       "      <td>NaN</td>\n",
       "      <td>AnthropologistAnthropologistAnthropologistAnth...</td>\n",
       "      <td>broken.source.url/12345</td>\n",
       "      <td>qualifier</td>\n",
       "      <td>NaN</td>\n",
       "    </tr>\n",
       "    <tr>\n",
       "      <th>3</th>\n",
       "      <td>Q184746</td>\n",
       "      <td>Q184746$E347266B-AE85-4D91-84D9-442B28F6C33C</td>\n",
       "      <td>NaN</td>\n",
       "      <td>Q170478</td>\n",
       "      <td>NaN</td>\n",
       "      <td>Congo</td>\n",
       "      <td>NaN</td>\n",
       "      <td>NaN</td>\n",
       "      <td>NaN</td>\n",
       "    </tr>\n",
       "    <tr>\n",
       "      <th>4</th>\n",
       "      <td>Q184746</td>\n",
       "      <td>NaN</td>\n",
       "      <td>P106</td>\n",
       "      <td>Q18612271</td>\n",
       "      <td>NaN</td>\n",
       "      <td>primatologist</td>\n",
       "      <td>NaN</td>\n",
       "      <td>statement</td>\n",
       "      <td>NaN</td>\n",
       "    </tr>\n",
       "  </tbody>\n",
       "</table>\n",
       "</div>"
      ],
      "text/plain": [
       "   item_id                                statement_guid property_id  \\\n",
       "0   184746  Q184746$7814880A-A6EF-40EC-885E-F46DD58C8DC5        P569   \n",
       "1  Q184746  Q184746$7200D1AD-E4E8-401B-8D57-8C823810F11F         P21   \n",
       "2  Q184746  Q184746$417B1AD5-396D-471E-8F9F-D45619EDBE85        P101   \n",
       "3  Q184746  Q184746$E347266B-AE85-4D91-84D9-442B28F6C33C         NaN   \n",
       "4  Q184746                                           NaN        P106   \n",
       "\n",
       "  wikidata_value meta_wikidata_value  \\\n",
       "0   3 April 1934                 NaN   \n",
       "1       Q6581072                 NaN   \n",
       "2          Q7155                 NaN   \n",
       "3        Q170478                 NaN   \n",
       "4      Q18612271                 NaN   \n",
       "\n",
       "                                      external_value  \\\n",
       "0                                         1934-04-03   \n",
       "1                                          nonbinary   \n",
       "2  AnthropologistAnthropologistAnthropologistAnth...   \n",
       "3                                              Congo   \n",
       "4                                      primatologist   \n",
       "\n",
       "                   external_url          type  not_needed_col  \n",
       "0  http://fake.source.url/12345     statement             NaN  \n",
       "1  http://fake.source.url/12345  invalid_type             NaN  \n",
       "2       broken.source.url/12345     qualifier             NaN  \n",
       "3                           NaN           NaN             NaN  \n",
       "4                           NaN     statement             NaN  "
      ]
     },
     "execution_count": 7,
     "metadata": {},
     "output_type": "execute_result"
    }
   ],
   "source": [
    "df_mismatch_finder_unformatted.head()"
   ]
  },
  {
   "cell_type": "code",
   "execution_count": 8,
   "id": "e2fff2d5-adf5-446a-b56c-189393b615be",
   "metadata": {},
   "outputs": [
    {
     "ename": "ValueError",
     "evalue": "\nThere's a problem with the DataFrame. Please see the Mismatch Finder file creation directions on GitHub:\n\nhttps://github.com/wmde/wikidata-mismatch-finder/blob/main/docs/UserGuide.md#creating-a-mismatches-import-file\n\nDirections on how to fix the DataFrame are also detailed below:\n\n1. Please check that the following columns are present in this exact order:\n    'item_id', 'statement_guid', 'property_id', 'wikidata_value', 'meta_wikidata_value', 'external_value', 'external_url', 'type'\n\n2. Please assure that the following columns have valid ids:\n    - item_id\n    - property_id\n\n3. Please assure that the following columns do not have null values:\n    - property_id\n\n4. Please assure that `statement_guid` is null only in cases where `wikidata_value` is as well.\n\n5. Please check the following URLs in `external_url` to make sure that they're valid:\n    - broken.source.url/12345\n\n6. Please check that the `type` column contains only: 'statement', 'qualifier' or a null value.\n\n7. Please assure that the following columns do not have values over 1,500 characters:\n    - external_value\n",
     "output_type": "error",
     "traceback": [
      "\u001b[0;31m---------------------------------------------------------------------------\u001b[0m",
      "\u001b[0;31mValueError\u001b[0m                                Traceback (most recent call last)",
      "Cell \u001b[0;32mIn[8], line 1\u001b[0m\n\u001b[0;32m----> 1\u001b[0m \u001b[43mcheck_mf_formatting\u001b[49m\u001b[43m(\u001b[49m\u001b[43mdf_mismatch_finder_unformatted\u001b[49m\u001b[43m)\u001b[49m\n",
      "File \u001b[0;32m~/2024_purdue_data_mine/Notebooks/../MismatchGeneration/utils.py:187\u001b[0m, in \u001b[0;36mcheck_mf_formatting\u001b[0;34m(df)\u001b[0m\n\u001b[1;32m    182\u001b[0m \u001b[38;5;28;01mif\u001b[39;00m \u001b[38;5;129;01mnot\u001b[39;00m df_formatted_correctly:\n\u001b[1;32m    183\u001b[0m     value_error_message \u001b[38;5;241m=\u001b[39m mf_file_creation_directions() \u001b[38;5;241m+\u001b[39m \u001b[38;5;124m\"\u001b[39m\u001b[38;5;124m\"\u001b[39m\u001b[38;5;241m.\u001b[39mjoin(\n\u001b[1;32m    184\u001b[0m         \u001b[38;5;124mf\u001b[39m\u001b[38;5;124m\"\u001b[39m\u001b[38;5;130;01m\\n\u001b[39;00m\u001b[38;5;132;01m{\u001b[39;00mi\u001b[38;5;241m+\u001b[39m\u001b[38;5;241m1\u001b[39m\u001b[38;5;132;01m}\u001b[39;00m\u001b[38;5;124m. \u001b[39m\u001b[38;5;132;01m{\u001b[39;00mcorrection_instruction[i]\u001b[38;5;132;01m}\u001b[39;00m\u001b[38;5;130;01m\\n\u001b[39;00m\u001b[38;5;124m\"\u001b[39m\n\u001b[1;32m    185\u001b[0m         \u001b[38;5;28;01mfor\u001b[39;00m i \u001b[38;5;129;01min\u001b[39;00m \u001b[38;5;28mrange\u001b[39m(\u001b[38;5;28mlen\u001b[39m(correction_instruction))\n\u001b[1;32m    186\u001b[0m     )\n\u001b[0;32m--> 187\u001b[0m     \u001b[38;5;28;01mraise\u001b[39;00m \u001b[38;5;167;01mValueError\u001b[39;00m(value_error_message)\n\u001b[1;32m    189\u001b[0m \u001b[38;5;28;01melse\u001b[39;00m:\n\u001b[1;32m    190\u001b[0m     \u001b[38;5;28mprint\u001b[39m(\u001b[38;5;124m\"\u001b[39m\u001b[38;5;124mAll checks have passed! The data is ready to be uploaded to Mismatch Finder.\u001b[39m\u001b[38;5;124m\"\u001b[39m)\n",
      "\u001b[0;31mValueError\u001b[0m: \nThere's a problem with the DataFrame. Please see the Mismatch Finder file creation directions on GitHub:\n\nhttps://github.com/wmde/wikidata-mismatch-finder/blob/main/docs/UserGuide.md#creating-a-mismatches-import-file\n\nDirections on how to fix the DataFrame are also detailed below:\n\n1. Please check that the following columns are present in this exact order:\n    'item_id', 'statement_guid', 'property_id', 'wikidata_value', 'meta_wikidata_value', 'external_value', 'external_url', 'type'\n\n2. Please assure that the following columns have valid ids:\n    - item_id\n    - property_id\n\n3. Please assure that the following columns do not have null values:\n    - property_id\n\n4. Please assure that `statement_guid` is null only in cases where `wikidata_value` is as well.\n\n5. Please check the following URLs in `external_url` to make sure that they're valid:\n    - broken.source.url/12345\n\n6. Please check that the `type` column contains only: 'statement', 'qualifier' or a null value.\n\n7. Please assure that the following columns do not have values over 1,500 characters:\n    - external_value\n"
     ]
    }
   ],
   "source": [
    "check_mf_formatting(df_mismatch_finder_unformatted)"
   ]
  },
  {
   "cell_type": "code",
   "execution_count": null,
   "id": "9eec3276-e2c4-42ce-a680-1413be33efa9",
   "metadata": {},
   "outputs": [],
   "source": []
  }
 ],
 "metadata": {
  "kernelspec": {
   "display_name": "Python 3 (ipykernel)",
   "language": "python",
   "name": "python3"
  },
  "language_info": {
   "codemirror_mode": {
    "name": "ipython",
    "version": 3
   },
   "file_extension": ".py",
   "mimetype": "text/x-python",
   "name": "python",
   "nbconvert_exporter": "python",
   "pygments_lexer": "ipython3",
   "version": "3.11.4"
  }
 },
 "nbformat": 4,
 "nbformat_minor": 5
}
